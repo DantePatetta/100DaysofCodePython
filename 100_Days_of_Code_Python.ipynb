{
  "nbformat": 4,
  "nbformat_minor": 0,
  "metadata": {
    "colab": {
      "provenance": [],
      "authorship_tag": "ABX9TyOlkI19HriHKJ+17QbS9fQi",
      "include_colab_link": true
    },
    "kernelspec": {
      "name": "python3",
      "display_name": "Python 3"
    },
    "language_info": {
      "name": "python"
    }
  },
  "cells": [
    {
      "cell_type": "markdown",
      "metadata": {
        "id": "view-in-github",
        "colab_type": "text"
      },
      "source": [
        "<a href=\"https://colab.research.google.com/github/DantePatetta/100DaysofCodePython/blob/main/100_Days_of_Code_Python.ipynb\" target=\"_parent\"><img src=\"https://colab.research.google.com/assets/colab-badge.svg\" alt=\"Open In Colab\"/></a>"
      ]
    },
    {
      "cell_type": "markdown",
      "source": [
        "# 100 Days of Code The Complete Python Pro Bootcamp for 2023\n",
        "\n"
      ],
      "metadata": {
        "id": "VddLQU5BYdcY"
      }
    },
    {
      "cell_type": "markdown",
      "source": [
        "### General notes"
      ],
      "metadata": {
        "id": "LY7jy378uxXn"
      }
    },
    {
      "cell_type": "markdown",
      "source": [
        "`\\n`   it adds a new line\n",
        "\n",
        "`+`   concatenates strings and variables\n",
        "\n",
        "`cmd + /`   makes the selected lines into comments"
      ],
      "metadata": {
        "id": "4gtZIzM6Yeim"
      }
    },
    {
      "cell_type": "code",
      "source": [
        "# Switiching values a to b and b to a\n",
        "a = input('a: ')\n",
        "b = input('b: ')\n",
        "\n",
        "c = a\n",
        "a = b\n",
        "b = c\n",
        "\n",
        "print('a = ' + a)\n",
        "print('b = ' + b)"
      ],
      "metadata": {
        "id": "H6aGa_euZp2Y"
      },
      "execution_count": null,
      "outputs": []
    },
    {
      "cell_type": "markdown",
      "source": [
        "### Band name generator\n",
        "\n",
        "Create a band name asking the user their born city and pet name. At the end, concatenate those words."
      ],
      "metadata": {
        "id": "G1IcR7srnto1"
      }
    },
    {
      "cell_type": "code",
      "source": [
        "print('Welcome to the Brand Name Generator')\n",
        "city = input(\"What's the name of the?\\n\").title()\n",
        "pet = input(\"What's your pet name?\\n\").title()\n",
        "print(\"Your band name could be \" + city + \" \" + pet)"
      ],
      "metadata": {
        "id": "761PwFZ6ns93"
      },
      "execution_count": null,
      "outputs": []
    },
    {
      "cell_type": "markdown",
      "source": [
        "### Data Type"
      ],
      "metadata": {
        "id": "aOd69YDJtiTB"
      }
    },
    {
      "cell_type": "code",
      "source": [
        "# Adds the digits in a 2 digit number. e.g. if the input was 35, then the output should be 3 + 5 = 8\n",
        "# Use string subscript\n",
        "number = input('Write a two digit number\\n')\n",
        "sum = int(number[0]) + int(number[1])\n",
        "print(sum)"
      ],
      "metadata": {
        "id": "iiuIJSvKtlHE"
      },
      "execution_count": null,
      "outputs": []
    },
    {
      "cell_type": "code",
      "source": [
        "# BMI calculator\n",
        "# BMI = weight (kg) / height**2 (m2)\n",
        "\n",
        "kg = 84\n",
        "m2 = 1.80**2\n",
        "bmi = kg/m2\n",
        "\n",
        "print(int(bmi))"
      ],
      "metadata": {
        "id": "leQDr_6pwHpo"
      },
      "execution_count": null,
      "outputs": []
    },
    {
      "cell_type": "code",
      "source": [
        "# Create a program that tells us how many days, weeks, months we have left if we live until 90 years old.\n",
        "# e.g. You have x days, y weeks and z months left\n",
        "# x, y, z are actual calculated numbers\n",
        "\n",
        "age = input(\"What's your current age?\\n\")\n",
        "time_left = 90-int(age)\n",
        "\n",
        "months = time_left * 12\n",
        "weeks = time_left * 52\n",
        "days = time_left * 365\n",
        "\n",
        "print(f\"You have {days} days, {weeks} weeks, and {months} months left\")"
      ],
      "metadata": {
        "id": "FXC4Gl9mzIdD"
      },
      "execution_count": null,
      "outputs": []
    },
    {
      "cell_type": "markdown",
      "source": [
        "### Tip Calculator\n",
        "\n",
        "Calculate tip according to the total meal price and the total of consumers had dinner. The user must provide total bill and the percentage tip would like to give and the people the bill will be splitted."
      ],
      "metadata": {
        "id": "l_rYe36IqH6t"
      }
    },
    {
      "cell_type": "code",
      "source": [
        "print('Welcome to the tip calculator.')\n",
        "bill = float(input('What was the total bill? $'))\n",
        "tip = int(input('What percentage tip would you like to give: 10, 12 or 15? '))\n",
        "people = int(input('How many people to split the bill? '))\n",
        "\n",
        "tip_calculator = round((bill + (bill*tip/100))/people,2)\n",
        "\n",
        "print(f\"Each person should pay: ${tip_calculator}\")"
      ],
      "metadata": {
        "id": "8OttoDjcqjCy"
      },
      "execution_count": null,
      "outputs": []
    },
    {
      "cell_type": "markdown",
      "source": [
        "### Odd or Even\n",
        "Even numbers can be divided by 2 with no remainder."
      ],
      "metadata": {
        "id": "7zp36xaZwSS4"
      }
    },
    {
      "cell_type": "code",
      "source": [
        "number = int(input('Give a number: '))\n",
        "\n",
        "if number % 2 == 1:\n",
        "  print(f\"The number {number} is an odd number\")\n",
        "else:\n",
        "  print(f\"The number {number} is an even number\")"
      ],
      "metadata": {
        "id": "tneHGxcMwfm1"
      },
      "execution_count": null,
      "outputs": []
    },
    {
      "cell_type": "markdown",
      "source": [
        "### BMI Calculator 2.0\n",
        "\n",
        " Create a script that tells the user their BMI condition according to the BMI value:\n",
        "\n",
        "* < 18.5 underweight\n",
        "* 18.5 - 25 normal weight\n",
        "* 25 - 30 normal overweight\n",
        "* 30 - 35 normal obese\n",
        "* +35 clinically obese"
      ],
      "metadata": {
        "id": "yuHx82WRGWaD"
      }
    },
    {
      "cell_type": "code",
      "source": [
        "height = float(input('enter your height in m: '))\n",
        "weight = float(input('enter your weight in kg: '))\n",
        "\n",
        "bmi = round(weight/(height**2))\n",
        "\n",
        "if bmi < 18.5:\n",
        "  print('You are underweight')\n",
        "elif bmi < 25:\n",
        "  print('You have a normal weight')\n",
        "elif bmi < 30:\n",
        "  print('You are overweight')\n",
        "elif bmi < 35:\n",
        "  print('You are obese')\n",
        "else:\n",
        "  print('You are clinically obese')"
      ],
      "metadata": {
        "id": "qRIUDlrpHpnO"
      },
      "execution_count": null,
      "outputs": []
    },
    {
      "cell_type": "markdown",
      "source": [
        "### Leap Year\n",
        "\n",
        "Check if a year is a leap year or a normal year. A normal year have 365 days, leap years have 366 instead.\n",
        "\n",
        "This is how you work out whether if a particular year is a leap year:\n",
        "\n",
        "> on every year that is evenly divisible by 4 **except** every year that is evenly divisible by 100\n",
        "**unless** the year is also evenly divisible by 400"
      ],
      "metadata": {
        "id": "B0sWuu5VKOS6"
      }
    },
    {
      "cell_type": "code",
      "source": [
        "year = int(input('Which year do you want to check? '))\n",
        "\n",
        "if year%4 == 0 and year%400 == 0:\n",
        "  print(f\"{year} is a leap year.\")\n",
        "else:\n",
        "  print(f\"{year} is a normal year.\")"
      ],
      "metadata": {
        "id": "I4RFHIMvKQof",
        "colab": {
          "base_uri": "https://localhost:8080/"
        },
        "outputId": "6f45c5e7-5fca-462d-d79e-3ec3895abe03"
      },
      "execution_count": 40,
      "outputs": [
        {
          "output_type": "stream",
          "name": "stdout",
          "text": [
            "Which year do you want to check? 2000\n",
            "2000 is a leap year.\n"
          ]
        }
      ]
    },
    {
      "cell_type": "markdown",
      "source": [
        "### Pizza order\n",
        "\n",
        "Based on a user's order, work out their final bill.\n",
        "\n",
        "* small pizza: $15\n",
        "\n",
        "* medium pizza: $20\n",
        "\n",
        "* large pizza: $25\n",
        "\n",
        "* pepperoni for small pizza: +$2\n",
        "\n",
        "* pepperoni for medium pizza: +$3\n",
        "\n",
        "* extra cheese for any size pizza: +$1\n",
        "\n"
      ],
      "metadata": {
        "id": "yqny75j-WmdW"
      }
    },
    {
      "cell_type": "code",
      "source": [
        "print('Welcome to Python Pizza Deliveries!')\n",
        "size = input('What size pizza do you want? S, M or L ')\n",
        "add_pepperoni = input('Do you want pepperoni? Y or N ')\n",
        "add_cheese = input('Do you want extra cheese? Y or N ')\n",
        "\n",
        "bill = 0\n",
        "\n",
        "if size == 'S':\n",
        "  bill += 15\n",
        "  if add_pepperoni == 'Y':\n",
        "    bill += 2\n",
        "elif size == 'M':\n",
        "  bill += 20\n",
        "  if add_pepperoni == 'Y':\n",
        "    bill += 3\n",
        "else:\n",
        "  bill += 25\n",
        "\n",
        "if add_cheese == 'Y':\n",
        "  bill += 1\n",
        "\n",
        "print(f\"Your total bill is: ${bill}\")"
      ],
      "metadata": {
        "id": "ntv8w-3GYDW8"
      },
      "execution_count": null,
      "outputs": []
    },
    {
      "cell_type": "markdown",
      "source": [
        "### Love calculator\n",
        "\n",
        "Take both people's name and check for the number of times the letters in the word TRUE occurs. Then check for the number of times the letters in the word LOVE occurs. Then, combine these numbers to make a 2 digit number.\n",
        "\n",
        "* For Love Score less than 10 or greater than 90: 'coke and mentos'\n",
        "\n",
        "* For love Score between 40 and 50: 'Alright together'\n",
        "\n",
        "* Otherwise: 'Your score is z'"
      ],
      "metadata": {
        "id": "rdwmSFnGavV4"
      }
    },
    {
      "cell_type": "code",
      "source": [
        "print('Welcome to the Love Calculator!')\n",
        "name1 = input('What is your name? \\n').lower()\n",
        "name2 = input('What is their name? \\n').lower()\n",
        "\n",
        "true_count = name1.count('t') + name1.count('r') + name1.count('u') + name1.count('e') + name2.count('t') + name2.count('r') + name2.count('u') + name2.count('e')\n",
        "love_count = name1.count('l') + name1.count('o') + name1.count('v') + name1.count('e') + name2.count('l') + name2.count('o') + name2.count('v') + name2.count('e')\n",
        "\n",
        "love_calculator = (true_count*10) + love_count\n",
        "\n",
        "if love_calculator < 10 or love_calculator > 90:\n",
        "  print(f\"Yout score is {love_calculator} and you go like Coke and mentos\")\n",
        "elif love_calculator >= 40 and love_calculator <= 50:\n",
        "  print(f\"Yout score is {love_calculator} and you are alright together\")\n",
        "else:\n",
        "  print(f\"Yout score is {love_calculator}\")"
      ],
      "metadata": {
        "id": "TxbPpF7AcDdF"
      },
      "execution_count": null,
      "outputs": []
    },
    {
      "cell_type": "markdown",
      "source": [
        "### Treasure Island\n",
        "\n"
      ],
      "metadata": {
        "id": "mLV17WKQj4w9"
      }
    },
    {
      "cell_type": "code",
      "source": [
        "print('''\n",
        "*******************************************************************************\n",
        "          |                   |                  |                     |\n",
        " _________|________________.=\"\"_;=.______________|_____________________|_______\n",
        "|                   |  ,-\"_,=\"\"     `\"=.|                  |\n",
        "|___________________|__\"=._o`\"-._        `\"=.______________|___________________\n",
        "          |                `\"=._o`\"=._      _`\"=._                     |\n",
        " _________|_____________________:=._o \"=._.\"_.-=\"'\"=.__________________|_______\n",
        "|                   |    __.--\" , ; `\"=._o.\" ,-\"\"\"-._ \".   |\n",
        "|___________________|_._\"  ,. .` ` `` ,  `\"-._\"-._   \". '__|___________________\n",
        "          |           |o`\"=._` , \"` `; .\". ,  \"-._\"-._; ;              |\n",
        " _________|___________| ;`-.o`\"=._; .\" ` '`.\"\\` . \"-._ /_______________|_______\n",
        "|                   | |o;    `\"-.o`\"=._``  '` \" ,__.--o;   |\n",
        "|___________________|_| ;     (#) `-.o `\"=.`_.--\"_o.-; ;___|___________________\n",
        "____/______/______/___|o;._    \"      `\".o|o_.--\"    ;o;____/______/______/____\n",
        "/______/______/______/_\"=._o--._        ; | ;        ; ;/______/______/______/_\n",
        "____/______/______/______/__\"=._o--._   ;o|o;     _._;o;____/______/______/____\n",
        "/______/______/______/______/____\"=._o._; | ;_.--\"o.--\"_/______/______/______/_\n",
        "____/______/______/______/______/_____\"=.o|o_.--\"\"___/______/______/______/____\n",
        "/______/______/______/______/______/______/______/______/______/______/______/_\n",
        "*******************************************************************************\n",
        "''')\n",
        "print('Welcome to Treasure Island.')\n",
        "print('Your mission is to find the treasure.\\n')\n",
        "\n",
        "left_right = input('Where do you wan to go, left or righ? L o R: ').lower()\n",
        "if left_right == 'r':\n",
        "  print('Game over!')\n",
        "else:\n",
        "  swim_wait = input('What do you wan to do, swim or wait? S o W: ').lower()\n",
        "  if swim_wait == 's':\n",
        "    print('Game over!')\n",
        "  else:\n",
        "    rgb = input('Behind one door you will find the tresure! Which door will you chose Red, Green or Blue? R, G or B: ').lower()\n",
        "    if rgb == 'g':\n",
        "      print('You win!')\n",
        "    else:\n",
        "      print('Game over!')"
      ],
      "metadata": {
        "id": "YDzQa6BFkN9o"
      },
      "execution_count": null,
      "outputs": []
    },
    {
      "cell_type": "markdown",
      "source": [
        "### Flip the coin\n",
        "\n",
        "Using the random module, write a code that simulate a flip coin with either tail or head."
      ],
      "metadata": {
        "id": "Bbf-w0OcuYUc"
      }
    },
    {
      "cell_type": "code",
      "source": [
        "import random\n",
        "\n",
        "coin = ['Heads', 'Tails']\n",
        "\n",
        "print(random.choice(coin))"
      ],
      "metadata": {
        "id": "mGNF7G2MurQz"
      },
      "execution_count": null,
      "outputs": []
    },
    {
      "cell_type": "markdown",
      "source": [
        "### Banker Roulette\n",
        "\n",
        "Select a random name from a list of names. The person selected will have to pay for everybody's bill.\n",
        "\n",
        "Note: you're not allowed to use the `choice()` function."
      ],
      "metadata": {
        "id": "mmuftZZ5wFZW"
      }
    },
    {
      "cell_type": "code",
      "source": [
        "import random\n",
        "\n",
        "names_string = input('Give me everybody\\'s names, seperated by a comma: ')\n",
        "names = names_string.split(\", \")\n",
        "\n",
        "index = random.randint(0,len(names)-1)\n",
        "\n",
        "print(f\"{names[index]} is going to pay the meal tonight!\")"
      ],
      "metadata": {
        "id": "ibgiG6FFwF3k"
      },
      "execution_count": null,
      "outputs": []
    },
    {
      "cell_type": "markdown",
      "source": [
        "### Treasure map\n",
        "\n",
        "You are going to write a program which will mark a spot with an X.\n",
        "\n",
        "The map is made of 3 rows of blank squares.\n",
        "\n",
        "Your prgram should allow you to enter the position of the treasure using a two-digit system. The first digit is the vertical column number and the second digit is the horizontal row number."
      ],
      "metadata": {
        "id": "DDJK25JiB9HF"
      }
    },
    {
      "cell_type": "code",
      "source": [
        "row1 = ['◾️', '◾️', '◾️']\n",
        "row2 = ['◾️', '◾️', '◾️']\n",
        "row3 = ['◾️', '◾️', '◾️']\n",
        "\n",
        "map = [row1, row2, row3]\n",
        "print(f\"{row1}\\n{row2}\\n{row3}\")\n",
        "position = input('Where do you want to put the treasure? ')\n",
        "\n",
        "vertical_index = int(position[1])\n",
        "horizontal_index = int(position[0])\n",
        "\n",
        "selected_row = map[vertical_index-1]\n",
        "selected_row[horizontal_index-1] = 'X'\n",
        "\n",
        "print(f\"{row1}\\n{row2}\\n{row3}\")"
      ],
      "metadata": {
        "id": "oVLBAw_cB9o5"
      },
      "execution_count": null,
      "outputs": []
    },
    {
      "cell_type": "markdown",
      "source": [
        "### Rock, paper or scissors\n",
        "\n",
        "Make a program that a user can play against the computer where the user can choose 0 for Rock, 1 for Paper and 2 for Scissors. In the same way, the computer have to choose randomly for one option.\n",
        "\n",
        "The rules are:\n",
        "\n",
        "* Rock wins over Scissors\n",
        "* Paper wins over Rock\n",
        "* Scissors win over Paper"
      ],
      "metadata": {
        "id": "EAu4dtJGKwOD"
      }
    },
    {
      "cell_type": "code",
      "source": [
        "import random\n",
        "\n",
        "options = ['Rock', 'Paper', 'Scissors']\n",
        "user_choose = int(input('What do you choose? Type 0 for Rock, 1 for Paper or 2 for Scissors: '))\n",
        "cpu_choose = random.randint(0,2)\n",
        "\n",
        "print(f\"You have chosen: {options[user_choose]}\")\n",
        "print(f\"Computer chose: {options[cpu_choose]}\")\n",
        "\n",
        "if user_choose == cpu_choose:\n",
        "  print(f\"It\\'s a draw. Run again...\")\n",
        "elif user_choose == 0 and cpu_choose == 1:\n",
        "  print('You lose :(')\n",
        "elif user_choose == 1 and cpu_choose == 2:\n",
        "  print('You lose :(')\n",
        "elif user_choose == 2 and cpu_choose == 0:\n",
        "  print('You lose :(')\n",
        "else:\n",
        "  print('Congrats! You win!')"
      ],
      "metadata": {
        "id": "iIceCC21K4Zc"
      },
      "execution_count": null,
      "outputs": []
    },
    {
      "cell_type": "markdown",
      "source": [
        "### Average height\n",
        "\n",
        "Write a program that calculates the average student height from a list of height.\n",
        "\n",
        "`student_height = [180,124,165,173,189,169,146]`"
      ],
      "metadata": {
        "id": "wl3Dv_9RTzM8"
      }
    },
    {
      "cell_type": "code",
      "source": [
        "student_heights = input('Input a list of student heights: ').split()\n",
        "\n",
        "for n in range(0, len(student_heights)):\n",
        "  student_heights[n] = int(student_heights[n])\n",
        "\n",
        "avg_heights = sum(student_heights)/len(student_heights)\n",
        "\n",
        "print(student_heights)\n",
        "print(f\"The average student heights is {avg_heights} for the {len(student_heights)} people you are\")"
      ],
      "metadata": {
        "id": "bFKcUVGdT0dw"
      },
      "execution_count": null,
      "outputs": []
    },
    {
      "cell_type": "markdown",
      "source": [
        "### Highest Score\n",
        "\n",
        "Calculate the highest score from a list of scores.\n",
        "\n",
        "`student_scores = [76, 65, 89, 86, 55, 91, 64, 89]`\n",
        "\n",
        "**Note**: You are not allowed to use the `max()` or `min()` functions."
      ],
      "metadata": {
        "id": "zUc31HyAeyhn"
      }
    },
    {
      "cell_type": "code",
      "source": [
        "student_scores = input('Input a list of student scores: ').split(', ')\n",
        "\n",
        "for n in range(0, len(student_scores)):\n",
        "  student_scores[n] = int(student_scores[n])\n",
        "print(student_scores)\n",
        "\n",
        "highest = 0\n",
        "\n",
        "for s in student_scores:\n",
        "  if s > highest:\n",
        "    highest = s\n",
        "\n",
        "print(f\"The highest score in the class is: {highest}\")"
      ],
      "metadata": {
        "id": "5MeIE8Akey3F"
      },
      "execution_count": null,
      "outputs": []
    },
    {
      "cell_type": "markdown",
      "source": [
        "### Adding Evens\n",
        "\n",
        "Calculates the sum of all the even numbers from 1-100"
      ],
      "metadata": {
        "id": "UQQaKrbqzOva"
      }
    },
    {
      "cell_type": "code",
      "source": [
        "total1 = 0\n",
        "\n",
        "for num in range(1,101):\n",
        "  if num%2 == 0:\n",
        "    total1 += num\n",
        "\n",
        "print(total1)\n",
        "\n",
        "########################\n",
        "\n",
        "total2 = 0\n",
        "\n",
        "for num in range(2,101,2):\n",
        "  total2 += num\n",
        "\n",
        "print(total2)"
      ],
      "metadata": {
        "id": "CgzpAU21zbG-"
      },
      "execution_count": null,
      "outputs": []
    },
    {
      "cell_type": "markdown",
      "source": [
        "### FizzBuzz\n",
        "\n",
        "Write a program that prints the integers from 1 to 100. But for multiples of three print \"Fizz\" instead of the number, and for the multiples of five print \"Buzz\". For numbers which are multiples of both three and five print \"FizzBuzz\""
      ],
      "metadata": {
        "id": "7KenHFR37Kx6"
      }
    },
    {
      "cell_type": "code",
      "source": [
        "for num in range(1,101):\n",
        "  if num % 3 == 0 and num % 5 == 0:\n",
        "    print('FizzBuzz')\n",
        "  elif num % 3 == 0:\n",
        "    print('Fizz')\n",
        "  elif num % 5 == 0:\n",
        "    print('Buzz')\n",
        "  else:\n",
        "    print(num)"
      ],
      "metadata": {
        "id": "93jcezsr7SWM"
      },
      "execution_count": null,
      "outputs": []
    },
    {
      "cell_type": "markdown",
      "source": [
        "### PyPassword Generator"
      ],
      "metadata": {
        "id": "mNYWX7hJ7dnc"
      }
    },
    {
      "cell_type": "code",
      "source": [
        "import random\n",
        "\n",
        "# Based lists\n",
        "letters = ['a', 'b', 'c', 'd', 'e', 'f', 'g', 'h', 'i', 'j', 'k', 'l', 'm', 'n', 'o', 'p', 'q', 'r', 's', 't', 'u', 'v', 'w', 'x', 'y', 'z', 'A', 'B', 'C', 'D', 'E', 'F', 'G', 'H', 'I', 'J', 'K', 'L', 'M', 'N', 'O', 'P', 'Q', 'R', 'S', 'T', 'U', 'V', 'W', 'X', 'Y', 'Z']\n",
        "numbers = ['0','1','2','3','4','5','6','7','8','9']\n",
        "symbols = ['!','#','$','%','&','(',')','*','+']\n",
        "\n",
        "# Prompt the user for inputs\n",
        "print('Welcome to the PyPassword Generator')\n",
        "\n",
        "nr_letters = int(input('How many letters would you like in your password? \\n'))\n",
        "nr_numbers = int(input('How many numbers would you like? \\n'))\n",
        "nr_symbols = int(input('How many symbols would you like? \\n'))\n",
        "\n",
        "# Empty list where the password will be located\n",
        "password = []\n",
        "\n",
        "# Loop that randomly chose items from each list: letters, numbers and symbols\n",
        "for letter in range(nr_letters):\n",
        "  password.append(random.choice(letters))\n",
        "\n",
        "for num in range(nr_numbers):\n",
        "  password.append(random.choice(numbers))\n",
        "\n",
        "for symbol in range(nr_symbols):\n",
        "  password.append(random.choice(symbols))\n",
        "\n",
        "# Shuffle the order of each item in the password list and then convert it into a string by using join() function\n",
        "random.shuffle(password)\n",
        "print(f\"Your new password is: {''.join(password)}\")"
      ],
      "metadata": {
        "id": "MvDTrDI37e84"
      },
      "execution_count": null,
      "outputs": []
    },
    {
      "cell_type": "markdown",
      "source": [
        "### Hangman"
      ],
      "metadata": {
        "id": "GUHFoDsb5rkr"
      }
    },
    {
      "cell_type": "markdown",
      "source": [
        "![Hangman_flowchart.png](data:image/png;base64,iVBORw0KGgoAAAANSUhEUgAAAcgAAAKvCAYAAADuuF+VAAABW2lDQ1BJQ0MgUHJvZmlsZQAAKJF1kL0vQ2EUxn+lIqkKAyYfnSSSkipDB0tVFOnQFCkWuW6rJG29ub2CzcRmEjELjf+giwirSSLxuTCxS7og17kt6iPe5OT55ck57/u8B6rcmlJpJ5DJmkYsPOiZmp7x1D7iwk09vQQ0PaeC0WhEWvjUn6d4icPWi277ro6D5jNzbzO8ut92d5Mf2Pjb/+O4EsmcLvoq5deVYYLDJxxdMZXN68JNhoQS3rY5VeZDm+fKfFTqmYiFhM+FG/UFLSF8L+yd++anvnEmvax/ZLDTu5PZyXHRFqlWIoTxMMIQMdE4wyXmn5n+0kyIJRRrGCySYgFTJoPiKNIkhUfJotODV9iPT6rP3vXvHVY8JVkCu/LUQ8WbvYZCOzRsVbzOJ/nOGJweK83QvjbrKDpz833+MtcVoGbHsp7jUNsFb1eW9VKwrLc8VN/CSfEdbyRkdkjfRiAAAABWZVhJZk1NACoAAAAIAAGHaQAEAAAAAQAAABoAAAAAAAOShgAHAAAAEgAAAESgAgAEAAAAAQAAAcigAwAEAAAAAQAAAq8AAAAAQVNDSUkAAABTY3JlZW5zaG90difx/wAAAdZpVFh0WE1MOmNvbS5hZG9iZS54bXAAAAAAADx4OnhtcG1ldGEgeG1sbnM6eD0iYWRvYmU6bnM6bWV0YS8iIHg6eG1wdGs9IlhNUCBDb3JlIDYuMC4wIj4KICAgPHJkZjpSREYgeG1sbnM6cmRmPSJodHRwOi8vd3d3LnczLm9yZy8xOTk5LzAyLzIyLXJkZi1zeW50YXgtbnMjIj4KICAgICAgPHJkZjpEZXNjcmlwdGlvbiByZGY6YWJvdXQ9IiIKICAgICAgICAgICAgeG1sbnM6ZXhpZj0iaHR0cDovL25zLmFkb2JlLmNvbS9leGlmLzEuMC8iPgogICAgICAgICA8ZXhpZjpQaXhlbFlEaW1lbnNpb24+Njg3PC9leGlmOlBpeGVsWURpbWVuc2lvbj4KICAgICAgICAgPGV4aWY6UGl4ZWxYRGltZW5zaW9uPjQ1NjwvZXhpZjpQaXhlbFhEaW1lbnNpb24+CiAgICAgICAgIDxleGlmOlVzZXJDb21tZW50PlNjcmVlbnNob3Q8L2V4aWY6VXNlckNvbW1lbnQ+CiAgICAgIDwvcmRmOkRlc2NyaXB0aW9uPgogICA8L3JkZjpSREY+CjwveDp4bXBtZXRhPgrq2llXAABAAElEQVR4AeydBZgjN9KGFWZm3nAuzAybZMOwYbjwZsMXujAzM1+Ys2Fm3DAzMzMzp3+99V/5tB2Phzxjd/vT83i6W1j65OnPJZVKQ2UxBAUhIASEgBAQAkJgCASGHuJJD0JACAgBISAEhIAhIILUF0EICAEhIASEQBUERJBVQFGUEBACQkAICAERpL4DQkAICAEhIASqICCCrAKKooSAEBACQkAIiCD1HRACQkAICAEhUAUBEWQVUBQlBISAEBACQkAEqe+AEBACQkAICIEqCIggq4CiKCEgBISAEBACIkh9B4SAEBACQkAIVEFABFkFFEUJASEgBISAEBBB6jsgBISAEBACQqAKAiLIKqAoSggIASEgBISACFLfASEgBISAEBACVRAYtkqcooRA0yGgU9kaPyRDDTVU44WQBEKgFxEQQfYi2Gqq6wjo5dx17HqqJD9aNC49ha7qbQYENMXaDKMgGYRAARFIyVEafgEHUCK3i4A0yHYhUoZGIXDvvfeGO+64I3zyySeNEkHtJghAiBDhsMMOG6aeeurQv3//MN100yU5dCsEyoXAUPELn5WrS+pNURH466+/wtBDDx3ef//9sMsuu4S33norLLDAAmGiiSay+KL2q0xyQ5K//vpreO2118Kzzz4bVltttbD33nuHYYYZpkzdVF+EgCEgDVJfhKZAgN9pkCPa4rrrrhvmnHPOcPLJJ4dxxx23KeSTEH9H4Lnnngvbbbdd+Prrr8Pxxx//9wyKEQIFR0AaZMEHsGziDxw4MPz555/h3HPPrXQN8kzXuyoJuulVBKqNAz9oll9++bDrrruGddZZp1flUWNCoKcRkJFOTyOs+msikM7wv/DCC+Hxxx8P++23n5VhypUgcjQYGv4nPw6M3YQTTmhaJD9ofLwaLqgEEAJ1QkAEWScgVU3XEEhfuqxpTTbZZKFPnz5WGVOuCs2LgI8d68RMs3700UcVYdMfPpVI3QiBgiGgN1DBBqzM4n7zzTdh7LHHLnMXS9m30UYbzSxbf/jhh0r/nDwrEboRAgVEQARZwEErs8jSGoszuq4lQobc+9gx1eppxemNJBUCf0dAVqx/x0QxDULAX7ANal7NdgOBdJuHxrEbQKpoUyEgDbKphqO1hUHz0NRc8b4DjFlea5QGWbxxlMR/R0AE+XdMFCMEhIAQEAJCIIgg9SUQAkJACAgBIVAFARFkFVAUJQSEgBAQAkJABKnvQNMgwLpVs61duTzp1e9T4NI47lmTwyNQGk9+4tLga3f5vMSnwfMRl68zzdeb922tFyNfW2m9KZ/aEgLdRUAE2V0EVb7UCPiL3q+///574FMrkJcPlp1ezkkNC0+/dyIhD/GeFzJM89FWahlKPq+jlhxKEwJCoHsIaJtH9/BT6Toj4CRR52q7Xd3HH38cjjnmmPDII48YWS299NLmYu3tt98ORx11lMUNN9xwRnK+Yf5f//pXWHjhhcPNN98crr322rDvvvuGSSed1GR5/fXXrdzPP/9sz2iQHB213nrr2ab7Qw89NPz4449hhBFGsLp/++03O0Vjyy23DEsssUSFTLvdMVUgBIRAmwhIg2wTGiX0NgLNphm5loZGt9tuu4XbbrstbLTRRmHllVcOp5xySthpp51MS5x44onDeOONFx588MFw3333GQkSB7kRINAzzzwz3HDDDRVIcfJ98cUXGxlOMcUUYZJJJgk33nhjWHPNNcNnn30WJphgAqvn6aeftnieyeN1VirSjRAQAj2GgDTIHoNWFXcWAZ9y7Gy5nsrv2uy7774bHnrooXDccceFlVZayZqbfPLJw6WXXmpEduSRR1oc2uBXX30Vjj766IpIDz/8cPjiiy9Cv379TIscMGCAkRx1jz/++Hbu5Ywzzmj5X3nllbDYYouFb7/9Nhx88MEW98cffwRIMq2zUrluhIAQ6FEERJA9Cq8q7ywCrrV1tlxP5h9nnHHMiToa44svvhgWWmihsMwyy4QVVlghjDTSSLYeCOFxkDBTod4H4i677DKbOuVQ4WWXXdbIbv755zdxWcv8/PPPw3fffWfTqbfffnsYffTRQ5//OmsnE/XxSdclnbh7ss+qWwgIgbj2LxCEQLMgwIu/GV/+kBZTpIsuumi4/PLLw1prrRXmmGMOI7/UuCbFkX6gOd511112+DPa4lhjjWXrkeQjnRMwWFPs27evaY7bb7+9XVmL9IChT+rGzfFxEvZ8ugoBIVB/BKRB1h9T1dgNBJrpxY8sEBJa3pdffhnOOussu3///ffDeeedF/baa68wzzzzhFlmmcV6TF4nMCKYln3ttdfCoEGDwnXXXWd1sA55wAEHGOlBvJx9+Y9//MPKX3nlleHss88OGP5MOeWUFgcBVyPhtB3LqD9CQAjUHQERZN0hVYVlQcBJiGnV/v37h7vvvjvMNddcZpDDsVyQJGuOHpzcnVgvvPDCsNxyyxmRQnKQ5XbbbWdaJUdEYXADuc4000xWBXk4eJhjv9JAfUyxpppkmq57ISAEegYBEWTP4KpaS4TAvPPOa9Or66+/flh99dWNqK6//nqLm3XWWSs9hcRYL3QyZHsH2iNaJmH22WcPJ598crjooovCVlttZWuWP/30U6U8hEwdr776qk3hkkA6a5VOvpXMuhECQqDHERBB9jjEaqCoCLgmOPLII4fzzz/fyO3xxx83glxllVXCFltsYeuKnm+11VYLvq8RosQSdZFFFrHukwcNkCnV9957z7Zw7Lnnnmb84/hgGbvLLruEMccc06MCdS6wwALSHiuI6EYI9B4CQ8V/3Kz3mlNLQqBtBNhbCAExdVm04FamyM2m/3Q61Am0s33qarnOttPd/OzphMiZHp5++ukrVr3drVflhUCjEZAVa6NHQO2XAgGmVT2k5Eicr2V6ekevXS3X0fqVTwgIgdoI/O+/unY+pQoBISAEhIAQaCkERJAtNdzqrBAQAkJACHQUARFkR5FSPiEgBISAEGgpBESQLTXczd3ZohilNDeKjZdOa6eNHwNJUB8ERJD1wVG11AEBvVjrAKKqEAJCoG4IiCDrBqUqEgJCQAgIgTIhIIIs02gWvC/DDjus7SEseDckvhAQAiVBQARZkoEsQzcmnXTS8M4775i7NvrjPiz8WoY+Fr0P6VjgHIGA83biOTRaQQiUCQERZJlGs+B94QipH3/8MXDIcBq0Npmi0bh7SJCxcJL0ceGkEjzo4MCdNE9vnKRqWQjUBwERZH1wVC1dRCB9mU488cRhwIAB5o/0o48+6rIHmi6KomLtIODk6MTI9dZbbw1XXXVV2HnnnYconY7rEAl6aAACaPr/r+03oPFCNylfrIUevuIL7y9Sf/nSox133NG0SM5b7NevXxh++OHtlItG99Zl7agcTiSeP++C7o8//vCkDl3z9XWoUB0z4U7Pfc5yJBdnV+I3l/MtOUQ6DWDVaHlTeVr7HnIc6r+f1kais70XQXYWMeXvMQTSlyov3nPOOceOeuI0jSK+bJEZQsH4iHs+HF3lfckTrsf3GMDdrNjHB2L//vvvAxo/J5LMP//8Nq3a7PJ3s/sq3oIIiCBbcNCL0uXvvvsuPP/88+HLL78sishDyAmhoHWhOXLGI6S/9957BwifwKkfaWh2gnGChPAnmWQSO+g5rxWn/dG9ECg6AiLIoo+g5C8EAi+88IKt07FmpyAEhEAxEJCRTjHGSVIWFAGfRv3pp59MY8RKl+DxReyWy56/FrEvklkI1EJABFkLHaUJASHwNwR8Kjh//VtGRQiBgiMggiz4AEp8ISAEhIAQ6BkERJA9g6tqFQJCQAgIgYIjIIIs+ABKfCEgBISAEOgZBESQPYOrahUCQkAICIGCIyCCLPgASnwhIASEgBDoGQREkD2Dq2oVAkJACAiBgiMggiz4AEp8ISAEhIAQ6BkERJA9g6tqFQJCQAgIgYIjIIIs+ABKfCEgBISAEOgZBESQPYOrahUCQkAICIGCIyCCLPgASnwhIASEgBDoGQREkD2Dq2oVAoZA6q/UnXuT4PGCSQgIgeZFQATZvGMjyYSAEBACQqCBCIggGwi+mhYCQkAICIHmRUAE2bxjI8mEgBAQAkKggQiIIBsIvpoWAkJACAiB5kVABNm8YyPJhIAQEAJCoIEIiCAbCL6aFgJCQAgIgeZFQATZvGMjyYSAEBACQqCBCIggGwi+mhYCQkAICIHmRUAE2bxjI8mEgBAQAkKggQiIIBsIvpoWAkJACAiB5kVABNm8YyPJhIAQEAJCoIEIiCAbCL6aLhcC7muV619//WWftIf4X019sP7yyy/By6T5dC8EhEBzICCCbI5xkBQlQADyg/CcBE8//fRwxRVXWM9GGmmkMPTQQ4cRRxwxfP/99+Goo44K9957byVvCbqvLgiB0iEwbOl6pA4JgQYi4OQIGU4++eRhjTXWCOeff37o27dvQGM87bTTwkknnRT++OOP8MADDzRQUjUtBIRAewgMFX/xZu1lUroQEAKdQ8D/rVZbbbVw7bXXmvY4zDDDhN9//90qOuWUU8LWW2/duUqVWwgIgS4jkM7udLQSTbF2FCnlEwKdQABNks8OO+wQRh55ZFuPRGskzDnnnGGttdbqRG3KKgSEQHcR8NmdztQjguwMWsorBDqJwKKLLhqWXnrpIUoNHDgwjDvuuEPE6UEICIHmQ0AE2XxjIolKhAC/WrfddlszzmGKZ6aZZgrrr79+iXqorgiB8iIggizv2KpnTYIABjorrbSSScO642ijjdYkkkkMISAEaiEgK9Za6Cit1xHIL6T//PPP4auvvvrbnkIEY69hrYAlaRray5/mrcc97dPm8MMPH1ZZZZXwxhtvhPnnnz988MEHth2kt+Vpr095vNrKj7HRRBNNpC0qbQGk+NIgICvW0gxluTry5ptvhlNPPTW8+OKL4Ycffgi8lPPBLUXz8R197g2CgnSYZv3zzz/Dt99+G8YZZxwjzWptd5SgOtq/eudzmZETLXiZZZYJm266aRhllFHq3ZTqEwJNgYAIsimGQUKAgGuP1113Xdh3331N21p55ZVtP+Fwww3XrsaYRzFPoHkrtnx6e+Xz6e090x4fb2fYYYe1/Y/+3OyEmO+fy81+zueff96cIKDhn3nmmWHqqafOZ9ezECg8AiLIwg9huTpw//33h8033zwceuihYdVVVy1X50rWGwhzzz33DA899FC48sorw3jjjVeyHqo7rY6ACLLVvwFN0H9etGhaaCMrrrhiYHP9Ntts0wSSSYSOILDmmmuGmWeeOey3336WnanYomnHHemn8rQeAkNaMbRe/9XjBiIAMfq0HWI8/vjjtk63wQYbNFAqNd1ZBFiHvPXWW+0HDmVFjp1FUPmbFQERZLOOTAvI5WuCfsXKc8oppwyjjz56C/S+PF2cfvrp7YfOp59+Wp5OqSdCICIggtTXoKEIODkiBFOssohs6HB0qXFOKmEcf/vtNyufzgp0qUIVEgJNgoAIskkGQmK0j0CtF286XdtWvnx8/tklaCve02td2ytLev5DfV7O09K4au15/mppaVnfmtFevrbSva5a7ZGmadVaCCqtqAjIUUBRR67F5E4NPx599FE7IeOzzz4LTO9tsskmQ1hQplopL+/0OYWNeE/3K+nEp+2lZfze85MPJ+Rs4YAkvK1a5dN2vT4v52nU7214Hn/mSvDn/D3PXg8yvfrqq+HJJ580B+nImZYn3Z+9XFpf2gbxbYW0jrbyKF4IFA0BaZBFG7EWlJeXr2so5513nrlte+6554wELrzwwrDsssuGt99+uyoyTjwkpvee2eP8SnzanufLXz3/jTfeaL5W/aQOz+fy+rNfvZxfPZ5rSjKkex2QLcHLcCXOn9M06vB6PP2JJ54Ihx12mDkr8Lykef1pHPcEL+vX/4/VXyHQWghIg2yt8S5cb1NN7JVXXgl77723EdI+++xjffnkk0+MIM8555xw0EEHWRwa09133x1mmGGGwGkaeOGBUFkre/fdd41Ml19++TDJJJNY/i+++CLcdNNNYYQRRgjLLbdcGGOMMSwfLu7YFP/TTz+FJZdcMqC5Pvzww6at4sAAgrntttvCHXfcER588MGw+OKLm1u8m2++2dzLUQbPOR4gLgiHeq+//vrw3XffhSWWWMK2SHgaefEc9MILL4Sxxx47PPXUU2HttdcOH374ocmIR55+/fqFaaedNqBB0x+Mmu69997wj3/8Iyy00EImF+uBWJaiMf7444/Wdye7O++80zTK+eabL/Tt29dkQv6JJ57YcKIMslPn+++/H8CKtHxwmZ2Q8+l6FgKFRyB+uRWEQFMgcNJJJ2UbbbTRELJEQqg8R9dzWfQBmsVDhytx3ESCy9566y2LixvWs+jVJYtHTGVx+jWL+yktfuONN84mnHDCLBJCFvfsZfPOO2/2+eefZ9Fy1u4XWGCBbI455sgWXHBBq+/cc8/NxhxzzGyaaabJDjjggOziiy/OJp100iw6L8hmnXXWbIUVVsgiEWeUG3XUUbNIzlYX5SNJZZF87PrOO+9Y+94P2qQM6dGBeTbllFNmkcwtj/+JXmqySIAmP/2I5J7NPvvsWST7LBKqpb388svZ4MGDTcbZZpvN+hU36meXXHKJVRO3ymR9+vTJItFlxCPXr7/+mu21117WD9omPe5dzKJxlNVL/8hPPPjMM888WfyRkUVCziKpW73xB4uLWbl+/PHH1ifwIFTLU8msGyFQIAQ0xVr4nzit0wG2gUw33XSmEaJZ7rzzzuZYYMsttwxMvaJRHXXUUSGSrGlbJ5xwQrjqqqvCs88+ayDhDo0p0UgiphmhaR577LFhrLHGsvxofpFEwhlnnGHaJJon6bi9+/rrr8Nuu+0Wrr76ant+4IEHTMNj/TMSa9hpp53CiSeeaIcjk+eaa64JkcjD2WefbW37dOZHH31kLvRIP//8883p9z333DPEIOLc/PvvvzfN8YYbbjANEO302muvDUwpox2iWaLpoeEeccQRgTqWWmqpcNddd4Xbb7/dNFv6ihbZv39/m5J95plnTJ6zzjrLNNhDDjkknHbaaaadgieO1NEuwe/111837GgTbfa1114zGV0LHUJgPQiBkiKgKdaSDmxZupW+kKNGZ0QVf4DatGDUcswHKIQwaNCgELU6OykD8rnlllssz4gjjhiihmNwRI3ItpFAiFGbNOKJGp45RMd7D/Wylw+n4qwp4h2GOgmLLLJIOPLII0PULI1E8Q2LbBAf056QFkTMlCdTosRBqkzfurzUM9lkk4UJJpjAvAVRHmfsTOsSICnqg1ijVmp5IMuppprKnINDgEwDf/nll0aOtEk/Fl54YSvPtKv3B+Mlzp4kMF3KjwFkYxsNU7QE8GA6melb2qGPBOL4IYKsnDyCnGzBURACrYaACLLVRrzA/Z1rrrnC4YcfbkSE1rbWWmtZbzBC4cUPGaJV4dklTikaAT722GNGdBdccIG96CkACfHSJy9X8sapRyM+vPmwdonRD2l8WMPDPyxEhdaHJrbLLrtY2xAhZAnBQF6QDNokhAJhxmlLq8NJEk0Xre24444Ls8wySxg4cGBl/6BrmWiuyOaGP+RFkzv55JPDuOOOawTs/UjzQbDIixyQswcnfOqFVCFg7pGRDydzeNuU8Xa5p3/54ESej9ezECgbAppiLduIlqw/vPA9MM2IUQvEyDQpmiNkxD0EFNfzbLqTeAiA6UamOCFOiMBf/JAEU5OUQZuCyDD2QcOK66BGlJAAREIepl3Jj9EMZMkUKtO5HMmFpofWBklzKDIEixbq070Y+KSB8pAaWixyPvLII6bBIZMH7snn8nLvPwAw7mG6k7bpEwY9HpAXMkSjpH2mUJkyhWCRY84557R2mSrG2AijJrTOuM5a0Zqpiz7TX79HHvBQEAKthsAw+8fQap1Wf5sTAbQ91ug4XLhaQFPrG60umTK96KKLbN1w5JFHNstWpl+jQYuRA+txnCXpJIGmBvmhAUISEA/TikwxQmpMWR5//PF2KgXrb3yIQ6tabLHFjJyYFoWIIV2mLLGAxRqV6VRIkfxolVimQrKDBw82rRO/spC1B6YuOSoK+amf9UGsc7EodYtXyIy6aQdSRm6IlPVHDipmShZS5wcDRIaVKdjQX7TB1VdfPfTp08fWUt26Fgw4HYUr09GXXXaZtccaK3VC8mjlECZtUx9TupAu2PFDAgw8pD9cIGnqY9y8D2m6l9FVCBQNAZ3mUbQRK7G8TCGiiZ0XpyHbC64RollBNGg9BF7M3GPkAnmirRGI85c29/7scWhp1MNWEA/k8UA+16rQSAlolkxnQrhoWEyzEqiL/LTvwdvzZ0gwddGGnGk/vG3iCNRPvRAggTZJS8tYQvzjfUI+yqV98rI+tcqzt8U9ZSlDvemVeD75flAG7Zs1XMaNHwDV8pBPQQgUDQGtQRZtxFpcXn/55l/6/vIGHu7d4bnnJy4NTjweB9F6oAwhLQNZODE6cUCO5EVDdCJmzc7r8nq8Ln/mmpInxOpp3ibPfk955HVy5Nnb494D+b0ersiXBk+jLHV5G2k75Hds8lfSPK+XJU5BCJQVARFkWUe2pP3yF3S17lVL62hcWl+1Mk4W5Evv83nT6dR8mj/7ta02IWAPTkR+9fj0mtbn935tKx/x1fKk+Wvdd6dsrXqVJgSaCQERZDONhmQpHAIQF6EWYZDH8+U76OX8SnpKwG2Vy9ejZyEgBOqPgKxY64+pamwRBCAviI2PExlXv3cYPA/El/94GnnRHLEYxcCIfYsE0tOrPeiPEBACvYKACLJXYFYjZUTAyYu++X1KeGmfPT2Ny99DnpAkHnncc00+j56FgBDoPQQ0xdp7WKulEiGAFSp7EtkGwjYJ9jTigYbtGmh/OPlmmwZO0tnkz9rkuuuua55/cELAPkasUrEmZV/n/fffb87QcTgOSeYNbEoEnboiBAqDgAiyMEMlQRuNgE+pckXb23333QOnirAvceONNw64voMM8QeLZSpOBNZZZx3bb8n+yOhI3dI5mxEPOtGJeBgwYEDAy88ee+xR8dGKowHfMtLoPqt9IdDKCIggW3n01fcuIQBBsuWDjfQ4CcAJOprgO3GzPZrh008/Hfbcc09bS0SLxJsPWiEebvDlipYJwV5++eXm1g7nBdtvv70RLvWtuOKKlr9LwqmQEBACdUNAa5B1g1IVlR0BX0f06xLR7R1ecTh7ko3y7G3kRBC80DBVyvSqOyKHEOeee+7w3nvv2Sb/ySef3DzXsMkeh+bucDwepRXGH398c0JQFDzpG8GNkxyfosgvOYVAWwiIINtCRvENQaAIL1eXEVd133zzjU2RrrHGGkaAhx12mLlrQ6tEy0Sr9AA54rycAKngDQenAjg9wFUdATdvuG7zNiAdJx7L0MR/UjnT+yYWWaIJgZoIaIq1JjxKFAJtI4CTbzTBwdHvKhojJIcfVtYiMbLBJyo+XvHqA/Hha5a1RogSEsTPKeuQTNVy5iTrlJzfCKm6pxyI0knSSbNtiRqT4id+pE4SGiOJWhUC9UVABFlfPFVbiyGw1VZb2fToxBNPXDnqyqdVt912W9MEL730UtMSOebK1x9xiA6hQHoHH3ywHeOFL1OmWg888MBAfR6cJP252a5O3NIam21kJE93EZCz8u4iqPJ1QwDt66mnnjJDlrpV2oMVQQhODvlmMMrxtTmmUp0M03xpHuLRxFwL87r9mpZrtvu8s3LkK4LczYaj5Gk+BKRBNt+YtKxEEAov1qKEPDmmsqdpPl2a75cTqMc7OfLs5f3qeZrx6v3wayp/M8ormYRARxGQkU5HkVK+uiMAoaSkgrEK2yUUioUAY4Y23NYPgWL1RtIKgf8hIIL8Hxa662UEIEc0JCdJDut9/fXXzVill0VRc11AAFIkuN9YDncm+Hjag/4IgQIjIIIs8OAVXfR0So6+sG1irLHGChdeeGHRu9YS8vv4nXnmmWHZZZc1a11IswjTwi0xQOpktxEQQXYbQlXQXQRci2Tf4P777x9OPvnkcNVVV3W32l4vTz/ST68L0IAGcbf3+eefmycgmhc5NmAQ1GSPISAr1h6DVhV3FgGfcr3mmmtsXyD7CVdeeeXAfkPWt3y/XWfrrVf+9qYO8+SAhoXMxHNPH7BoRcvyvnZGtvba70xdXc2LIRGO2p955pkwaNAg6wuu9Pr06dPVKlVOCDQtAiLIph2a1haMEy/YN/jss8/apvpmIIe8DHlCzI+YEySk8v3334fPPvssTDHFFJWtHO2V9zU+r9enNP25t6/ef/ozzjjjhH79+oVNNtnEXOx5Wnt96m2Z1Z4Q6A4CIsjuoKeyPYIAL1t/0WIhiTu3ZgguU1uyOEl4OgQHmaA5sr/zgAMOMLd0Y445pnnRyef3cm1d22u/rXL1ioeg6RP9wSDHCdvHy6/1ak/1CIFGI6B9kI0eAbX/NwRSImDrB5+iB9zNObFgiFSm4OPl1zL1TX1pbQRkpNPa46/eCwEhIASEQBsISINsAxhFC4HOIpCfMk01KtL801a9+fL5fGl9+TQ9CwEhUH8ERJD1x1Q1tigC7RGYW68CD2SYz59/blEY1W0h0DQIaIq1aYZCgpQdAYxanAT9WvY+q39CoMgIiCCLPHqSXQgIASEgBHoMARFkj0GrioWAEBACQqDICIggizx6kr0wCPiewcIILEGFgBAIIkh9CYRALyCQ94rTC02qCSEgBLqJgAiymwCquBAQAkJACJQTARFkOcdVvWoyBGS12mQDInGEQAcQEEF2ACRlEQLdRUAE2V0EVV4I9D4CIsjex1wttiACv//+ewv2Wl0WAsVGQARZ7PGT9EJACAgBIdBDCIggewhYVSsEUgQ0xZqioXshUAwERJDFGCdJKQSEgBAQAr2MgAiylwFXc62BgJ/M4Vd6rb2QrTH26mV5EBBBlmcs1ZMmQgAyfPTRR8MPP/xgUg0zzDB2HWGEEez6zjvvhOeee87uUxK1CP0RAkKgKRAQQTbFMEiIsiDgZAchDh48OCy99NLh+uuvD7/88ksYbrjhwrvvvhuOPvrosOqqq4Zvv/3Wuq31ybKMvvpRNgSGiv/QWdk6pf4IgUYhwL+TE97HH38cFlxwQSPF2WabLXz66adhrLHGCi+99FJYf/31w4UXXtgoMdWuEBACHUBABNkBkJRFCHQVgaOOOirsuuuuQxQfc8wxw5133hnmmmuuIeL1IASEQHMhoCnW5hoPSVMyBDbZZJMwwwwzDNGrNdZYQ+Q4BCJ6EALNiYAIsjnHRVKVBIFxxx03bLXVVpXejDrqqGHbbbe1Z6ZjtcJRgUY3QqDpEBBBNt2QSKCyIYDG6Fok97POOmv4888/RY5lG2j1p3QIiCBLN6TN2yG0pVbcCzjxxBOHbbbZxgx0dtppJxsgrFw5RNkNepp31LovmTTl7mOoGhqDwLCNaVattgICkCEkQOAlCRk4ITz++OO2DeK7776rxJUNE+8zGHzwwQdh5JFHDpdcckkYdthh7YeCY1O2fnt/Jp100rDMMsuEKaaYQtqyg6JroRCQFWuhhqu4wjpZvPnmm2bVyX7AGWecMWDR2ZZWSZk0OLmmcUW4p3/DDz+8fX799dfAyR5OkkWQv6sy8qOA8V5llVXC3nvvHdxJQlfrUzkh0NsIiCB7G/EWa8+JkW6//vrrYe211w5LLLFE+Pe//x2YelQoNwJPPfWU/SCaYIIJwkUXXVTa2YJyj2Lr9k4E2bpj36s9xyhl5ZVXDnPOOWc46KCDKm27llhU7bDSEd20iQDT6KuttlpYaqmlwm677dZmPiUIgWZDQEY6zTYiJZLHyY8usTH+q6++CjvvvLP1kGlHTxc5lmjQc11hjEcfffSwzz77hGuuuSZ89tlnlsPHPpddj0KgqRAQQTbVcJRLGIjPX4T33HNPmGeeecIYY4xhcW7B2R1ypO70Uy70it8bxsbHd/7557f7F154ofgdUw9aBgFZsbbMUDe2o99//32YaKKJhhDCyXOIyBoP/rJtK0v6Qq6Wp7PtVatDcR1HwMcL3DFKGm+88WwWoeM1KKcQaCwCIsjG4l/61tOXpHfW4/xKvJObkxhpHufp6TNxaXmeCV7+/5+G/Fstf5ojXz9p+bi0/lTGfL603vbuvc6OyEdd3c3Xlqwe79e83B2VM1+OZy9bLU1xQqBZEdAUa7OOTAvIxZmI7IdkXcpf+lzTe3+xpvEpNJ5OHOuaaT6/96uXS8t4HFfifW2Uez6U9bS0nMdzTfNZ5k7+ycvnxb09ZCLUyud528r3448/Bj6ENO9vv/0Wfv75Z4tvry/59jnC648//rCyjlu+fkvUHyFQUAREkAUduCKK7S/mt99+26waF1100bDWWmuF+eabLxx33HF/2w9Jfl7KHvwl7PV4vF/b23jv5ZwIvNyLL74YbrnllgoBORGk+dKyqUzUkebzOjtypU7/VMuftkPf8/33suRL83pdns4zlsNHHHGEJYETdRFuuummMHDgwAp5VqvHMsY/1JeGvfbaK5x22mmVKMqSx68keDuVTLoRAgVCQFOsBRqsoovKOhRhgw02CLhau+yyy8z92h133GEbySeccMKw7rrrVrqJZjPiiCNWvPHwYucFzJYRXrxsvk9f6OSnXo/Pv5y9/A8//GCb1slHuPnmm22PXt++fcNII41kcWzop27PU418aQ958JBDcHL46aefTGZkrxVogzzI6fdpftfsXCbq54MstEE8MqLFObZpedKomytnUXJgM4FtF1iWErAsfuuttwxTnsEWzRC5wNIxpE3uaYsN/8jx/vvvV/AinXKOvcsONuT1emhDQQgUBQFpkEUZqRLIyQv6iiuuCO+9914488wzwwILLGBOvDnd4sgjj6xM1/Hi5ZioeeedNyy33HLhkUcesd7vueeeYYcddgjLLrts4ADiY4891uJ5aR9yyCFWHwcUUzcB7WjTTTe1/ZekM6W76qqrhkUWWcQOMubAYrTZc845J7zxxhtWHy9yNK2FFlrI8p1xxhlWV/qHF/7RRx9teZBxyy23DJ9//rl5yGE7A3GUP/744wNTmASfijzppJOsb/379zcZeEZGHJj/61//MuKjDBof9bBvFP+tEM7TTz9tPy5ojzTqQH76i+MF5CIcdthh4YADDrB7/zPaaKOFZ5991vCk7O67714hT8pBhg8++GBYeumlTa7FFlss3HXXXUbGnGcJ7v369TN5TjnlFKsWUvYfDuDLqSVffPGFtU//GYsDDzywgoHLoqsQKAwC8Z9DQQj0OALx5ZmdcMIJWdwoni2++OLWXtRWsvgSzqJ/0ixqcVn0upJFgsqiazL7PPTQQ9kuu+ySzTHHHFkk1WyllVbKoiVkFoktO/jgg7Pxxx8/e/nll7NIYtnMM8+cRU00O/fcc7PoAzR7+OGHLV/8R8ziFGL26quvZpFosrhhPXvyySezfffdN4uu7rKoPWU77rhjFk/byOIWBKuL+0iuVr5Pnz7Z9ddfPwQ+DzzwQDb99NNnN954Y3b33Xdn5KEP9GWsscayvlx55ZVW52OPPWZlI0Hadeutt86idmbtgAXyxR8I2VVXXZXFo7GywYMHZ/R76qmnzuLe0SxO/Vo/kYG6yB8J1fqKnHGas1L2ww8/zKJmae2CdRqis/Qsao1ZJNNs0KBBhqPfRyLLvvzyy2yFFVbItttuO8Nn4403ziJJZnHd0sZrkkkmyeKPG2svWiMb7nEmINtvv/2y+EMlm3LKKbP7778/u++++0zeCy64wHCLxG+4IAvjRx0ExllBCDQ7AtIgC/NTphyCMjXo05ZMKzLNeuKJJ5oWtccee9h0XySdEAnCHHzjji6SYGD/HBoL2tb6669v2hZTffh0vfTSS0N8QYdvv/3W8jCleNttt9nU4jTTTBPQAqebbjpba/vnP/8ZcH/2yiuv2LobGlAk18D07kwzzRQiedg907Dxn9emJW+44QYD36cJ0fbQXmkvkplNU6LhsceTPJEcTY5IelY3ca5pMYW5/PLLh80228w0QNpFM8bTDE690WTnmmuugGb5ySefhEcffdQ0MOpHs6SfRx11lGlz+Dh97bXXTFPDlRtT1Rg94esVr0VpII42WG9cZ511TJNGYwRT8EK7RwtEu6YOtG3Gh/ECB+TlqK5I8DbFGgnVpldZg8T5QyTksPDCC1safY2EHsAw/mAJrDW7Bp3KpHsh0OwIaA2y2UeoRPLxwp188slt6g5ygVCYhmQtjSm8559/3qYSme6D+MjDy3vzzTc38oAgRhllFEMEoiEf6VhnQiC33nqrvcwhIAx/PvroI9t75wR19tln23ojU4wQCu3y8kcuCIT2aIN7SJpyUdsNfePaJMFJLmpyNqUJobEBfpxxxrH1N4gNbzGQAi7VkPWss84KUQO28vyhPRy0E2iHtT5+MNAf2vOpzu23395InSlWcKKf5OFHgf/AsEriH0iWKU0IkgOaKdOnTx9Ptitl03LIBm60R79YP4Qg+TGCr1z2rDIGyItcjjsyI4tjMfbYY9s0+XnnnReiBhrmnnvucPHFF9uPFqZXCfxAgXgVhEDREJAGWbQRK7C8vGhZA2S9Dg3MDU3ilKVpkqTHKUojBI5JYm2NcxQ//vhj03TQQnhhe+AeDQiiQlMkP9oV20YgHl7i1MkLHUcF//nPf8xxNgQGUUOqkAb1QBCs08WpRHOiTl7WGQmQC8HbhgQhreuuu87WE93oBc2RtDi9aJolBI02RkAOAnU4ubhWhXxOgPSHOiabbDLTwtB4fXsG5VwG6qK814Fx07333ms44hA+H6gXbRStlB8CaI9ozPw4II3422+/PRxzzDGmDYIFZEiakzd1ugz0h7Jo86effrq1zVoumKA5Exensg1f4hSEQBERkAZZxFErqMxoZ0yd8hLG8COu4ZkW980335jRDaSGBoQByeGHH24v2rh2aNOFaESk88ImcOUZzYYpSqb/llxySSNdXuK8/Jkm9COWeOFj8IOWxJQshAlBQkb/+Mc/7KQRCBHjFsgGLYopQjQs5CFAYgQMWSCBuKZmxIeHGEgXOZiOZdsI8qGFYYhEcFJMtTji6ANkA/HRF9rDGAZjJn4kQE5oqGhoGOeg9Tph04bjgSbLdDQ/DnAK7oG6aYe6OX6KHyj+Y4D6MGQi0AaGTxj7cI4j+DDdi4tANF7k9ACmyMkHgo5roSGu49psANPlkC+at2udjI2CECgiAjrNo4ijVkCZWbtCK2KdkcDLNxp0GEkx/Qahsd1gqqmmshcv05i8aHn5QmwE1iHR3KiHF/Nzzz1nhEsc1pxMsY466qi2tsc2BjRPtNVZZpnFyA3NCVJ2EoJ8CZALskBeTFVCJOyLhBSYroU8CJCYkySyYRWKtSfTjMiLnJAyGhPkwDNrhl6OK/2mDjReNE9kYAoWomOKmbYgusGDB1sapI8caKKQLX2iP+SnLX50sL5KYIqTNH5ceJuWEP9wLiNxXLE0xRKYttAcIVXWVakbwozGT0ZwaPZo5+AFrmjX4I41LWd5UhY5yIMc0TDK6nGc6SfyM4aUYw10ww03tB8zeflcTl2FQDMhIIJsptEosSwQJNOaro3V6mp7L0/XiryO9vKTryN5vL78lbL+gSw6U1cqa1vl0jz5tqs9uyyulUKUbAuJVqSm2UKSBOolQFRO7BYR/5BGHHV5PZ5W61qtDx2RHwJFkxRB1kJXac2GgKZYm21ESiyPTw2218X8yzyfP/9C9/z5l7eTAOmeJ18Xz2k57j14mXx5nvOk4OX86mWR1eOol3IE4v3e81pC/EN+4tJynubXtAz5WLvF8hVy9PJ5nNL6KO8fr5N0Pvlyns41bdfjPb+3S7z3jXvS+WGhIASKhoAIsmgjJnlrIpC+pNMXN4Wqvdzz8WmePAnWatjL+ZW8TjhpOU9P5fQ42uPe0zw+LZ+/pwzTuG5QRLqX83q8jMf7M9c0j6encWne9u69PPny2LdXVulCoBkRkBVrM46KZOoSAryg05e0V9JWPOmsu+G5p1rgJZ9qQqkGXK2dfB3ebntX1iJZQ6U98naUXFIC554P5EbgPpXR46vJSBwWqa+//nrFAKit/PnyehYCZUZABFnm0W3xvkES7QU2urvhUD6va1Lnn3++GfEwTYj1qjshyOfnmTL+qZZeLQ5fsLhpY50uDSnBpfF+70SaPrdVplp8SoK4/9tiiy3M8Ie81fJ7O7oKgVZBQATZKiPdBP3Mv9DrIVL6kmdjO55l2MZAoD1IB685GLJ4Xr+Sh+0Mvs+QZyww0ebQqCAJ0tnojuMAAtstLr/8crvnD/VjGYrTbwJl0AjZQ4h1KPcELGORrRpp44Fm7733tny0T4hu40y7tYf4x2Vm7yht8Uxd5Eezpa+0hbwE2qffaMge6CfWpMiFJxyXlTzU9fXXX1fa8TK6CoFWRkBrkK08+gXvu5MG+xkPPfTQcO2119qLnjU5NEO85bA3ke0fkAH7C/fff387yYKyxPkHKNAM2ScJ0bAXEPdpOEp/5plnjJQgJjbbo0myDYR9gzhaf+mll2x/Io7K2WeIdyDIkG0ptIfDALz4QFqzzz67OWZnj6QHtqsgO1s/0GYhO8pChngYwr2eB7aCYLGKIwPSBwwYYG73cB8X/daau7e+ffuaRgpxs28y+lcNG2+8ccDJOG722E6D3GypoQwkjzyQZ0/8iHHZdRUCRUNAGmTRRkzyVhBwcsM9GoSFWzfcrUEMbNiH3IjDsw0+VnmGeLxcpaJ4w95A3LuxlxCPMliFspF+iegwgD2C+D2F7NizyEZ8NsJDMuxRpE2mSNlkD9mhkbHfkq0t7NGEOHGMwOkYaHzRCbk17QQPgUK8aK3sJWRvJI4H2EcZnYHbXlFkJrAHlP2X9AOHBOzHZL8iZIkc7GFELo6ZQuuFHCFBiBHHBzhGYKsF/UA+3NLhGo79jK5hWkP6IwSEQBBB6ktQeATwhIMHHIiNo6rQ9JhqhCzwUwpBoKGRhr/UfGBT/xNPPGFTjDgWYEoV8sJohWlHvPvgDIAPm+vRTJmShJhwLsC0K2t4TF0yzUsc7t5Y00M2NFpc66HVcqQVx1SlBj/Igwxoplxxr8dGfJwUQIxodh5wIkAfcOMGqXKPkRFu5khD84UMIUa0QsgQ+SFTZEbDRQamcNG8OUornkximjYeclyDdPL2dnUVAq2IgAiyFUe9AX3m5cynJwLkwEsfTRJSQMti2pApSwxs5plnHtPe8GuKxpUGZIKY0K440YJpUNbnIBr8jKIBsqbpGpwTG9oWbUAyTMmSB0Jk2pI4PM8QIFU0NEiRkz+Y6mQNkza9TvKhPRKI98OMSUezywdc3F199dXmbQcXb7jqg4DRBiFwyI2pVQL9c/d2kB8u9wgQP4Tohyh7fidIy9QDf5x40773QDOqUgjUBQERZF1gVCWNRADi4UXPVCqaGy7QICg0ynhupK1PQigQBVOYaYBAmJ7EHRr3q6++ejjuuOPMfRtaFvVAGqnxC4QIEaGdsjGfw54hX6ZGqQMSgDwJuKCDxDbaaCNb42TdcnB0I0dwskivlHeNEbJ2gyMr8N8/nJiBIRHTtbjGQxambVl7RLtFC0VjJvDjgSlf+odMXjdrofwQ8OneeJ6l9bGnCfK/XdBFCBQCARFkIYZJQtZCAKfeBKYb0dAgg4suusg0MUgEEmMtEUJbc801La+TEmSCJsWZkGiAlOc4LIx+MOpBg8RXLGuCrOnhWxSyhYBOPvlkm15Fc+P8RfzJMl3J+p9ratRLW9TFEVyQFe0QXIsiP9OgkBNk59occkF4aJVpQDNGRtYR+0Qn7vHAY9N48SlLnfwoiIdKm0bJOY60hxbNDwQcj0PCYMQ0LEZM4AZp49PVZfJr2q7uhUCrISBfrK024g3qLwYvTH3utddePSIBlqSsA0IekAqGLBAGa4o4+oZk0JpwuE2AtCABDGTQrCAa4sjLlgwnO/KiMaIJsp6I8Q7rf/iVxUk31qpM7UJwaHOEd955x+omnYCmxnohGiH1IqO3TzprphA5+KAZQuQQLNO4yALpevByxBOYCqZ+6ph22mk9m1nWel0QKeRLGcqDAX33/mKgRB5wYIoaYvZ2KhV28cbrYWoaZ+VMW/uPlC5WqWJCoNcQEEH2GtSt2ZC/ICFICINtDLws81pRM6DjsrosPBPa0qbQxGpNSebr83opR51t1ev5euKa9qmafGl6vdqnv3wwEGKqWcdf1QtZ1dPTCGiKtacRbvH6/YULDL7+1RvkyAs5DakcaXx6nycsJzHKViufkmO+PerN10cc9Xi9PPdGSGVP287L11OyOU4+/r3RZ7UhBOqBwN9N5OpRq+oQAv9FwF/CHCrcls/TngCLl7K/8Knf5ehoW3lS8XJtxTsJeL5q11Seauk9FdeRvkPwHelDZ2RM68RKF8tZtt4oCIGiICANsigjVVA5/eWMcQvrgqx3EVKi6amuedsdrT+VKS1LvKcR7x+P62j9aZ0dLVOvfNVk9TiuPSEbdXob7BmFgFmDJVTTuOvVV9UjBOqFgNYg64Wk6mkXAYwz0CRPPfVUy8vL01/O/oL2FyoZ0hdstcq9TLW03ohLZaW9vDyQgMf51ftbTb58fflnr6Na2Y7Edbd8vo28fJ7u8a6Rsu0GAx3c4g0cOLBCmvWWx9vXVQjUCwERZL2QVD3tIoDFKCQ5ZfQsgws1rC4x2ElflOk9FfrLlvt8GnFpaC+9Pa0lXz7/nLbFfSpbPs3TqYN8aV085+Oqlc/HtddePn/+OZUhn1aPZ5ePdvhgFYtjBgyz2GbCthgFIVAkBESQRRqtEsjKtgt8mrK5n60RaJS8TNuybPWXLl1vj+Dag8c1mrbydbb+fH15AsIoBU84Tobk59775Ne25MnHd1a+fPm8vPn0ejx7H+k7jha4brDBBuY+j/odi3q0pTqEQE8jIILsaYRVf1UE8A3K3kUMN5wc8wTTHoF0Nn9VQZLI7tbXVnmsdtkbecUVV5hLPPYZEtrK7yLl+5/P7/k6es3X19FybeWrJg8kTjx9Zj8nThTYW0kQObaFpOKbFQERZLOOjOQqFQKcvrHzzjuHm266qSn3gPY02CLHnkZY9fcEAtrm0ROoqs6GINCehlRN46klaD3qc2LAgTnTjfhWxb0dob36a8nWjGlt4Us/HYdmlFsyCYG2EBBBtoWM4psOgfYIpa0XtHekvfKez6/t1ef5OnJ1kkjXAetZf0dk6O08jjf9LHtfextbtdc7CIggewdntVIHBLr7ku1u+Tp0oaWqEN4tNdyl7KwcBZRyWNWpZkSgVQnDtedmHBPJJARqISANshY6ShMCQqDbCLTqD4NuA6cKGo6ANMiGD4EEEAJCQAgIgWZEQATZjKMimYSAEBACQqDhCIggGz4EEkAICAEhIASaEQERZDOOimQSAkJACAiBhiMggmz4EEgAISAEhIAQaEYERJDNOCqSSQgIASEgBBqOgAiy4UMgAYSAEBACQqAZERBBNuOoSCYhIASEgBBoOAIiyIYPgQQQAkJACAiBZkRABNmMoyKZhIAQEAJCoOEIiCAbPgQSQAgIASEgBJoRARFkM46KZBICQkAICIGGIyCCbPgQSAAhIASEgBBoRgREkM04KpJJCAgBISAEGo6ACLLhQyAByoyAH/Xk1zL3VX0TAmVDQARZthFVf4SAEBACQqAuCIgg6wKjKhECQkAICIGyISCCLNuIqj9CQAgIASFQFwREkHWBUZUIgeoIZFlmCUMPPXRgHdKfq+dWrBAQAs2EgAiymUZDspQOgdQ4B3LME6Q/+7V0AKhDQqDACIggCzx4Er04CPz1119hmGGGCWiSHiBF1ypTIvV0XYWAEGgsAv/7b22sHGpdCJQOgXPOOSc8+OCD1q8RRhghQJJ+vfjii8Pdd99d6bM0yAoUuhECTYPAsE0jiQQRAiVAwLVCujLSSCOF5ZZbLqyzzjphwQUXDH/++We46qqrwimnnBLeeOONCnlKeyzBwKsLpURgqPgP/f9WBKXsnjolBHoXgZQgf/3117D88subpjjyyCObIL///nvgc9hhh4Xdd9/d1iRFkL07RmpNCHQUAU2xdhQp5RMCHUAgJTumU3fYYYcw3HDDhZ9++sk+kOOMM84YNthgA6uN/PqN2gFglUUINAABEWQDQFeT5UcA0uOz1FJLhUUWWcQ67AY6G264YZhkkkksPdU4y4+KeigEioWACLJY41V6aVNtKr1vho4jT61PKqNrhiOOOGLYfvvtzXoVI52pp546DBgwwLKSJ9U40/LNfN9s49LMWEm2YiMggiz2+JVO+jxhNNPL2AmtrWt+MFxjXHrppQMfwsCBA8N4441X6GlVHyP/sZDvt56FQFkQkBVrWUayhP3wFzHWn81AlGiAnQnIzN5HtEiI8eOPPzaLVupgLbKogTVV/5FAH+inj1VR+yS5hUA1BGTFWg0VxTUcga+++iqcf/754eGHHw7fffddw+XpiABtkTjk8dtvv4X33nsvTDvttJWq2spfydCkN5D++OOPH1ZaaaWw6qqrytlBk46TxOo+AiLI7mOoGuqEABoa05L33ntv2GmnncKkk04aVlhhhTDllFP2iobSnhaUJzSfQvXut6dhDj/88BXNkbby9Xk99brm+9PZ9qqVp8+//PJLeOaZZ8K1115rxkbs65xwwgkrYvs4ViJ0IwQKioAIsqADV1axn3rqKdsCsd1224UtttiirN0sRb++//77wDh98cUX4fLLLzfHCCLHUgytOvFfBESQ+io0DQJMQ66++uph3nnnDfvss4/JxfojU3rVQmc1omp1pHHVNKY0PX/fXv58er58Tz93F5+25KdePmiTjM+yyy4blllmmbDzzjv3dJdUvxDoVQRkxdqrcKuxWgg8/fTT4f333w/bbLNNJRvk6FOX/mL2Ky/wen4qjfbCDX3o6dBdbGrJ59PLjA9aJNOteA7y0Bv987Z0FQI9hYAIsqeQVb2dRuDFF1+0fYJjjz22lXVi9Jdx/oXf2Qb8pe0E2175fHv553z59tLT/OQtasjLPvPMM4c//vjDrHTpE+OWz1PUvkru1kZABNna499Uvcf4Y7TRRjOZIDFesk5qTpa1BPa8fq2WlzQ+eoFXQ6drcaOMMopNt/rWFf9B07XaVEoINA8CIsjmGQtJkkMgJbKOvHSd9Pyaq84eSauVXq2M4qojkP/RwnqkghAoEwIiyDKNZsH7kp+agxTZD3nrrbeapWR73XvkkUfChx9+WDObt4EF5p133mn1UyD/sq9ZiRINAf/RUg27Wlq84BMCRUFABFmUkWoBOXnhuhbiWt5pp51mZyqeeeaZNRHAQOTf//63GYukGdMXNWS71VZbheeeey58+eWXYZNNNglvv/22ZfeXfVo2vaeetK40Lb2vRhZput+3VxenfyDfs88+60WqXl2u9uqrll4trloj7eXz9PYwrFa34oRAMyMggmzm0Wkx2XjRpi/Zb7/91rS8iSaayA4aZo3Sw+effx5uuukm87RDOY6WGnbYYSsb8Sn7/PPP27O/wN98881w++23B/ZaQqi4TEOTfPDBB8MLL7zgVdsVt3BomE6g+anZd955p2KUglzUjaEK8r/22mvh6quvDi+99NIQdVLX3XffbeWoj/zvvvtuQFZk+Prrry0/JEt91113XXjooYcqdTz55JPhmmuuCbTtweXyHxSkPfroo1bnZ599Zh58sAz2utlKgxz0nzI///xzuO+++wwTr5Mr9dA+WHndyEveW265xX5geH5P92ddhUBpEIgvDwUh0BQInHTSSdnGG29ckSVOrWbRi04WtxBk0VNLdtddd1nayy+/nM0///zZggsumMWzFbP11lsvixphwFxBewAAQABJREFU1rdv3+zss8/OPvroo2yOOebI4lmMWSSASn277LJLFg8uzpZYYokskl/Wp0+fbPbZZ88WXXRRq//UU0+1vIMGDcqmn376bKGFFrLrGWecUamDm6jlZvEg5Gzfffe1+EjEJscrr7ySXXbZZVZm8cUXz+LJHdlxxx1neU4//XR7RuYZZpghi+STffPNN9Y2fSAuEqvl5U/0JJRF4snmm2++LBJatt9++5m88eisCiaVzP+9iVq25ZlnnnmyWWed1fr26quvZnGPYnbyySdbrkiW1lb8QZB98MEHGfWRn/bB/scff8wiidvzYostZvXFPalZJG1LBy9w4frEE09YneC9wAILZLTlgfwKQqDoCEiDLM1PnfJ1BC0sEmHo379/mGmmmUIkH+skWmB8GZv3FrSc0UcfPaAtoUFG8gzrr79+mGuuucIhhxxijsIdma233jpMNdVUIRKlXSNBhbXXXttc23G99NJLrZ4DDjjAvPig7TFtSz1ohR7QmJgCdatNND7fA3jOOeeYrHfccUc46qijwqeffmpa2MEHHxz44EYP+XbbbTfzMYuf2UjU4YYbbrAtLt7GrrvuajIeeuihVkckWPNNiwbn5b1NyrD2euCBB9rRWrTBxn20RmQln8uKFojGy1T2EUccEbBAvfnmm01DR2NmPyOaOfFcL7zwQiuLNoy3HOSOP1TCaqutZlquywsGCkKgbAiIIMs2ok3Un/jrsao0aXz+xepprBFef/319hKGpJiK5MXP1CqeW6abbrqw8MILh8MPPzysueaaYfLJJzdXZ0cffXTAWCdqlSFqi0O0z6ka+EPlA3GMNNJIYckll7Q8UWM0jz2vv/66tTF48ODAwcZMJ/7www+V6VSvkKlUl9WdGUBCG2ywgRFi1MpsrRN3eUxxQuCQz0YbbRSom6ldplaR8Z///GeYZppphpheZsqYNrg+9thjRqJR07Xmo/Zq5Bc1QBcnRO3V+rXKKqtYv5CdLTOOLz8eCFyRF4JnWhc82egPeUOe9J/6+fGARyNkBl/kW2eddcxbDuQ42WSThX79+lmdYImsfDwQBz7+8XhdhUCRENBxV0UarYLJyksyDXH6ztb9ICgPvFR5iXMlv5dBq2GNcMUVV7Q0CO/444+3Nbk4xRfOOuus8NZbb5mFK+7pWJvjZQwhUd/uu+8e7rnnHiMLbwsCQHPyFzlyOIGQh3gIhHbRwNA2WaOjPT+Fw1/4XMlHcK0MTY28V111la1/xulekw+ZIGOIhis4fPLJJ2HMMce09qnLA/dg4BofbUBoyO1prCMiK3V5QG764nWhuSIXz44teSE+6nKc0bSRC9kh9dlmmy3gHJ4+oI1fcsklpmWjXe+55552bBc/VLhnjfeYY46ptEm9BJeTe28HTRmy56MgBIqCwP9+8hVFYslZKAT8hY3QGJ5AFkyROjFx9Zeod4wX7cUXX2yaIj5Z99prr7D//vvbdCtEeO6554bNN988xHU20/J46aKNQSpoPYcddphpnAcddJBXaVcIEdLApR2EwMfloE2IixNEOMoJjW/uuec2zYw2nVSRlXvycRQXdUESOOyGsHCTd9FFF4WVV17ZpiEhwri+F8Ydd1zTQuPaqGm4/ABIic8FdSyQFSLEMAfiQgul30wt80MBYpt44om9WIjrmEbunKyBkc6RRx5p5A42aNf0AVmZskVWNFcOcYYESUfbhNDBB22SNvr27WvTucQxxcyPFSyB41ql9Qntk0A/CC47VydJpnnj2nKIa6gVrNPvhBXUHyHQrAjEL2vpQnzpmVGBro3HIf/lii9X1KUsTgVmURPJ4su3kgWDlk033TSL5yZmcRq1YpTjGa644oosTolmGMXEl7sZw0TNLtt2223N4CWSb4aBDQGDFQxlMEpJQ3SobUYpGPzEswytLtLj+loWp0ezuD6XRc0zi0RrhipzzjlnFtfi0irsPk7jWh6MeeKUYxaP5creeOON7MYbb8zieqkZ7WB8g9EQIWpkFk9+DIwiiZlBDAZGkSwtD99XD+CCkRHGNm9HI53//Oc/ZuRD3fTdDWLSMnF9MovTnmbYE7VCa4/+xylaM1qK06TZGmuskUXyNlkxElprrbUyMOSDIRCBvmHkhOEORlJxLdX+n+L6o8lAPIZNGEsRMNLB+Cg1MsLYJ2r5JgvjHdcyLS9/9H/Z+P/LroxBZQBb6IZfeqUJPuil6VAJOwKJYJHKSzNqSfaydutUXqgQKCFqd5UXqcPA+BJPgEAgjqjpebLFRU2w8kzeqFVWnrmhDixbKe/fF7+mZE3ZOE1phDlEBckDZBqnDi0mbTeu72XvvPNOxjUNcS0zi9tHKn3wdv2a5uWeeIjGA23RX5eTdA+QHeQft4VYu5AaRBw1a8sCDqmsaVnqpHwa6NvbEV+sg9NAXqxfSfcATljDRkMha4NxxDKWMeYTD1auyOxldC0eAul3pnjSd03i0h13FWGwPWisTzFtxnQPnzi4Nu0T/2EVuoiAT6F1sbgZkVAWy0gO3PWpOKb7OBiZaUWsJ6O2VJmu62pbXS3H96er/aQsIV++vXjKkMencXluL7icfo2kGeKPixC3XpgBDUZNTDWzPst3vzN1t9V2W/UwjUw7rL9i+cu0cBow6llsscXMMCiNz9/nccun67lnEfDvadoKY8J3K86k2JIHaa00TqUz0om//M0sf4IJJrAXhRs7+IskHXzd9y4CvKQxOmFtjeD/kFhUYvCBQwDW6zr7D+j1VCtXj3HvaB3evhNJXq58PZ4/H++j4vF+9fhqV4x0zj//fFvfxMkB22NYJyWAe0fqqFZvGuf1EIfsXidXApa0/DD14HmwAiYNg6daoR4kXqt+pdVGgO9tPvCjFctmfvhg8e2Gafl8ZX0uHUHyz4qxBHvCMG5QaC4EMKaJm98rQsU1rhDXEE37wZCEfX6dDU401crVSuto/lp1ODlQl+fzF70/8+Lh3p/J63HctxXInychryN/pQ6MZdDiOhO8/o6W8XbJ72UdgxNOOMF+/HBlzyRbdQh94j7P6ITB7vWneAjcdttttme2eJJ3X+JSWrHyaxqthOD/vN2HSjXUAwE2p2OJyb46NtI//vjjYccddwxjjTVWZczq0U5P1uHfKScISIMPVp04N4jrc0M0D2E6sTDDwZYH4pjdQKvy8kMUig9eP/H5PP5rnzwuT758+uztp3HctxWfz1ftOf9DgL6wnxQyZI8lfm/ZyhI9EZkGQh3I7TLr+r99os2IhY8532f/nvjV08p+LSVBln3Qito/tgqwiZ+1scFxs3w0KgnjjDNOh17wjeqzv7jS9v0l4VdPiwZIts2DvYZtBZwfsEeTgJ/VzTbbrEIY+TK03Vbwtrn6fVt5eyueH6YE5HaiZM8knn/YT8mLNiVVl13X/x/DZsOht743zdxO6aZYmxnsVpdt1FFHtf2NrDUSeJE2y8u9rbFJ5YuWqUbwaEEYLbBemgZe/pCEkwA/CDCaob9MfaI9cnQX6zn333+/7QfFnRsk0jfuOWRKEucGlGcNkX2OaKXsgUQO9hRGP7KVJp1AUxkrib18gywuD/j43kj2qmKUBRYYzRGaQd5ehkfNFRQBEWRBB66IYqcb250c/drs/cHJQdxDWHFfh5aId5lZZpmlIjrWfhADJAkB+hQjeXGLh0s3jq9io/6VV15prugwYMG3KWSLtyDyUgfGEHHfp1n7xr2h5lN2qaWWCribo35IxgmpIkADb1LSQ34fV7/iGlBBCBQNAU2xFm3ESiKvv1D92ozd4uXuJIRlKFtR8ICDQ3K0obxBEZofH6x08UaDu7oHHnggXHDBBSE6EAjRAYJ5/sGd27HHHmvTq6zFYlCG5xrWzXFyjhZJu8RhRQiJ4mMWh+U+jdlMeEHmToTIld438/g2E4bNLov/HzS7nPWWTxpkvRFVfd1CwI1PulVJHQv7Cx5XbljzsaePqVII003eU0KAwEiLm+xtSjRukq8QBs7FSUfD4kPdXCFApiBJ3zjuZSSwtxC3buThJJO+cQrWZfH2/NkK9MIfb5emGCfa59OqL89egFxNNBgBEWSDB0DNNy8CKQFhWMTRWjgxYI8tp3L4HlvP5+SO1seHY7ogSDRDDh5mXZH1R1+jdMJhbZbAuia+UtFAn3vuOWsHMiakJOTtpfFpnBXo4T9pe2jTqXw93LSqFwK9hoCmWHsNajVURAT8xc/aIEQ2xhhj2B4/HH+j5Tkp0jfuOcaKtVb24DJdColirRr9zNpJFhy5hZcbCJN7znFkqwvTt5y5yDQs9bIFBgMdCBLrz7Qd2kIuly0lK9J6KtBOtXaRLZUhve8pWVSvEOgNBESQvYGy2ugwAkw5NlPwlz1bUiA+Dl2GBPfYYw87nST6Jq2Ii2bJKR5oj5ymgWHKwIEDbW8kGihHZnGCxuyzz25nXaJR8owxDoY4AwYMCHvvvXfgBBNct7E9IvqttXMXIdM0IJd/0vievvc2HRfa8zgn7J6WQfULgd5CQFOsvYW02mkXgVQ7aTdzL2dgXx9OANgMjxZJYMP/6KOPbvdMM0KIGNIQ8CnLBnnWI9ks72c39oleZThrEc0SIr3ssssqrvcgXQiYusYee2zT1hZYYIHApwghJc0iyCsZhUB7CIgg20NI6b2KQDO/ZH1t0QGBHCF116CYavT1Rc9Tbc8n+anLQ3rv5EtaikW1ur18s1zz08DNIpfkEAJdRUBTrF1FTuXqjgDTiOwlbOapujwJuKy+xaMtUFKyS/N4+TTO79O0PPF6nkZeXT7GDK2Xw5kVhECZEBBBlmk0C9oXf9FOPfXUtt0hPfXB0/za6C7miSr/3BH56Iv3py3ipJ5aaR1pp7fy4GGIwLSwQvkQ4HtYlO9ivdEXQdYbUdXXYQTyJIHlJ3sLWesjoK2V6R/TibGoLxyX3wfYx+bMM880V3rp9LDn0VUIFBkBrUEWefQKLru/YL0bo402Wth1113DbrvtFiaffHJzq+Zp+bweX6Rr0ftQTX6sdTnLE09BCkKgbAiIIMs2ogXvD9sksPzcYostwlprrWWea8Yff/yKMUyRu4cxDlox63VcuzI928j+Iy9ys+bIwcg4TeAEk7PPPjtMMskkjRRNbQuBHkFABNkjsKrSriDgpAE54lWGcwW33HJLm2atpr10pY3ulOmsDBAKZEiAVNgW4ut01OVTzB2VqbPtd7TezuSjP8iByzzc3+FTlr2a9KUZ5OtMX5RXCLSHgAiyPYSU3msIuEbFy5b1yHPPPde8ybAZH/IsYqAvkAlecnA4ftJJJ5kHHSfOIvXJSR1r1ckmm6yyt5M+iByLNJKStaMIiCA7ipTy9TgCqRbi9+ONN17gU/SABjnWWGOFmWeeeYg9kEXvl49T0fsh+YVANQRkxVoNFcU1BAHXQrj6fUMEqVOjkIcHPOdAku583OOLfi3DOBV9DCR/zyEgguw5bFVziyOQkodPqTabr9kWHyJ1XwjUREAEWRMeJQoBISAEhECrIiCCbNWRV7+FgBAQAkKgJgIiyJrwKFEICAEhIARaFQERZKuOvPotBISAEBACNREQQdaER4lCQAgIASHQqgiIIFt15NVvISAEhIAQqImACLImPEoUAkJACAiBVkVABNmqI69+CwEhIASEQE0ERJA14VGiEBACQkAItCoCIshWHXn1WwgIASEgBGoiIIKsCY8ShYAQEAJCoFUREEG26sir30JACAgBIVATARFkTXiUKASEgBAQAq2KgAiyVUde/RYCQkAICIGaCIgga8KjRCEgBISAEGhVBESQrTry6rcQEAJCQAjUREAEWRMeJQoBISAEhECrIiCCbNWRV7+FgBAQAkKgJgIiyJrwKFEICAEhIARaFQERZKuOvPotBISAEBACNREQQdaER4lCQAgIASHQqgiIIFt15NVvISAEhIAQqImACLImPEoUAkJACAiBVkVABNmqI69+9zgCX3zxRaWNoYYaKvz111+VZ+6//PLLyrNuhIAQaD4ERJDNNyaSqCQInHXWWWHPPfcMX331VRhhhBHCSCONZNdnn302bLbZZuHJJ58sSU/VDSFQTgREkOUcV/WqCRDo27dvOOGEE8K8884bTjnllPDJJ5+ELbfcMiyyyCLhhRdeCAsvvHDIsqwJJJUIQkAIVENg2GqRihMCQqD7CMw///xh/fXXD2eccUZ48803w9BDD13RGnfbbbcw8sgjG0FCkkzBKggBIdBcCEiDbK7xkDQlQ2CbbbYJY4wxhvXKtcUll1wyLLfcchYHMYocSzbo6k5pEBBBlmYo1ZFmRGDWWWcNa665ponmZLjFFlvYemQzyiuZhIAQ+B8CIsj/YaE7IVBXBNxq9V//+lcYZ5xxzIp10UUXDauttprWHuuKtCoTAj2DgAiyZ3BVrULA1hyBYbbZZgtrrLGGIbL11luHYYYZRtOq+n4IgQIgICOdAgySRCwuAmiRGOcMGDAgvP3222HllVeudEbGORUodCMEmhIBaZBNOSwSqsgIQHxukAM5PvDAA+GQQw4Jr732Wthpp53CBx98YN1LjXM8f5H7LdmFQNkQEEGWbUTVn4Yh4MToxjhvvPFGwCBnu+22C3379g3XXntt+OOPP8IKK6wQjjvuuPDdd9+ZrGiZKVk2rANqWAgIgSEQEEEOAYcehEDXEXBi/P7778MRRxwRVllllTDccMOFq666Kuy44462Fnn66aeH448/Ptx1111hxRVXtDS0TAUhIASaDwH9ZzbfmEiiAiCQTon6PZrgRRddFBZbbDGbVj333HPDySefHKaccsrKlCtdW3zxxcONN95o7uaOPPJII8qHH3640mu3fqVev68k6kYICIFeQ0AE2WtQq6EyIOBkmE6Jcv/ggw+GlVZaKZx44olh1113Ddddd12YZ555anZ5gw02CDfddFOYe+65w8CBA03L/PDDDyvWrxR27VJEWRNKJQqBHkFABNkjsKrSsiIAGTpJ0kcsUzfffHPzsYrmeOedd4Z11lmnQmyOQ1rG47iOO+64Yf/99zei/Oabb8IyyyxjU7CsT6YknJbRvRAQAr2DgAiyd3BWKyVCAOL68ccfzTJ19dVXDyOOOGK4/vrrTXMcffTRKwQKKToxViO7NL1Pnz6BKdnTTjvN1ifRRq+55poKaq5JViJ0IwSEQI8jIILscYjVQJERSEmMfjDVOWjQIFtHfOSRR8Kpp55q06qsM3pwMuSa3nu6X9N0j+OkD6xd2TfJ1pBVV101PPXUU55cIVwn3kqCboSAEKg7AiLIukOqCouKQJ50nByd5HydESvUnXfe2dYZObGj3uuDaIsbbbRRuO2228Kcc84Z1ltvvYC7uo8++qgm4RYVd8ktBJoVARFks46M5Op1BCBCJ0WuPENWHFXFqRyQFOuM99xzT1hrrbUqZFXv6U/ahXTx37rPPvuYxetvv/1m+ydPOumk8NNPP/U6NmpQCLQiAiLIVhx19bkmAhAUn2+//TYcfvjhoX///pb/6quvtnVGznEkkKfewbXYlHSnnnpqO1Py2GOPNWOepZde2vZP1rtt1ScEhMCQCIggh8RDTy2EgE+N5rVGni+55JIAET300EPhrLPOCqeccortZ+xpeGqRLvsnb7nlFts/edRRR9mpII899li7IjnptptRGYSAEBgCARHkEHDooZUQcC3NNUauGN5gGHPCCSfYOiOWpKwzNgvJICPrkzfffLN55tlkk03CDjvsENg/qSAEhEB9ERBB1hdP1VZQBF5//XXzm7rllluGhRZayPYzctAxR1MRXMtsZPdSjXfssccO++23nxkKMRW8/PLLB6Zg3b9rKmctrTTNp3shIASGREAEOSQeemoxBPCbethhh9kxVMMOO6xtsdhll13CaKONZqTopIS22WiioX2Xxwl7mmmmsf2TaLxMvzItzFqpB9d8/erxugoBIdA+AiLI9jFSjgIjkCcGf4ZoWGdcaqmlAn5QzzzzTFtn7BM37BOciBpNiibMf/8gixM196lsffv2DbfffrtZ2x566KHmKP3JJ5+s5PF+e335Z4/XVQgIgf8hIIL8Hxa6KyECKYnQPZ45n5GTNtgy8e9//9u0xoUXXniIaVQnoHz5ZoIoT3LIin9X3z/JWiVHbbF/0tdbXf5m7pfLqKsQaDQCIshGj4Da7zUE2M/I+YzsZ4QQBw8ebPsZIQ/IxkkRgYpAIHkZnTDZP7nvvvva/smff/7Z/LuyPol7PA+e1591FQJC4O8IiCD/joliSobA119/beuMaI0QA67cOHFjhBFGqPQ0TzaVhALf9InTxUwdsz6J1SuGPFdccYX1qIz9LfBQSfQmRUAE2aQDI7E6hwDE5+uGXpK4Sy+9NCy77LJ2HNXZZ59tG+4hjjJqUG2R3hJLLBHuuOOOwJYQ9k/iYP3RRx91mKpe81hWzaRIIVByBESQJR/gsnfPX+SQQ7rOhuENJ2LgNxWrVM5nnHfeeStwtEUmlQwlu6G/G2+8sRHlHHPMETbddFNbf/3ggw8qPU1/NLQaPhUQdCMEEgREkAkYui0eApCikyTS+zojZzTiNxXNaY011qjsZ/QepmTgcWW9pn0dY4wxwt57723TzOyZXG655ew0Ej9/krzgKYIs67dB/eoMAiLIzqClvE2JACSJA2/fz8jmfjzg+H7GVGgIgE8rEYD3NSVK9k/iQu/kk082/64QJVo2eVNNPMVO90Kg1RAQQbbaiBeov+kL3YktLz7aDvsZ8VOKmzhe+pzRCAGk5b0cBOCE4XF+pa5qZTy96Ndq/UbLvvXWWwMehNg/ifegjvh3LToWkl8IdAQBEWRHUFKehiNQjdjYz7jyyiublSb+SPEgs8ACCwwha2dID83JSYRyZQ15TOgz+ychyllmmcWMedg/ma5PlhUL9UsI1EJABFkLHaU1FAFe3K45ppodflPReDijcZFFFrH9jOuuu66tM6YvfydVJ73OdKbM04yOC3ikPwTGGmss2z9500032Z5JrH+PPvrogDs+BSHQigiIIFtx1AvUZ3+Zc8WQhPMZV1ttNSNO9jPutttuYaSRRhqiR+R99dVXwyuvvFLRCIfIUOPhq6++sqlaDiguW3jnnXfC888/b93yHxz8EODeiZJrn7gNhi0xJ554onnlwRqYNV0FIdBqCIggW23EC9Rff4kjMvsZccTNOiOb308//fTK+YxpPtf8INK99tqrQ72FODDogRwff/xxc8/GvYe0fo/r6rWjdXU0X1tyeHm/ku+CCy6wHxj+o8PL8uy4+ZU09k/i35UtIUceeaTtn8S/a7WQtlMtXXFCoIgIiCCLOGollTn/kuXFzX7GFVdcMRx33HF2PiPrjJzPmJ9KrQbJH3/8YdHU+8ILLxi5VpsufPbZZ8N//vOf8NJLL1U0TvIRzzoccnjg3EVI1Ov5888/K7K4/J999ll48cUXwy+//BK+/PLLQJ6PP/444NGHutBO33333eDy8fz0008Hpo49kO+LL74I999/f3j77bc92tp67rnnbKN/6jqODLRJP5EjlRltmvbBDFlczkqlNW6oh/VJPPGwfxL/rjvuuKP5d/Vi+fY8XlchUHgE4pe7VCGa+2eLLrpoFv1sWr/iS6FU/StzZ9KxiqSQDRgwIJt55pmzuH0ji2ceVrqe5qtE5m7ipvgsupaz2J122imbYYYZsrnmmiuL5Jq9/PLLldyRxLK11147i//I2T//+c8srr9lk002Wbbgggtms802WxatYbO7777b8p9xxhlWz6yzzprNOeec2UMPPWTxyOMyRVduWZ8+fbLZZ5/dvofRSjSLJJnFQ5izSPKW/6mnnrLyb7zxRhbJNItTmFbvlFNOmUXjGMsTDZAy2plvvvmsPjCIhJpF5+qWN5JVFh0fZK+99lr266+/ZltttVU27bTTWlqcgrZ6iY++Z608/UauSHBWf0f+pP3y/JHEM7CdaaaZsujfdYhx8Ty6lguBuP0ni7MJ9j0rV8/a7400yML/xClPB9BWcK7NfsZIKGHEEUcM119/fdh9993D6KOPXtF8Uu2oVu/xtYoGd9ppp5nXmHvuuSdEwjEN0MuRZ+DAgWHCCSe09cxRRhnFNL311lsvkD+Sim0jYRoWufbcc0+LR4vdY489zJgFefigFXKIMVOSGLpEcg+RwExj5FBj1zrRHD///HMT4ZBDDrH0u+66y6ZA6S/7EdmuwqZ+4vEGhAMEpjcvvPBCmzrmxI5IoCGSfbjssstCJPFw5ZVXhhtuuMHkOO+88wy7G2+8MQwaNMimpIcbbri/OUxwHNq6OtbxVWL4+/mT7J/E6hUrYuT1QD4FIVAWBIYtS0fUj+Ig4C9Rf/m65DjSZiqV0yh4AS+00EKeZNOD6fpYJaHGze+//x7GHHNMc9J90EEHhXvvvdema9kUnwbIF/IYe+yxbVoTUsSxOVadkBAky95ApkghBU4BgQwhTaZcp5tuOqsuaoSWB+tayjI1CcHhuADZXX6uHM7MFOwTTzxhTg72339/6yMOD9i+wn5EvAEts8wy5u1m++23D5NMMolZ7ULMTk7s/4zao5EsRjVg+8MPP4RnnnnG5OvXr59NSSNg1JSNaLknXx5/4tOQpqf35Onbt6+diHLRRRcFSP7cc8814p5nnnnSKjrUzhAF9CAEmggBEWQTDUariMLL1kmSPkMIvGQhIs5n5EXuL2R/kTu51MIoTglWSMjrpxx1s44HqXDU1dZbbx0OPPDASlVpXurAKtbjeEYWrpDtkksuaZot64YQEaTqgTIQH5ovAbIjH/F8IEoCGiTkTRz1xulKM0AijntIOU7vmuUoTsUxUIKIkB8tFiJmTXDbbbc14yLIPU4LG5nSXpxKNgOmyy+/3NrzP9TvMji+ntaVK32N062mRfKDZsMNN7R+YPA06aSTWv/q0U5XZFMZIVAPBDTFWg8UVUeHEYAQCLw4mTaErNjTiLaItrXOOusMUZe/YCGT9kJKopAQZdDy1lprLTvaCi1t7rnnNmOWtC7KQR4QDwRDWScSjFriWp6RDnlGHXVUc4KOQQ8GNGifHqaeemojR/YOYkjDMVNMGUMkEClkRxtMnzLFSl1szMeoB482cQ0yXHXVVYYNWuLFF19sRjFs2md6lh8S66+/vk0H408Vbe29996zstQBqYIjWzI+/fTTsNRSSxmmDz74oE3PMhXr/XKZu3MFXz70jfMnmR52/67MBNB3gufrTlsqKwQagYA0yEag3sJtQkasx7FNg20HHFzMfkbWtjw4KfLMy5WQxllEO38mnnhiWx+EdFh35Kgn1vRon20iaYDYIBsOFYawmTL1dieaaCJrOxrAhH322ceIAJds1MOU5vDDD1+pirZOOukkywdJMVVMm9TFQc1MvbKnEO3KPf5A2kylRsMyy8fmfKZNCeRnOhdNlHVN9n9CshxXxVrpaKONFpg6jgZIZu3LeiABLXSFFVawdMrjRIE1VvpJf+oV8mMCRky1snZ78MEHG1Fj8cp6soIQKCQC8Z+3VEFWrLWHM2pwtTP0YGrUxrJoMGKWmViYxi0cdW2NvqUfrDg9YO0ZjVyyb775xqLyOETt0KxNkRHL1qhFWj7i+XiI2z6yuP0ji9OrHlWxYMUiFUvVuBnfyp9yyilmrcp3khD3VmZxqtfqp07aInBPmajt2rPLhvUr1qyUSUPcymF9SS17qStqp2ah6+Upwz19/+ijj6wK+tZeoExaR3v5q6VTPhoKZfGHh1kTx/2r1bL1Wlx3+9NrgjZhQ61sxToU41FIZm9DaKZ1+BXOGhPTVnQv/0u3jaItFc0eOywf0U7iy8P6jlZUz+C4MwZMU9555502nciUIdqQp3e3zba+wtXq9++Dl6mWpyPyeHmujhvfPaxfmTqefvrpzWsNzgqYFu1McBnzZToa7/n8mq8nfe5InjR/rXuvi++TY4JhU9weE1gPZfo3bn+ppNWqqytp6feY+8knn9w081TL70q9rV6GqXOWC2655ZYhZkxaARdNsbbCKCd99JcYLsd23nlnm37kZQZRkFbP4ORDvVhssukfo47ll19+iPY8X1fbdtnbq8dfoOTzvN5nf64lg7/40zJejjiMezhZhK0Vn3zyiU3HstWjVqAcdVSrM18un4/0tHya7vFpHR4XtU0jKfLzqVfwuvg+eVtY8/JjiG0pbEEBF4yKkIE89QzePuustIMjBabvmV5WEAJdQUAE2RXUClrGX1qID2FhLYl1JHsBeyKk7VF/3CBvFqVo9qyvoVm50Ug+b2fl8ZdjtXJObK7V+DN5vZy/rGs9e/m2ylEHFqwc0Owh3y9/9qu351cvl15TeSmXl8Pr8jLURRwhTfM2KO/3+TxWqIt/vE3q5oPhEHs42SfJ+ig/HnqSrNK+YkSFxTIGVwpCoKsI1HdOratSqFxDEHBLz55qPH0J00b0PmNWmlhgnnPOObYnkWleAnn9Bctzes8zAaJIr1iEUp68fDzdMsU/Hud1kY6VKgThaV5fXlae+aR14pcUd3CprJ6P+rj34OWIw7KT6Sn8u6ZlvW0vw9VlTe9TQkzv03J+7zJ4O/7s/UUu4pj6RCa0LJ7Z18lUaFw3NLd03r73w+tv6+r9py5+fGEIxX5TrGyZXmV7Sk+SI3J5X7lHbmTCglih+wik38vu11acGkSQxRmrwkvq/2RoE7ycmWrFyhELUzzO+AvOX+LeYS/n6R5PHbvuuqtN1xGXJw/ys3bCi58AKUfDGbsnzfP7NV8/GUmjfWTCIw/O0gnV8lpC8mezzTYz36hs6WDPIhoVIS3rbXuxNC29dww8X/qc5kvT03juacvbw8cse06ZimQrDJamzCZghRtd7pmsXoY62yNKb4sfEVjQsncTa1/qxKq2t0OKT2+3rfbKg4B+XpVnLJu+J/4S5eU18sgjG2mwZYGTIvr3729Trmx5GG+88awv/pLzclyJ82de9hhgcCWOaTW0SrYz8FJm7yD7CtlqgUcZjA2iFauRQZ/oLQcvOOxXZLsEruPQNt5//33TMtmKwh5Htp/QJm3gZo4N+WiCpLOOBrFT14wzzjgE/jg6hyTY58ipGNQNGaGpsf+R9nx6mTpwKD7VVFNZPd4/KoRccTTOVg5kYO14iimmsL2HEBv1sm2EftN/nBlEH6021Us6dbEnki0n4IJcaI/eJ8qzL5Op4Xvi9gzwYbsGmnm6JzWVyTuajgVtQ4hc2dLCWrNP3af5vGxPXNN2uFcQAt1FQATZXQRVvksI+AuM/YqsU/HiPuCAA2zalbUjtBgnEKaCeZET8i9qNzhBU2HvHaQGAewXfaJSN4TCnsFTTz3V7knD5RzTgLzEqZtpRly6IQdaJhv0kQ/3bshCm7TD2ZNO4OxLHH/88c06F7LERyqHN3vg1BGsWiFJyI06qAtZIC78y6I94z8V4sWYhXpwmrDDDjt4NXZqBkSFsUncDmJa9/77728khAw4QcBiFrmoA0Jlr+VRRx1lexJZ96N/OC9gTyQYIzdx9AnNEE2eMuD91ltvWd/HHXfcigzc5HH3OKyhjznmGDNM4tQVfuyAexqqlU3T63mfkmQ961VdvYtA04xjFKRUQfsg2x7O+DKsJEZXZVkkhSy+xCtxjbhJZaL9SCx2CkZ06ZZFIvubSOSPL3aLZ58hp25E7SubMp6EETUhi2f/XdSq7KSJaAhkJ12QEKc5s7hp3vYhxmleO5WC+Oi3NItaWXbHHXdk0SNMFjXY7L777rO9gLRFm+yp5ASNuBE+ixaZWSQTy88eRmTgxJA0RLKz0zOie7js7biPkfrjpn7LEtdg7bQPTsaImmcWp4EtPnq6yeI6neX3uiKRZZEADZdIwqhFWfTxmkWtMIsaoZ00wokf1EngpJBIgFncUpNFMsyiY4As+nu1OsEEjOhPdHpg8kVC9KYy7qPhVhaJ2zCm7461X328+N7EdUbDJG5tyeJRW5V6/Mbz+nNvXtmrGo3BKvs/GylLb/a7J9piH2R0XtGSp3lIg+zdH0ZqLYdAXrtgLYyDkTHywNIV13BoW2hJHrxMfOnZlgG0HjQZthGwBoaPVPZdMqWJ5kk+AhqSn/DBlCTaJtpZfPnbh5MxMOLByhZtML5srJy351O5aJ1ohfhlJY179pOmgXj/EI8caGoEpjrZ6sB0K9O8yIw7OOSmDIYtfeK0LYGpaLwNRcI22bCQZcoUjTL+KLDp1egEwKxEyc8+Q7zlMG2L/HjlwTcr08tMNYMtbTC1zfQzWqkHtEs0R7RA+poGf6YsWzbQUMENrd37RX7aJI+CECgDAiLIMoxiCfqQvliZhmSaETI4/PDDbR8dp1tg6MJaWhooB/lAfJzAgV9Qpg8hL06/gPAgGQL33g5lcPcGYUCmbGJnrRBXaT61m7bDPUQLOVIHeSAX1kAhBAgvDaR7PuLJQ5t+Tzqkg9wYtfSJhAjJQpqsRRJcVmRkypjyTGdiEYqbO4yd6C/yQ1ZeBhkhQ34geEBOppVJI2BZS39owz9MvUKctEMcISU7pquPOOIIMzxinZFpXcfKZfX8Xt4q0R8hUFAEhvyZWNBOSOziIuDaXfpi9Rc2xiecEgFpsUbJGlecPq2QAWXRuvCYwhYCtEL2dsbpPlvbw/CEFzjaFKQJUXIPmZCPI6EwSIGY8A3rBMjaYbVAOeSEZKjPtSqI18ukxMA9ZziSlzJOYuSHoNCKMfp55ZVXzJgHuVnLdOMWx4TtMZx0AsFxzxofeSF1fjBQD35k6Rt4sZaJJomRkhMijsxpn3QMglhvJR0ypB1kpV4Mljx4+xDt/nHdE217ggkmMAtkjthyciS/5/Wx82evS1chUEQERJBFHLUSyewk413ixeof4njhYpWJ82+2dECWuBLkZAucijMVypUXPlOV7L0jDU2HFzgvdQxzOB4Kjy6QIPfkx1oWLQwDFjQiLE4hTEiIgBwuHxoYhARpo2mhbXqgHB+CEwNedTCiYWqT6V/yO/lA6FixQkhsQ8GSFiMhTjNBO0Qu5ORD/6eMU6k4VcCNHVOgaNb8WGDqlcA2FsiO6WmMcugbVrWUgygJTLtiqPTQQw9ZPRArmqtrtZBn9PFqRjrkpx+QPhauTKFCvuxnRIOt5fA8HTvqURAChUYg/gOWKshIp+3hjC/cSmKzGOlUBGrjJpWZLFEby+JL2oxbMFbBQMcDzr3jOmLGd4AQX/p2xYl41NjsnjzUQSA9am8VQw7iKOvleU4DDsopw4c6vH4MeDBaSYPLjTFN1PwsPWpzZiDDlfxcCciGkYs7Us/XQzu0wYfAc749nnFiHsm4kod2+aSB/kdN26LoAzJgaERI+40hEoYZ8UdBxnfFg/fLn2tdO5O3Vj1dSZORTldQq15GRjqFpngJX2YE0Ejiv21FM2Oa1A9VxpgEDZG1R6b80LxYk/Pg2h/xHjydOklPjX/I44clRxIaYgqRNNZGCZT1dU2e0S7bCmib+YBmm05Polmm+yjT/rpG5m243H4os9fNc7ohn74xVUv+NNB/x8D74HnoO/sYMbzhiqODAQMGVDBBFoLn9+e0ft0LgTIhoCnWMo1mSfviJJl2DwMcpidZO2RqkClH9i9GjaiSjXuIzl/olYR4Q51Rw0mjLB9xpKUENkSmTjx4/Wn7yOPB0/1KPHmrEY+XI6/X53FeX7Vrtbry+cjDGifWwmuvvXboEw2G4vYUsyJ2IvZ2yeuffD16FgJlQ0AEWbYRLWl/2nrRc9Axa2NYeUKWrEEOjhviCb6+lpZNycg1TMsc/5DP45yEPC29pvWl8el9Wlean/qp24nQr142zetxXJ2wuXoej0vzpffejsfxnA8YDLHOiKUsW074kYFHHPeb6m0ht9/n69CzECgrAtrmUdaRbYF+pS98DEkwWjn77LNti0jc1G8eajC6IUCMvOSdoNp72beX3hV4U3nz5Umrd5v5+vLPGCth/Qo20YlBZT+jY5XKmC+bpuleCJQVAWmQZR3ZFugXL23/0F02/uO+jeOVcLuGVSfrafhOdWIkX6u/7NkisuGGGwYOc8ayF+tf3+wPObY6PnxHFIQACIgg9T0oPALpWhzrjtGtm2lGaJPsQ2TaFR+rvPwJtTS5woORdMD761H4ad1jjz1smwdTqHjE2XrrrW36FkzAUeToaOkqBESQLfUd4OXn5MB9e2tYRQEn7YevOyJ79FFq+ycxPsHBAFpS9FFaIQEIBDwck5RoPa6eGIB5rU9328rL7M9xC4i57mOvJW7scEaABbBb2LpMvr7Jcz1CverpqCz01/vc0TLKJwRqISANshY6Sis8ArwwmWrFKhOCwIUd509y8LEbnvhLlecihzwhQXj8IECDhhQxvsEIB6cG3uci91eyC4GeRqDYb4SeRkf1Fx4BJw3fP8m0ImuVrL2xPomXm5QYnTi8XJEAcNmRmX2M0ZFC2GWXXexILNYZ8UDkoYj9c9l1FQK9hYAIsreQVjtNgYDvn2TKlfVJ3K2df/755sgc0uAD0aRk0xSCd0AIZGc/Iy752M+IWzwsVVln9P2MXk0R++ey6yoEegsBEWRvIa12mgoBjoDCvyuHFePLlGlIjpQiOFE2lcBVhElJDuMk+tGvXz9bZxw0aJD5dW3Lbyp9VBACQqA2AtoHWRsfpZYcgf79+/9fe2cBN2tR/fFR4NLdfS/dKSUIlxYFpBsuXdIdApcuAUUBpUEkBBGkpUWkQTqku7uR//7ne+C3zPuw+767+249z575fHbneeaZ/E2cmTNnztidiUi57rzzzqbcO16aHIZFRd8YESHslBXbDbCIyME+5VowhI5gG7MqTg1578b8p3n0Z0egGxHwFWQ31ornqa0IsCeJ8A4XLk8wwQR2wweXB3N+sptWkyJ0Aof7GTnPyNEN7svkNhARR/xiZHcbcVcZ3HYEuhkBJ5DdXDuet7YgICLCnt0JJ5xgRyLQ78qxEPYqMZ0mMORRxJrzjAcccEBYf/317VLoK6+80pS1I7Wqsmh1qTBWCP9zBByBuhBwAlkXXO65iAiImFA2CAx3NV588cUmAQrrdfnll7fVmcqOH/1SNz03aou4ET4bP3lEbyr6ZskPx1QuvPDC8j6jlAKkZWk0Hx7OEXAEvkHACaS3BEegCgJrrrmmnZ9EgIf9SS5AfuaZZ8oruTTYYAiTCCNxpM9p/JxnZEXLhchcqgxxnGuuucpeOr3CLWfEHxyBAiHgBLJAlelFGRwCEKeUSLEq0/lJBGHGGWccu3vy8MMPL+9PKkURNr3XY4u4ZtPHHb2pG264Ydhjjz3K5xkh2Jg0zfS5nrTdryPgCFRHwAlkdWz8S48hIEIlW6syiM9UU01l909yZvLee+81NifaaWB7YhSmEchE3BQHNucZIYprrbVWmG666Wwlu/XWW1e8BHmw6TeSZw/jCPQCAk4gO1jLGhjJQvqcfc9+62CWezJpES4Kv8ACC9j5SY6CsB+I1KjOT/Jd+l15lqlWf6m7niG4KFlnn/G1114r7zPqfkbiVH5kKx23m4sAdaJ6aW7MHlteEPBzkB2sqf4GuPRb+tzB7HrSEQEGTOqD85PLLLOMEbOddtopzDPPPHZp84wzzmg4QSi1AsW/wmVBTN1h46JEnEP/HDNZZZVVvhdXNry/N46AsJetmNJ373tCpTdtX0F2Sb3TET/66KPw5ptvlnNER8Xg/t5775Xd/aE7EBh33HHt/ORVV10VJplkkvL5SY5hiDiS03TAVc7lRr3rPCNafRAMQiDHiaOQap2dTlyoD9jaX3zxRZ8V+gcffBC4DcVNbyLgBLLD9S4iSDbY20IA47bbbrNc0YHpoCjWhp3nprMIiKgpF7zzQ7/r8ccfb6vJBx54wNiunJ/U9VkaiBUOGzcUpUMUOc846aSTBp1nTK/sgtCmbSSNw58Hh0Ban59++mlYb731TG9tGiuXSv/2t79Nnfy5hxBwAtnhymaglFl88cXDtNNOa5pRPv/8c3Nm4H3yySdtZYED7jrzlg6caH1x01oE0roiJd5TN85PXnbZZVZ/p59+uh3LuPnmmy1TqT9YqKeddlpYYYUVwvPPP2/7jMcdd1xgnzGtU5UmDSs3twePQIordfLEE0/YxdqcfZXhvOlzzz2nV+t7rDRTU6nO0u/+nF8EnEB2Ud0NGTIkHH300eGpp54K5513Xnj66afDSSedZHtbM888s9nLLrusrTI5yE4HZ4BF3Rgrz5VXXrmPwEgXFa1nssJgyf2T7CdSH7vuumvYaqutrC4B4aabbrK6on65n5FzjZxn1CCbDto9A1qXFHT88ccPiy22mHEDXn75ZcvVaKONFrSih5XOnaL0Nc7EvvTSS+ZHddclxfBsNBEBJ5BNBLMZUc0666zGduOs3eabb25aXeiMKKG+/PLLwyGHHGL3+nHPH3f+/frXv7aZ71lnnRVmn312+66jB83Ij8dROwIMlBA4bM5P7rjjjuGaa66x53XWWccGV66igmXOBc7V7mckvA+6tePeLJ9wZ3bfffcw8cQT22RU8UIkIYbbbrttWGSRRcLvfvc7O59KH2Tlme43K4zbxUDApVi7sB7piH//+99tT/LOO+80tg6z12HxhgkEQMYee2w7f4dy7cknnzy8/vrr4aKLLrKZ7YgRIwIrUTftR0CrP9kQOa6bYg/rrrvuCnfccYexymGj92cUvj8//q35CLBnzCqSyelqq61mE1SUQ0Ag6Y+cRz300ENtEsTeMcSUlebQoUNtQuP11vw66XSMTiA7XQNJ+gyodDIut11iiSVsdjrHHHOYMAeSdOx9XHfddRYCVg9sV9h4SFCy98XBdfbBOEc35phjJjH7YycQSAdMVh78MFodpt87kT9P8zsEII7UB9wX7tREexGrfSabM8wwg01CuelFdaZnhHswcv8uRn8qAgLOYu2iWtTASZYQxKHT8oPlw2+hhRYKsFIR3OHmBtyYyUIgIZywYbkEOBUq6KLieVa+rVeA8AG1O5qD+pxuQqG/YZBeff/998Mtt9xiK8j55pvPhOXQxYthj3nCCSc0oTpz8L9CIuAryC6q1nQvg+fRRx/dCCSdF0K43XbbBa5heuONN+zeQrS6wLrjoDrKqyGMKLTWYfUuKppnJSLAYJzWsYPSWQREHMkF9YIwDn0NM9lkk9l+PvdsQjQ5n4qaQTg29C905B577LGBs7BuiouAE8gurdvNNtvMOiX7HxikVy+99NLw73//24gjqsjonOjrRIvLQw89ZJfmQiAhrHR+X6V0V+VSH14v3VMnqg9yBCv13HPPtW0L3uHgoKzh9ttvN2KJG1sYrBxR2sFe5Pzzz+/scoApsHEC2aWVi0BOauiwHAdIrzjiOzNfpCFTicg0nD93FwI+aenO+mBSyREPGfoVRDN1Q4CHFWVqvD5TNIr37HuQOalTseZYgaSsIWUfAsqv0jf5cdsRcARqQ0D9iD7lpncR8BVkzuq+2oxVBFTFqeZP3912BByBygiIOPI17Ve4q1+lz5VjcdciIOAryCLUopfBEXAEmoYARFCEkEhFMFO39LlpCXtEXYeAE8iuqxLPkCPgCHQTAk4Mu6k22psXJ5DtxdtTcwQcAUfAEcgJAk4gc1JRnk1HwBFwBByB9iLgBLK9eHtqjoAj4Ag4AjlBwKVYc1JRrcim1Gq1Im6P0xFoNwK+V9huxIufnq8gi1/HXkJHwBFwBByBBhBwAtkAaB7EEXAEHAFHoPgIOIEsfh17CR0BR8ARcAQaQMAJZAOgeRBHwBFwBByB4iPgBLL4dewldAQcAUfAEWgAASeQDYDmQRwBR8ARcASKj4ATyOLXsZfQEXAEHAFHoAEEnEA2AJoHcQQcAUfAESg+Ak4gi1/HXkJHwBFwBByBBhBwAtkAaB7EEXAEHAFHoPgIOIEsfh17CR0BR8ARcAQaQMAJZAOg5TlIqq8yfaZM//d//1e+HDbPZfS89y4CutwY+4c//G54S9u6/PQuSl7yWhH4rgXVGsL9FRIBEUcNJD6IFLKae6ZQtGPasLfnnqnylhTUb/NoCazdHymDh4ggdjrbTgeW7i+J59AR+A4BEURc0jYud2/b32HlTwMj4CvIgTEqhI8vv/wyXH755eHll1+28gwZMsRm16OPPrrZt956a7j//vsLUVYvRG8i8I9//CM88cQT5fbNpI/2jbnvvvsCbVyE0hz9zxEYAAEnkAMAlOfPzJZlIIhPPfVU+MlPfhJ+97vfhTfeeCOMOuqo4a677gqbbrpp2GqrrcK4445r3n0QEWpu5wEBtfPXXnstrLDCCuHoo48Ozz//vBHDBx98MPzyl78Mq6++ehhzzDHLxVGYsoM/OAIVEHAWawVQiuo0YsSIcOaZZ4addtopTDnllOGrr74KK620Unj//ffDyJEjw8wzz2xFZz8yZbkWFQ8vVzEQYEJHm11rrbXCWWedFfbZZ58w6aSTGoFcd911w1tvvRW23HLLsPDCC5s/b9vFqPd2lMJXkO1AuUNpZFeCk002Wdh+++0tN8y23377bSOOEEaIp4wPIELC7bwgQFsfe+yxbfLHM0TxzTffNHviiScut3u17WzfyEs5PZ/tRcAJZHvx7nhq66+/fphjjjksHxos1ltvvTB06NCO580z4Ag0ioAI3s9//nPbRiCeUUYZxaJjZTn//PP3EUprNB0P11sIOIGso77TfYv0uY4oOuqVPE8yySRhu+22s3zAlpp++unDNttsY+98T3+DzWwaVyPP9aavNOoN5/6LgwBCOTvuuKMRx6+//jpMOOGEYZdddrECiojKLk6pvSStQsAJZB3I5r1jKf9rrrlmmGuuuazk7M1MPfXURhj5nv7qgKai1zSuRp4rRtqPIwSSdLDd1I5ArXhpAtJKu/ZcV/f5s5/9LAwfPtw8wDGZbbbZqnvO0RcmtG7ai4ATyH7w1kBQyQsDcV4NAjqsIuecc86w+eabWzHyXB7Vg1jGRSiLytRqmzZeK174a/WvGeUda6yxTHIV7ggCaUUxat9FKU8eyuFSrP3UkgaOL774Ilx66aXhpptuCv/73//Kq61+gnblJw2GdDQkVzEHHnhg4IzkaKONZhJ+acazHXKgGWy9/tO0Kj2T33oMQkgbb7xxmHvuuesJ1rN+1R4A4Kqrrgp///vfrS2k7ik42tNL3Zr9DFu0UUNY8ohNP+Vo0+GHH25utM2B2m+j6bYrHOziNdZYIyyxxBLtSrLn03ECmTSBdGDQM9JwW2+9dXjnnXeMbUMjpQNyhpBOSMcTIU2iMiJKh0yJRiV/2TDpO/6VFnFlw5PH1Az0XYMENgPJsssuGz7//HOLQmHTQaaWARH/qSFPGqSwVYZKcWXzTzwpZnpO7TSt7POTTz4ZNthgg7DtttvaCiL7vdff1aZlUzeffvqp7dk9+uij1r6ZZMiAe2po86022TTT9Pr7hr+0r/H+4x//2I4y0U/VvnFv1GTjbzSeRsM9++yzxvlhi+Sggw4ql0n12Wi8Hq46Aq1v8dXT7rovaSfSwL7rrruGCSaYIJx//vl9Dhp3XeY9Q4YA2oA23HDDMGzYsMBelA8e3zWMtH3L9YADDrDjPtddd10Yf/zx5ex2lyKAso+NNtooTDXVVDZxJ5uV6rVLs5+7bPkeZKbKGFD5Yf71r3+Z9pnf/va3fYij/MhfJoqaX9N4BhtXLYkqDWzNxrO2/NQSH37SuNIwiree+BQmjaee8PhdYIEF7KD4r3/9a2MX+uCRovnNszB5+OGHww033BBOPPFEI47gp9/3Q7lLpxGgbmaZZZZw2GGHmcIPVv8yfHPTfAScQGYwZfBIBxAEWcYbb7w+vlI/6Ye//OUvYZVVVgmcxUJDzcorrxyYoXNgGaPBR3YattLzxRdfHI488sgywa7kpz83pZPa+OcdYvTQQw8F9lf/+9//GmJMIAwAAEAASURBVFvylVdesehgm6Zhqj3jmf1LxOhvvvlmC0u8/GBHnX766eGMM84w90p/2XjFwqLj77fffuGee+6xulB+s/6z76q3BRdcMHz88cfh3XffrZSsu32LAGzVKaaYIkwzzTQVMcniW9FTFzuSfwx2rW06W+b0vdNFVfvmTCfP0quscnY6f0VM3wlkUqvZhvbJJ5+UiWP2G8HUYBXFAw88EO69917by1l66aUDA/V5550XdtttN9uvVBjCVfopHtkMYLfccktVAllpxUVY5TVNA3flF0IEYeMA9eOPP277NAghEQ4/2jvUexpP+kycmOuvv972aHkmbhE69LzefffdOFc0aVw8y0Agr7nmmvDSSy+ZE9+IM+s/+67wnIUbY4wxwmeffSYnt79FgDpV+2D/eZxxxqmIjfykHxW2lXaa3mCf1aaw1aazbaae98Hmp1nhET6ijX/00UcWpcrQrPg9nu8Q8D3I77Co+FRpoKjoMTrSCTlfuOeee5a9IPTwhz/8IXzwwQdhookmCr///e+NdcusnZUX9tlnn20z3EceecRUY22xxRYBAotQBB0B4vDYY48FWL0IDc0666xh5513ttk/q9Njjz3WVoHzzDOPuaNaC+JEusyc0ZTDfpwMhJXVHQTo+OOPN0XlrCT+9Kc/Bdhu7G8Q/7TTTmudkHRxn3322c0dQSVwoWNieL/tttsCtylAlBCSWXzxxcuEEj+sBk8++WSTnv3Rj35kqr8o17nnnmvhIYjEw54vmEHgkKzFgBl+pSbPHPv5q6fO+ommJz5p4kFhVZ+tKrjXS6uQ9XhbhYCvIPtBtt4Bg8EG/aasmnS9zrXXXmsrSYgWRyogWrBtWbltsskmAZ2orDI5r8VtA6S52Wab2bU9nOfiHVYh5xaJe/jw4eHqq6821ivsUSRsYW8uuuiiRuBgybLyZCMf1jBKALjN4IorriiXlHyit5KZKAJIEGEI+N/+9jcjgldeeWUYOXKkEVe0knAEYKGFFrJjLigWSKUCmRRAyGAvTz755Mba3DTeDvLcc89ZvMRNGbkthHS5TeScc84xAk15yC+/GWecMdx5551GICkXfvkdcsghtkcm9XjlQvTzUG+99RNVIT+l+PCcvreywEqrP7uV6XvcjkC9CPgKcgDEqrExKwVjQIc4oboNIsKVUhCBSy65JHz44YdGGPi29tprG8HhCp7//Oc/JiCBxo8jjjjCwnHrAEQP4kI8ECDYtKzs3nvvPbuJ4/XXX7f7GxEkYvUFAUOsnVXo2XFFikQiK1Fm7bB+WTGyPypDehAmzg2ysmWliWDLkksuaStX4rzjjjssbq4PggBzHRb5eOaZZ2wVS1zgw37f7rvvHvbYYw8rJ4IysJoh8LDxINT777+/EV8IJytF9k/ACz+IrK+zzjqmI3bfffe1VSiEF+KIf/ICu9qNI+AIfNPnHIf2IOAEsh+c62UJQcxgc1522WU2+LPPx8oJNiJEA/Yj4vSwI1m9ceCXPSBWTFohQRi4XQMCiN5U2KwQIcJBNJFig83KihTiSzzzzjuvlQLixgY+RI9VJ0SJK62Ik3AQQZ4xpEn+KKPcIcAYVpUQZVaVEDhYr3/+85+NYMP6xX9qiGOGGWYwJ4go7FomBOQbTIiDy5pZQZMPvkEcWUnASh36raJ0JgTkD3fyBwsYN4SIIJCkw7dqRt+x65nYVIuvF9zBSri1ury1poO/1FCXardyT+PSs2z5ka341Haq+ZP//uxsXP35LdI3YVekMtVSFmex1oJSjX5oRKyI2FeE2AyNAz+H8SFoEBxYqLBEYZGyHwdR1NkzzjdhID7sN7LPiIGAcBM6bEnOYiLZyh4eabFXR4dVWOI8+OCD7QwghAj/sE2XX355I7rpIKOOji1iIsKHG88Qb9JnhQeBhuDCCoVtmxqIOCtGDBp6WB3ih3ghtrCZ2Z+ESF544YVGTJUX0lJe8C/CCWHkYmdYuki0vvDCC/0SxzQ//tydCKieyR1KHeBQ0M5Sd77RtvnpmbYiP7L13TxV+cMvv9SvwstWUNoXWyNM6G688cay5PktUUiOfiSBrzRvCut2cRHwFWQT65bOxYpNAz1RQ2ReffVV63isJmEbwqJEbR2rP1ZbDACs0LBZNUEklltuOTsiQZz4gU3J/iV+IDbaQ4QAs2LEP0QU1VqwWn/xi18YyxMCx/4gYVMDIeeHgA8COcQrw6DFCo5VL8QVYSK0d0DgZpppprJkL/410BA/2obYW0U5NEI6f/3rX63cTBjwd8oppxiLmMP8rE7JY6qdBdzAD7+sOsEHgSckbH/1q19Z+cCG7+mgp3y73d0IUHe0LdoaLH/26Zk8qe1R/6rXLCFK3VVKtYPsN9wxcpe/1I1n5YVn9tmZfLIdQh896qijbLLHXv6qq67aZ3sC/256AwEnkE2sZwb8xRZbrNwxiZrzkKweGexZCSEZevvtt4ef/vSnRthYBSKujYo0volo4b7iiivaLejsL0L8EJ5hZYkQD6tKBpbf/OY3NsNlrw4CtNpqq5n7BRdcEPhBYC+66KLyHXnkiQEDwvnHP/7RJGqnm24624+EEGOGR0EgVoCwSxX/gw8+aOmyV6iBB7/kgbOe2EjOQgzZ+yQsGm0ggBBL8vbPf/7TnhEaYkXK6vLQQw+1FS9xUU72RdkT3WuvvUynKniceeaZto/KsRviTdMnnJv8ICBiSB1CoLIGd1jwrC7hIrD3TVvFcE6XNgZ3Bne1Azg0tE/aMZwTCC3ppISSSSoEmfbDHj/tSnlRHgiH+wknnGAcFwgmaSBARzjyy+QOm20NOEJuCo5AbESFMvEMXSnuxZUia8TKFRt9zeXL+o2zyFIczOuORwlm45N7aseVWikS1VIUhEmdS7WE7RPg25dawlXzU829UjpyqxammrvCNWLHganfYEozsu9KkSiXou7Kfv334kdhRNnPOuusUjwLWxoI11bgFAW6rI6UtvL19NNPl6KkcylOlkpxP78UjyeVImeiFFn4pcjRsL4dJ4mlOAmzbEVOTClyLCwu7Lj6+152oyBbKUqOW1jsqPC7FPfozZ/SPemkk0pxYliKWwSWdpQjKEWuTCmuekuR81OKxNnCxWNcpfnmm68UJ7ilSHTLaSmeskMLH8j7UkstZZi0MJly1JFzVFpmmWVKjFW9ZnwPskUToNiQyjPc/pJgdQkbU3uO/fmt9I10UsM7M1xM+o1n/VL/2ec0TPab3hUPtmbxfEvDxgHDZvKpm8I3asOic1McBGgbtBOM2hGsTVZmcYJr0susGk877TRj18NBgN3OdgT+2Y5gfxzpbLYseIZTgYao1PCOViu4FpypRUjuiSeeMC9p+yRO8oPwGytGpLJZkSLdjaAaXBq4OEhVI03OGWIZ5V/vbhcDAWextqAe005H9Ok7HSl95zuCNXRM3PU9tfGDUTj5+8a17z/h+GFkp89pHObp2z/5lZ1+07PC6j1rp2HF4krdsuFVDvnJfu8v/uw3f88nAumkBwLIMSW2G2B18kMgDbYme9AInMGuX2GFFcKm8awtRAoJZ1ixnClGkIbJIQJASJPLQBxh07OPjnS32h3fs22P8OSJ9guh5pn9f9izEE62SfDDES4Ee9wUGwEnkC2o37TT8az3NKmsGx1RBIJvaSdWOLnrWzYO/GXdNENP41d8WTsblu/Kk57xwy91z8aj99Sfwukbdvpd7+l3fy42AhA22qWMBLYQ1JJhDx1CxZ440qSsGrERnkHDEys9ODDsCSLYhYBaeh8oxIw9RIgp+9rEnQql0QYxaXuWG8eg8I9NPGiSYv+fPHGkimNY6ovKr9vFQuC71lmscnVFadTRsplJ3St1TPwjFYqwCwQOgRzYO3RyBF8QdknjwL9WoDwzC0crDYYZL9r/ZdIOTRx6T/OhZ4SJUGbAAIFfBjOli80PxQhKK+4fmdAPg4nikD+9Kx+yFZ/e3S42ApqwsUJ78cUXTZCMlSHHfxC0QcgNzVKScIXVivAbSjTgtLCiXHfddY1gcRaYrQnuSYRAIkWNYJqEekCSdkff4UgVfmirCPXoAoEUbQgfbVyS1IQlv/w4/8uKESUXEOuzozIO4lD7rda+0/j9OX8I+AqyjXVGJ1KHUrK80wGx028csUBaj84KkWPmigYe2Ec6kwUhkiQeHVvxMOCgO5XjHQwOdGoMhI5ZOyZNi3CayWtQIF4GHDT9pOGYpacDUBT0sHOY3EbPHg+ze86RyQ+DDkargzTPetbgkubJAvlf4RBQO+O4EPvv7DnSRjhWxFEl9hGROEV/MG1w08hKZZIGgdt8883tXDGgMFGE3YrUMzp6IWBIiu+9995h6NChhhvtmna3zz77hJEjR9rEcvjw4SEKnJgyD27dkUFNImnQP1iBcowKA1GlXaJfmAkg+cKwgqRPYir1a/vgf7lHwAlkG6tQBIAZLB2bjo9uUjr19NNPH3bYYQcTRqAjMlNmz4OZNXsw3HAxLF4CzLlKCCCH6CFcDCh0VgyDDwIJECnSICxHKYgPBQWsLOnUnMfE4O/UU0+1gYgBAAKMEdFlcIHQ8Y7oPUcyUG3H4IZWHAYgBBbQtUo+IIwQVIQq0OGKYAMElEGH9CkvflgVoFCAQYlwwsUHGoO/0H+qY7gjsElV95rc0d5ot7Qp2g1HfjCsFGk7KKGgD+hIEpcDcC6YPUH8wnKVUdwQNY5MQYhhizIx0yRT+WF/kvOOpMlZSNo8/YlJpvoDR55QlkEYjmHJKB29u10cBJzF2oG6RHsO+lEhdBAeDk1zJhHDYXxYOWimgV3EAMBgwKyWM4boPYXlyuACi4n9FAilDH6ZCaPxhjB0XthVuCHcQAeHiKK8nAPRCERwdhIdqBzaznZ2vXPWEeIIQUN4AuUEDCaoxWPGjsICnqeccsqwyCKL2CADSwyCzE0i6HDlDBurAyYH7CXBTsMwYGGUlr34XyERUB1jQwxpQ/zYZ+Qd4oOhHUHw9I4b35mciTjyjR/uTDBT4og7aSg8XJRJJ53U3Jj4QWQVnrghhuQDg40f3EQc7UP8I46UOOJOPBB4N8VDwAlkG+tUnRVWEOwk9k7YE6Hz8g226PPPP28XLqtzooOUPQ/0tjIw0BERP4fFxKqPmTNsTwzf6LywZyGm3BqCZCDKCtCGg7ACAw/ECS03PCPGHs91mco7xOdTw+DAjxUomkYggrCeOGiNejvYt0gLkj9WseSVPHLgnz1UCCc/hBsgqszGGXjQF4tUIQQbQ1ndOAIgIAIqNLLvcpffat/lLjsNl4ZtRtsjjWbEk81jN75rDOvGvLUiT85ibQWqVeJMO+vwuBfCChINObAeYR1xRovVIPspsCox7M1A+NiLpBOybwNBwvAuIqZ3bFhJasjYsFkxsGmZHfMdcXfS5IwXcbPfCWFNDelCzFnlEhbhIAg6s30IPPESvwYH/GOIG6LNHibCFRgIJYQRd2bv0kHLN+U1xQd3N46AI+AIdBIBn7q3GX0RA4gRxI2bP1hJwQ4944wzjDXKakvEhuzBgoQI8YOYpd8qZZ80xLbkWYSH1RthIZLs/7HC1MFnVn2o6koN+YNgw1aC3cWK9YYbbrAD0uzlsFqE2Co/pMkP1i/+iZM9StKAOOKu/AgH2Wm6/tw6BNQWWpeCx+wIFAcBX0G2uS41QLEKQwqPmzsgVOyjQFwkcAPh4B2ixuqLmzrY42PlJYKELaKUFgNhHulQhchBxDD458c+JhcwI5iAYA5ElwPXXMuFwT/pEjcEEnYte46cI0MggtUtq1hYtAhPIJQDexYl5ZQHwR/YwNzEge5WdM0i0o9gBizk1AgP2ek3f3YEHAFHoJMIOIFM0M8O0ggEQBC06km8NuWRPUG0fEBsWKUhJIP0KoazXhyAZtWIKPz1119vysx51kqP/T+IGitODAQNgojQDaxRlJ9DqLRKgyUqRcywVNlXZC8SYnjMMcfYfiR+ecewpwjxg5gjaYugD4I2wyN7GMKHgchC3CkDK0b8o3kEQk/crJBhC1MeCDf7oayWcZPJ4i73rK1yZN31rnjYY0VKkVWuTKvqUPHn0UawhX1ksGJvWRjJzmOZsnkuYllQv8e2BxPndhv1sXan26n0fhAbUF9lnp3KSZPSpbNzUwYSmlGhb7nTNxI9RyXQ88hqa8SIEY1E4WHajACTBCYdEGgkc91UR4D9YCY49BO4A27ygcCm8Wwo+/jILGBaPQngjDNai9guYeLdS8ZXkFVqm0bHqi7esmEHkZHkhFjqAHGVYHU5azamOQrvesaW8AvP6TcSgVXKKgx2aOqPb/LLahKCgeGZMMSluAnH96x/3jHyz3uaBuG1ypQfxYtffrgrDO98l1H6qRvf8NefyfrP+uV4DB0ZqWCOv2AIM1C82Xh65Z2VP+0bPaYcv2GVz+pfeA2Ed7fjlPYP+onK1e35rpY/zobGW0dsiySVOKdc3s6roTY4dyeQVfBTo2N2jeorpD1ZSTKoMPhDcOodQCp10DSOSt/JXtr45T/1S34wECS+p/5xF6EkjJ7ZW2RvEGKiuPjGs4iqbOIVwVPcSodvhOFdRs+pO27Kn9yx6zGKt78wqCVDs4rYzo2m1V8aRfrGOVuO30AopaNU9ZT3ciJNzbaC2mjey0N/XCZqAeJMcVYPbL19Ke9YtCv/TiD7QVqNDglMiCS6UGHhMlBDTNptlJ9a061GUJhZs9+J1CznEWHXMMOu5r/W9DrtD2LPfimGsggv2Z3OX7emz147e8dq3+QTzPLaHmjfKOJA2xMCY+y3MyHMu0nbt+pIZUrbu9zcHjwCTiBrxJABg6MLRTEc0YBdjHBNEfcVnCjW31IZgPkVwdCumSwhaZ0Ka+W9bCKEsilPXicyeagLJ5A11FLaGNUg8zYAZ8vA0Q5YNvyy32qApOu9FLFM7QK9CNhpzxEbQ5nybtIxp9pz3svYbfl3AllDjaSNUYNHHjpcmu/0mSKTf5VBZaoBitx4yZY3NxnvgowWoT2wZ85P7UB2F8A7qCwUpRyDAqGNgZ1A1gm2GqjsOoN3jXcJLjAYSigj72XqGnBznhHaQ95NEcqQ9zooQv7z3xOKUAteBkfAEXAEHIGuQ8AJZNdVSWcy5KvHzuDuqToCjkD3IuAEsnvrpi05c8LYFpg9EUfAEcghAk4gc1hpzcgye4/83DgCjoAj4AhURsAJZGVc3NURcAQcAUegxxFwAtnDDQD2qrNYe7gBeNEdAUegXwScQPYLT7E/Opu12PXrpXMEHIHBIeAEcnD45Ta0Vo++gsxtFXrG+0GgUrv2Pfd+APNPFRFwAlkRFnd0BByBoiFQiWgWrYxenuYi4ASyuXh6bI6AI+AIOAIFQcAJZEEq0ovhCDgCjoAj0FwEnEA2F8/cxIYi51FHdVW8uakwz+iACKR7jDzrcnAF1HfZcnfbEaiGgBPIasgU3J39mGoDBcTTjSOQNwSye4xcdcXlyTJq81l/+u62I5BFwAlkFpGCvnOj+iOPPFK+WR0iqDvzKPLLL78cnn/+eSu9bvewF/9zBHKCwMMPPxw++uijcm5px5rsvfXWW+G///2vnfutNjEsB/QHR+BbBJxA9khTGDJkSLjooovC2muvHe65554wxhhjBNw+//zzcPLJJ5v7G2+8UUbDZ9llKPwhJwjceOONYdVVVw3YsFfZQoBA/vnPfw6rr756ePrpp60k3rZzUqFdkE3fhOqCSmhXFtZbb71w6qmnhuHDh4e55547vPvuu2GppZYKDz74YNh0003DIossYllhhs3P79RrV814Os1AgPZ90kknheWWWy4svPDCgVUjBPO+++4LK6ywQlhxxRWbkYzH0UMI+Aqyhyp7zjnnDJtsskn49NNPw1133WUsJ4jjJJNMEnbYYYcyEsywnTiW4fCHnCAwxRRThO23395ye/fdd4fnnnvOiCOckj333NPatFiuOSmSZ7PDCDiB7HAFtDv5bbbZJkw55ZR9kl1zzTXDggsu2MfNXxyBPCIwYsSIMNtss/XJ+s9+9rOwzDLLmJsmfr4P2Qcif6mCgBPIKsAU0ZnZ80wzzRQ22mijcvEmmGCCsN1229l7Omikz2XP/uAIdDkCE000Udh6663LuYQgbrvttrZ6TNu070OWIfKHfhBwAtkPOEX7pNnzVlttFaaZZhor3vrrrx/mnXdee04HjfS5aDh4eYqNQNqmf/GLX9j+o0qcEkm5ue0IVEPACWQ1ZArozuDAb+aZZw4bbrih7T1uueWWVlIfOApY4T1aJPYiN9988zDWWGPZ3jqTPdo3tp57FBovdp0IuBRrnYDl2Xs6OKy00krhqaeeCgsssIAViW9uHIE8IyAiSBnYc1xsscXC7LPPbkVS28f2tp7nWm5v3n0F2V68O54ag8P5558f9t133/Diiy/afiTSfm4cgbwjQNv+4osv7KgH2whIa6+77rrh0ksvLa8gnVOS91pub/6dQLYX77amlh0M0JazxRZbhN/+9rdh//33DzfddFOYdtpp7azYGWecUc4b4bJhyx/9wRHoUgT+/ve/h2WXXTb87W9/C4cffnj45z//GZDaPuKII8Iaa6wROPpRbfXo7b1LK7XD2XIC2eEKaFfyF154YVhllVVMg86VV14Zfv7zn4fxxhsvHHnkkeHYY48Np512WuC4xzPPPON7Ne2qFE+nKQg89NBD1nYPOuigsNlmm4UrrrjCWKxo02Gv/dprr7WtBL5x3veVV14ppyvCWI1wlj36Q08i4ASywNVOp2fViHKAY445JhxyyCHGfpp00knLK0SOfvz0pz8N//jHP8KwYcNsoIFYYgjvB6sL3EByVjQRM2X71VdfDfvss48RwVlnnTXccMMNxiEZc8wxzYuIHoowDjjggMAKExYsk8Pf/e53prcVP9l4Fb/bjoATyAK3AXRQQvyQ5rvuuutsBaniamDQ0Q9Wk7/+9a/D8ccfH04//XQjlCh31ncfRISc251GACJ3yimnGKF7/fXXA9wR2KgTTzyxETtN6miz+pHnGWec0TglJ5xwQrjqqqtM9dxf//rXqmzXTpfT0+88Ak4gO18Hg8pBOgAoopdeeilsvPHG4bjjjrO9mD/84Q+BVWPWaIaduiP9d80119hqEj2WZ555pn2u5DcN58+OQCsQoH2L4NEGaZvsM0LYaN9nn312QIWiDH40qeNZP33HXnrppY1AoiADzspqq60W7rjjjtRL+Zn0MbLLH/yhJxBwAlmAak477wUXXBBWXnll22tklsxBaQYYDTL9FZd4+KGNhNUkbKh0b1Jh0/Tk5rYj0GwEaLMieFzVhjLy/fbbzxTr07alPq6Wtp3NG/uTTCLZn0TNIlKvu+22m21JyK+3cyHRu7YTyBzXvQgaM2b2YzaNN3IwI4bdBGGTzlXNqAcqKoMRRgMDtyKwrzPDDDMYoU33JgeKy787Ao0ioPZHu33ttdfCXnvtFdCOg47V66+/PqDcYvTRRy9Hjz+FKTv285D6nXDCCW1/EsEe7pLkfPBvfvOb8OGHH/ZZfapv9BOtfyogAk4gc1ypml3/5S9/sY7NXiMDCEIIMgwG/Orp4PJLuLHHHtukXLkz8qyzzrJZvC5WVhpuOwLNRID2x2Xe7DOiaJx9RjgjI0eONO1PSisldGqz+lbJTvsCq06984yAGhNArsuCjcvevc5PVorL3XoDASeQOa5nJFQRXdeqESKGxB5GgwcDh361FDUdaHhWPEsuuaQNHNnVZKU4NfBU+uZuvY1ApbaRdUPadPjw4UagOIJ07rnnhrnmmut7wKVt9XsfKzik/YBVp95TDgvt/OqrrzYF/pyl5OjT/fffXyE2d+oFBJxA5qiWRazIMqtG9hpZ4cEeYtWYzorrHTyqwZAOXuOPP76xbxGOOOecc8I666wTtJpM/WngqRanu/cmArSRbNtI3bibdIMNNrDjSOhSpV3D5m+nIT/an+ToE6oYOSbF+UkmpDL4c1N8BJxAdnkdqyNqINGq8eijjzZi9fvf/77PXqMGIIUbbPGIj7j0Iz4GLQaP6aef3ggzrCml+/XXXw82SQ9fUATUljSRo5i46Twj17DRpmhbEMgxxhijjESz2nM5wioP5EeGYyO/+tWvjFB//vnnto3BMahPPvnE8i1/bhcXASeQOalbOi7nvVg1jjvuuHaukf0ZmXQASZ/1vRGbeEg3ZUcpHvY7YX9BoFFTx2qSc5PMvt04AtUQoE2pPX322We250c7RrvNxRdfbJqdkKKGiKYmJVype6ufyS/7k5wNRqr7xhtvtPOTcHDUz7J5bXWePP72IeAEsn1Y15QSnU4/AjAwcK4RNg/SdajTOvHEE8t7jfhRR+UZQ5hmDCi1xMGZMoQapptuOjtPJknXb3LyzX+6Ykjd/bnYCGTbJe1A+33s8y2//PJ2npE99D/96U8mpSpE5E/vnbLTPsC+KGxfjoSQ57XWWsv0u1bKa7bsncq/pzs4BJxADg6/pocWcVPHTM81Iryw+uqrlwmiCKnCND0zNURIHhCV59wkStClhSe9IUQrhhqicy8FRoB28PDDD5skNKxLJn2cQ1xhhRXKbbqbi09bp6+NGDHCVpLzzTefsYJ33nnn7+l3xV+6svSth26u2ep5cwJZHZuOfpE2HNiYhx56aDj11FPDZJNN9r3VpQhppzJL+potszfJMZOhQ4caKxhiqW+yO5VPT7ezCHCecY899rDzjLPMMottEWy99dZhyJAhlrFOt+Na0CGPau8IrKHf9fLLLw8ff/yxHQuBw8NZSpVFNnH71kMtCHefHyeQ3VcnttfIgWUkVJlho/INAsOPTleJpdOpYihPyh86XZFylRYetJ/ohhDyiD83vYEAbfXLL7+0fWrOFUIkL7roIpNSTVUfqu3kARW1d+UV/a7swdPe2Wqg30I0MSKQ6UpS4dzOBwJOILuonpBQRf0V7Eq04aBDlVUjhs6mDtdFWS7nKZs/1IBB3IdFAQd0XbKaVDnyNCB2E9bdmBdNeLI2eWW/DvYp9zOyZ4fyfOlNTYlGtu10YzmVp2p9kP1JCCT3T3J+kq2Qe+65x4IxoRU+OKTPitft7kTACWQH6yUdJJCK4ywj0qHc18iqMe+GvcmjjjoqcHsCSs/XXnttOzeZpwEx73XQyvwz0ItgpDb7jJxnPPjgg22fEcKx4oor9smK/PdxzPkLhJAJLuWdf/75bX9yp512svOTaXnT55wXufDZdwLZwSqmQ6XnGg877LDwxz/+MUwxxRSFmGUyAWAQZW/ypptusjNuKE/XajKF3mfVKRr5eU7rjfOMKBOHOA6N+9A6z8g+Y+qP0hWVSFBOzk8eeOCBpgmIoyywXTk/+emnn5YrNp0clx39oesQcALZwSph1Qj7UXuNq6yySjk3RRhAmACoHBz6hnXMERV0uq677rplLTwUWv7KAPhDLhCg3jhEj5pDzugiXKb7GTnPmBJGntP3XBSwzkyqHVPOmWee2fS7sj+J8BrnPdHviqFvuOl+BLyWWlxHGhDSwYGZNiLuzCphQ3HYPhVaaHGWOhY9s+alllrKWMhoTGFCgICDMEIUPsWpYxn1hPtFQKsfiAH7zLBPuZ+RCRDnGbXPSCQiGNj69Rt5QT6q3BRn+PDh1ua5bQcNWEyKtT9ZqbjqD5W+uVt7EXAC2WK81VE0ODC7ZkBhRcW5xvTmjRZnpePRgwGDK3uTCG0woMJS5sA15yYRhRdeHc+sZ6APAumgzeqH+xnhAsBKREUc+266nzH12yeSHn6hbW8aCSQ4od+VSwY4P1lJv6v3ge5pKE4gW1gX6UCBKi06COcakVDVuUaSx59m5S3MTsejpuMzuKq8TBRQ3TU07lfBfkILD998gOh4VfXJQFoncD922WUXI46cZ0SgDM0yOs+IX4zsPhH1+AuYwHbW/iTnJ5kgZ89P9sJYkJem4ASyhTWlgf7888+3VeM444xjLKl0r5Hk0wGohdkZVNTksRmDnsqqPRj0ynJuknv4EN5Bp+vTTz89qLx64OYgoDqnHXM/I3tpDOi6nxEFFjqGpBTxq5/c2mUrv+1Kr9F0yCeTC7YX2JO/7rrrDFeOxWDUNxqN38M1DwEnkM3DshwTHQAD+4RVIwTgkEMOqbrXSIcQMdXsUXEQj56zdvqN50qGMIqz0vfUTfGnbjzjXmnQw71amGwcelc59a44dG6S1SQTCI6FyJB/+ZOb261DQHWqOr/qqqtMbyrnGeF+sE0wzzzz1F33lXJcrV5rbbPEqTiU30rppG4qX+qm5zTd1F/6LD+pm8JjV3NX25eNX+3JswpnwuH3T4JK9xgnkE2oCzpE2inoAOhQZbYN64kBZo011qgpJc0eiQP2I9KBadxpJLinnY1vWb98J065Y+v51ltvtdnr22+/bas37NSgBeWLL76wNDimIQ0hSkdpp3HqWxpPf8/EwY842JuEBQ3LCXYrgwV7k5pAKN/9xeffakegEp64qV6lNxVBMp3v48gCJvWnFJkQsqf8wQcfyMmuhmLlqXtD9UFEhnfVv75hqx+kbpWeWdkiRUscd955p/U78kb8lcpHHEpP37H1rLLzrmeFUfoKL1vushVOccq9ko0f9ifBFwXu8847r+1P6vxkpTC41RJ3tbDuXgcCEehCmXjWqBRvBS/dcsstVq7YUdpavjhIlKIy49KCCy5YikI45bRrzYf8xf2JUlSGzFK0FAll1bLEAaKchh4UB+9RMrSUvssP9q677lqKghalu+++uxTPXpbigGif5T9qPilFjSDmtt1225Uikbfn9E9+U7dmPMc790q77bZbKa5USpFYlqNsVXrlBHr4QdjGfcbSnnvuWZpjjjlK++67b+mNN94ooyI/ZYfkIbIKS5FlXnriiSfKrnHSVYrKL0pxklh2Sx+y8WXfU7+VnuOkrbT++utbG48rMOv7qT/6x0BxZr9n39P4Kj1X81/NvVIcqVu8Nq605ZZblqI0cClKupcY07Km0biz8dTyDsaRw1OKk+VavBfKz6h10FL3OgACnGs88sgjw49//GOTVuPoRmzIfWai/UURW5b5Z0b5r3/9y2bfs846q63cYEEyM33ooYcCxyFYWU011VRh0UUXNb/Mnn/0ox8ZyyadwfLM75///GdgxTj11FOblp5JJpnEZumscEkPqdp01o7SZQ5633777eH+++83DT/knZXkf/7zH1MhNtdcc1nc7777brjssststclZuGmnnba/Ylb9RvmVdzQKwZom3/vss0+44YYbDNthUXWdm+YhQPtUvcMtOOecc2wVOPvsswfac3pkg1RVP5VyMOqoo4Yxxxyzz0XH7LvzUzjuDIUTQRuGw0L87MHNMMMMdm4Qf3fddVcYbbTRTNrzscces317rlNDu1QqDISQC2303//+d7jtttssDO2YNhonfdZGkRjFcGCfoyi0VeIZGln59DH2wFm1YR588EFbjS688ML2LjfyhD5h9eeZZprJ+h57sY8//niIE/Jw7733moIA+kqcUJhk9pRTTmkrPZW9HOkAD8QPB4U2z7EQWNsIRqVcqHrjHCBJ/1wNgUKR+1iYVq8gWZFh0hlcPBxdinuNpdgZS1Gqz743+qf4mRXHfYlSPCNpM/mo6NmijKLhpXiTQCl26lI8dFyK7KtS7OylqMatNNtss9nMP5t2PJhvfqI4fmmRRRYpxQHCcNp9991LuMXObd9jZy8HjYIypUh8bfYfhWdKI0eOLMXBpxTvf7Rf7MQl/L///vs2u/zJT35SipKopUg0S3GAK8fTjIc4qNlKhjJTFhlhpXe3+0cgbbP4TN8je680fPjwUtR6VOZY9B/bd18VT5yAlSaYYIISnIdIfEqRaNnKMbLOS5FolVgZTTPNNNZO4kSqFBV9l+677z5rg/Goj0UI5yBOCkuRVVu6+eabzU88N1iKqttspRjZt+WEX3zxxdKyyy5bigryS5GQ2Gpr9NFHt1UkK544UTPuCG2Utknbx44H+K2NRmnSUpzMlr766itbHUXCWIrsZItfZYo3kFh/W2ihhUpR8rxEO4/bJ+YnHtmwuMgTfQouDPHTThdffPHShx9+2CeucsbreCAf8Wyp5R0c0r6lPNYRXUNetYKMrOyGwuc5EDOcQplWE0gaZdow4yzbCCMsyDfffHNQWCpeiBODBA2TQSDOXEuXXHKJxb3jjjsa2zHu6ZTiKtIIGwQME6VlS3FlWHrqqafsXX8QFXXqeGt7KR7SN+K29957lwkkg8mjjz5qQcS2jcrSjVWMI+xOCDAsM9i/DFjEG1fM9ow7LBgGrA033FBJN9WO2khKiy22WClKulrZ08iFXermzwMjEDkSxmZnckc7qsTOGygWYQ+BhJ3KhC2u9I148BxXfSW+wcKPF36XIIJM+CI3oxRXdSUIDcTlrbfeKsGmhXDGc5ZGvPbff39LnskYxJdJYWogxhA52mw8W2vxsM1BnmivEFoIDPlhIos7k08mlJE7UYpSuNYXyBt5SAkQ6dDuYTXTJ2nj4EQ/w0QlCVZG+gOEMapRNHe2LOiHcTVp7834e+edd2ySSl4YAyiLjPDXe7PtXiaQzmKttrSu4i7WBucaufQVQYa4ujLJS4LExlpmWVWJYkDnuH8annzySbsVAJYVbCHYUgitIJAA2whNNLAfI1EO5557rt2UAKsM1mnsyMauih3FWFuwyziYz4XGErqhHPxgr8IaS41YbrDB9ExcsXMaGwl3rrXCjkTa1ItxrRWGK41gLZFOnM2n0Q76GZ2usK85R4akKwet416NxUv+MKofe/G/qghwnhH2HexINLsgSFNNm1Ot2EYiZexU2O0cY8DEgd3aayS8Ie7Lh7iaM5YkrNL33nvP+ktcbVm7RR3bHXfcYdsGsFSfffZZa++wUGmHCHHFVVmfMsXVn7ExaYv82JKg/SFgFgmetUPaKFsGtBXaJXnhG6xV/KOwg3hg98aVosWvvkN/w41rrehXcsdT2tdJe4kllrCwqI5EHytxyp/6mznU8SfsOT8ZJxd2nybbOLCnt9hiCxPogU2c5quO6N3rAAj0HRkH8JyXz60eJOMqzPbD4mrG9kcgSjIiKHqvx1a+OTfJeUCUPmNI57zzzrM9SfZm1PEgbuzVsT9BR2fvg8GEvUkM8TEYRPZviKxRyzNnDOOs2AgjfhjUMMSlvCsfdHo9Y2cJKQMEHXPuuee2AZZBif0jiHoziKMGB9LWAEB50cATZ+y2N8mgyvVC7Ntg5M9e/O97CFBHnDflGA0TJ9oVhAJDfdMOMMLeXmr8o/3wg0DQBjA8Y2i3DOzsFXLmlQGfOiQ9BvjIurQ8QchQeK62hrYero6CsLInFwXXLD79kU/ihuCSNm2Fdqk2Q/zkBQJH+vhlUks6TPLY22fyieG2GYXDxig+nomXn/IGwQRPGb5hyBP9ShiqX8lfPbbyoTBMPCLnxnDkyA26XaNAlRFM+XG7eQgU5piHGieNUc/ApAbfDMh0rpErnLhNnI6eEsdmpMEM+oEHHghxfzBw8wW/7bff3soR2Uk2A1anhDAxuCF8QIeHsHLYOLKiLCvgwADBrJmBgdUmx0ZY/aJUmk6MH2bJ+MkaBjfE8xFeYPAUYeYZ/5FVVj6KEfeSLE70y7LibYah7jRAyFbdMrBBHBEISm8IkT/S1wCVfW5G3roxjrS8lfKn84wMqgyu6E0VccS/iCPPwj61cc+aNE3aE4IzmnThl/qineBGO8NGYAYCzcoOoTMMxxwggLQrNCxB1BCmQTUbEz+EceCUaOKldhD340PcUjBuCm76MQ7QTzhywp2U9F0EaWj7TLBYvWLidoDlAeEhVB5mDXGob0DUJ598cjvgT18DQ9JTH1O5wYxnYYOt52z89bwTh9JgQsGxEFaRrCwR4En1uyq9ZqRNHMK7nvwWwe8okT04sggFoQw0TAZvZsWsmIZGSTUqF/dGDI1CYTnX+Mtf/tIGZGbgYsUQrxqh/DaSlsLQiWH/MJuFqBE3M12IE+/MhFkhkj6DBVKsEIqzzz7bpAe5exH2FOEYJJjtIiHI4W6kWFmZwqqi4yOFCoFnVs5KE8yQOMRQFvIRRfZtQGMghQUnCT9YdBwW51wcKwA0gkShCmMB7bDDDuVZtsrVLJtyYcgfEosMfqweIcwMpkjyMpDJT1o3zagfi7hL/yifyqvyY7Niok6QhoTNCIHgpolmGGGKDeGDGELgaBMYBnSI0k9/+tMwfPhwY6FedNFFxoJlBYnUJ21oaOyrEDPYvdQhBpYlUqwo84dIMjFV++M7aaLJB0lSWK+wcGm/SJWCA1KmrJKXX355a8tMDukrpBGPOFl/ghWKwnUmmxCbtH2RBixiJL/pb/QnODVsgSA1TjxsO3DYP+6f2jPp0VdZXbIlQF9LMSLORg3x6EccPNMvIexMZLkuD0JPv2TMkB+lbw4N/LHdA/FlMqHVcwPR5DNIbBCFMJGY2QY8AgCxI5r0WjMKFjt3Kc5u7Uxieq6RuJWm7GakFwcUizcSejvDmMbJNwzfsoZyyx2bPKUmdto+AhhxVpx+LqepcGlc+NU7gfBDfKmJq4NSHCBTp6Y/C2fyki0jEoMSqEDaUOVQmKZnposjVNkjUTHpXwQ74lEZE4LJZjut1+y3Wt6VFn6rPaffaMO0FRm1LYXN2viLkzcTwuG5Un4JQzzY+i6bMDKkS1wy9BkEdRDmQVAoNWl44tUPP3xTW+dZfZZvqT/1V9ybbUgnaxDO23zzzW2sQro9xTnrt573OKkw4bvsmFFPHHn1+wMynk/S3jfXFIOZUmwUNvNkZcRqi9kcMz++x0bVN1ANb5yVYmXF7EwrE4LFjtGHJVVDVDV5SauD/MK+waYMMtl3uac2fjRzJM40fOpPuKVulZ7TfCle+Uvzgz/eU3ad/A3WVh6Ufvad+KmvKOVnK6QohWt1hj+FGWwe8hIeFiDCTAg1oeZwaFyhyQiPSvjJT6224sB/JYz1nW9KV3Fn3+WOzbc0bDbubNjUv/q7wqgv6F3pcFaSfX5WvHAgdMaS71m/2fTwk7Z73jHZcaFSuG98NvZfS3zIAUQFD7aaT1nohK3H4B9M4CKBKSvtXltBFkpIhwqFDYkQCmyBehtEtvEQnv08BATYs0gJZDMJAOmkHZJn3NTRs8RNfrPhlH+F1XtqZ8MorUo24VL/SjfrnuYPP8ImDcszP/xWG7DSfPb3rHiV53SgYp+VSRGsLXVm+Uvz31/8ef0mXMg/e3Psl9FuYTUOzRBI/DQDj4HiSL+nz0qfPMuk31WW1E3+FEZ+FJf8pu1BbS0NK39IgyM0BE7qa/qGf6UjtzS9SvHhprav7wqr98Ha1eJLCTPsXRYKLBIksJfFoZZ8KC2kgmHbZstWSxx591OYFSQVUakBD7aC2NtgMx5JN6RFUSqcEoTBxt9ovtXg006s8tOw0w5TLY9p2Gp+svlTGgqrcOpMqTtu6WAlv43aaVzKh+JCCINZczzLaat99rd6zWQxYV8ZYRj0o7KvBz46fpFi2S6c0rahNNN2w7P8yF3+sPWN5+z3tOzyh12tr9I/+JaNh7gxaXx6tw/xT/msFFa4ZsMrbCtttF4hqcu+KYsE5BjcDA6BwgnpDA6OvqFp7AiCsNnODArVZ6jFiofk7ZxTX9/1vyE0gQRe3AMxQkIMdDqkRhGqYVBTB1eHVir4q/QjHBKqCBP0Z9SB1cmZcSLgg7QgKy8kHRHk4EoeZthI19IBKTsmmzZuaZwIZiAUwdkyJBLBjeMYxI9gBYIP9RrSJA1+GOUd6V4EqMgvAlTZowD4Vd54LqoRHsII9hhCLUj5ImQB/giTIJCi4xftxKJSm1GeyUf6nXzyQ9hEflTv6hMqJ9/pq7RV7lmNGnPK6u041oT6PNoGk4W4j2ZniCsRx7SNKE3hk+ZNeUUgCQEizhdzgTQCO6mQm8I201aZlQds1OBxNIb+xvlgpOvVB9IyDSYfzYpnMHnoRNjvNrY6kXoL0kwb0GCjTzsJknFISbKvidQYnbFRQx4x8PQhHJi0w3LMg0aemlrZGxA24k2N0kvd0rLhzkDCPgwSoQwisCphLTPgvPDCC3azCNKH/Zk0Tlh7hGUFzmF0JASRimVVw74P0omNGMoCVvxYNXKbPYSdPWIwy95PSBqVyt9I2nkKQ12o3ExGkDKGUIA7q2uOeHSzQQ8s1z9RzxjKQpn0jlv6TjtjzxWWIuxlGdoukybaMpKwtD8ZiGpq0vaLO2lm/aT+URQC0WUSIn2pTGQVlvDpLw07mGcwIK8c7UIBCBMg0uHy6qgdy85GK91smRpJl7iaEU8jaXc6TKH2IAGzmRWZjYuOh6g5WizojIiM04mZnapB0nh5riUvHHqHEJ1yyimBYxMo+mb2y8yfmTOdjY4P0WOGyqoQ4sxxC4g1qwBE3NlzoJNwbIMVr4QNILSsHNByw0CBggMMB6+ZYap8pMHgKTM07lchls9Kkj1diDM2+cWw2mSlyuoXJQY68E2H5Uwm+SH/+I+SfEYgEbWH/cPxErQAkTdm3Jj+OmCKJYOVBkiO3XBcgWMuN8ZrwdJB0SJN/lTOxKnQj9XKy0BOG0BzDJMhzhWiCD6qBzQ8+quHRgFTnLQxiB4scNppVPdm7YOtCyZlcBpgDVKX9AHyiBwBZyPJX1omNEhxBpD2xVELVsQQQVZ0Ot6g/KoNYyOMAzcEDDiOQT4wtFkmEbQlJqwch6IPoLmKYyC0a9ob+YGrQ//BcK6Uq9lo/+zTcTaafszZ3DS/5rmBP2EnmyiIl34QVU/axJDyiEhXSiINW+l7LW7NKEst6XSjn8KtIFsNMg2OQ7p0bM4b0lnonBgGb804+2tUxIHhHCOrMgYBJMXo7LBXYUlCWDBoyYAQIHRCOigQgMgwwHGQGiEDOipnlHAnXYgkKwUOD8NujfpcbT8CNXC8486NHDIItSDIwTk2zlMx+JAuhviUX82OkRJFNRmzcZ7JHyYqdraVHAMJKzoGLIgrig54x9CxcWOAqsWQvrAEXwagzTbbzAYmWIasGvsjjrWk0Wt+aDe0GQZ27h1kdQ8HQTirDTcDF+Kk3dA2aCfUPSruUBNIe2XCSXvD0Afwx6SRtkP7os0qX/iBRR+vk7PVIG2Yc72cpUQ5BekQBxO4rKEN03foaxBq0sVAlKMeZWv3TBK33XZbm5TS12i35IOVIu8QX1ZoTI7pYxBWiDdxM4llqwSChVGfsZdB/qXl5/wlbFT6P/uMpJueDU2TIlwaNv3mzzUiECvSTR0IxMGjj2+UMKO5PxIdu62gz8cqL7Ej25co9FOKB93L96zFGa7d0ciNIHF2a7cBRLVSdrsC5zG5my+u/OwMIkrBOZ+J4UaEOAMuReJWip3alDfHWXkpdmz7zjmmuDdSisS4RDwoeEb5M0bliWxZuzEgzvTt1gLK9FxUho5Scs6KcY4uskZNAXNklZoi9bhHZMrKyWsceCwP4IGJigtMkTNns2Twg1L0qMhBTnXZ5Jv8cKNJHET7hFU5+jj6S0UEUqzihKMUiaSdBRwZb2yJBKNimEYclU5Uf2hKwaUInDYSJ3zWBrk9JLLILXr8DR061PIQj6aYAnA+KB7sSNTtlhvlJx7SL9GPKAfnGdXe1MdujjeC0D7jBMD6Ke0yEmS7VQQl4/QvFJDT1gnPrSC0a/IYlR2Y8nTSkIJ8+oIuDlAeuDszyijU3P8VbiBb5cbfs88+a2ccKQt55IYbGfylfuXu9uARKByLtcZ5QcPesjMy9iaZAcM+hCXDrHObbbbpN/40DlZSYomirYMVHDNrVkuwNWENwbqJVW2zWdhKzJR5h7WLQTCAH3uHGGaZ+BO7CWXQe+21l82gWW0hdES+McoL8ZEuq0ncSCM1uJHPOJBYOsxg2f8gHPt+nCmDTaU8IcyDf7FEiYu9QjTfsNqtx7DqZdbO6oCVKCufrFE5su7+/h0CcRC1uhVW1B2sQYRMYHmDLVpt4ApQR/JHuLQev4ux/yeFZ6+YI1KwQjG0E1ZasP3hlihuVpfkCaP2yLPiYR8R9j0cEBnaG6tMtX3aMEZxyh/v/GjfsHDpG5EI2o9tAgx7lKwu2cvDwF4lDO2WlSWcI6SAWeXK0F+5uxF2NaziZhrKzSoabg3awUgf1vOwzJ2owqeZaXtc3yDgLNYmtAQ6GwQSQQiEH+jAsBkx6vDpsxo0AwISaDKwReN9eUZYII6wW2F1wlJECTk2AwDh+C5DfIqT7xxFiTPjcOyxxwbpSOXMFwQGN6Q+2bfApPljMGAwxI00ZOTG4AIhhsgivcceLHsw7Iuyn8gAA0sKA1EjL8SJIQ7Y0Qy+qSEt5SF9lh8OvMMSZL8V4aNKxFF+3e4fAepC7QSf6TMTGliGsBNRsAChjKsvi1B1mMauOkvdqj3TXlAjB4HDwNaknbAXDQEQUUPymXcZ6V3VO5M+2j3bATIQR4S/FIfKpPzxzkRNRB5/EOvhw4cbmxU2LSxb2hfpwUKlXbPHzmQXQo76NnQcs/eJEBDHZSDUGOJGDkE3eShf9drZtk9+yQM6h1F+gcAbUqoQR02Q603D/dePgK8g68esHIJGTAdUp4ysGFtNMhOHSLK/k64m5U8R0CmYrbK6o6Oxl4LQBKs0lD4zGLDXgUJn9m+QnMUdf2mHosMw4JAf9l/o1BAtZrUQWPROQlzp/BBziJwOECsvED9m4QyGxE087IPiRrwMLEimMhAwwDAosBqk4yLZyyyalQFpMbjiTl5liANijeIFafcgnSwmete5RiYaTD4QGsIQBiN/9uJ/TUOA/S0GZeqP9ps9P6k6A389V0tcdYWOVPQBb7311rbPTrtkFceeHQM+7Zo2zCoJgRjaCofcaecIo9GeiAsCRr+CUEDQaCP0DbgLtF/20JWm8kYbVpy0ZX3njCDxsIdIe6T/0cY48wwhhxiiwxZ/TAaRFUDYDQJOOyd9DMJH6E8mj8gJyCh9vQ9k418TEdKGOwMRpg50qw+4ZCc5A8Xr3weHQKHOQQ4OivpDZzsB7xA0JDbjXoE1clY9rN5g18goHB2WzsnMGVYNZ5kYnHDHP5KpSMTBCqLToqiAQYJvsJaQ/GPgIT5YsbBSMbCBkHhlYCJepG5Z4SGKjhThpptuGqLORguDfw12sLsggBBDWG9s/tMpke6DsJIXBjZYPcy8ERDiGVVmED7C4s7Kl4EM1hVlhyCTRwYS2FAQ1DRdvukdmxUughOUg4FaBDX14wQSNJpr1C4hFtQdK36IFESDVR9ngWkjWVOtLuTOyo92wgSJwR+iywQLheawXRG8intsxilgkol6PDgpCN4QlnaMIT6esZF2hSDGfVPbLqCdwvUgrNob/nAnz/QNiAttCeE62jf+IYAQagxpU062TGjvbCPQBskv6ts4rgRxJO8SxmFljIQ5eOkWnWx7tsir/Alz8go3iRU8hBuCiwAaaWPwp8krfvm5aT0ChdKk03q46kuBzsPqB/YMtykw6GPUKQaKrRZ/tfhROszS6Vh0NJ6xZdTh6olPYQeyiROjNHhWOpoV4wZblhU0R1cY+GCtyqT+5OZ2cxFQnRBrijf7y3Aw2DNkFcjkSnVZqW5rzRVtMGXlVwvXSBppWbLxUjaM2v9AfuWPiSOTB0yKjzl8+6e88iqM0u+VnnVmmO0EJqP0gWHf7jMqb7IVPvsud7ebi0DPE0gaGj+MOkIKcTMaIns5Bx98sK38mI0PpOUmTb9oz+mgqGcwZnBA9J6ZPhhJ720z8C8ahp0qD3uU7LPDJYF1j7AXBmIBMeDn9VW9drLYgBtCQezjI+jG6lFHNrJ+q8fa/xfFI4LOOz+NdV53/ePX8wSyEjxqVOk33DC1zgrTsDxrNcmeI2fAEKTBiEioAZtjgf+y2MJe3n///W0viUkEe2CYweJdYAg8nw0TAAAlSElEQVQ7WjT24NDtipAX7E4GdUlvZuu2oxntksSrYYLqRs7xcuaT84zsb8pUC6Pv7bK7JR8qbyfy8x2PTbnoIRuihEGTDftoOmAMEUQ4gD0AKgUjwsi7fvZhgD+FR5KPFRJxIunKAWc00YjFpBndANEV6jPaSSCIYIPkoIgjhQRvYV6oQue4MLRl9gQRxELjDHtu7FMilIZAiepLbT7HRW1a1sFE4wyRIhMAm5oJMtwSFBe0mjhSHxrjJGVOXtjH5QgJk3T86Mc3jOrzm7fO/3ckPxGUnjWxYdgBWw4fx+ovRW0ZZSziqqYUN97LF7CWP9TxEDuG+ZatoHE1aQfvo8BAKUp/yrln7KjZpxQFhUwxQfYS6mogZDGs5s/dW4cAdaCfUolCPKYkI64m7dB9lBq1T15fQugbO668S3HrwBQKoMwDxQUyKVZ6li0/g7GpE5SQMMZFieFyVFE+ohTPXpcvoy5/8IcyAj2/gmT2xOqNPQBYHqzqMLgxW8ZGWg5VUxzZYL8ASTeZiGR5lSk32ZrxyMYvRucmiQuRdxQMKF2FLYKt8qZlYa+RlSISjKxC0lVj6i/7LAyz7v7ePgSoA/1IlfrV+UmUWSBxjL7TW265pbz6wE8c7C2TsnGr1DbaV5L2pgSnZHg8d8lZZiRU4SJJkpucpG1bz7KbkVPi4lgK0u+s9hG2wiD5joQvXCxY59QfYxz54/iKm0gHehkEiB+NB+k09FGi1YYGhMFdnRiBBIgZot0cwOcAsdix8muBavjT4IBNp2FPks6CuDkNVINIDVF1rReVMe3k7DXGVaMJeUipAqxV+e3awnjGqiKQ1i9HkjjShOQxyiA4d8sBe/zQzzDY1DduadiqCXT5h7Tt8pw17DNyAQGaitADixYcHcXK+m3lO1gzXtH/EBBEQhxDffDjrCiSs5y9ZIzjTDP1x3GznjexYnvaxAPGJfSaxsZRiuf0SnGWZfoXYYegJzIe2i+hezTOig2neM7P/KCrUQZ2CL96DSxeGeKLZ8VKcaApxcPxcs6dXQkHdKiiQxadn1kdqrkroGe4DwKV6jse4DedwvHsbSkKXjVVv2ufxLvkJdv/0Zsaj3RZm2ccQb9x1lTCLeunGe/KGyzWSBhtjIscLBvj4mq2tMwyy5hbPN9p+mdJk3EwKmooxXPOzchCruPo2RVkrLU+ZwFhKSCVt8kmm5jADtJlsEI5wIwqq6Hx+hsMEnu4S20W8TRq0lk0ulG5YQEFAAg+ICmYd8OqkZkoM2gkVLG5qgsDbvxiB857MXs2/9QfbVh1CRDUJ4fpOWR/9tlnm9IINC7xzHZG0YzaLzggAMNNJSjJwB3FHKilYzsBA04yad+XWyts1Q9xsyJkjKNPIpTIhdQc2aGf4g9d0BjGO36pSj/70IN/PUsgqWt47zRabDVY9lJgR8DuhEcP356DvOxDYuDfo9YKdwzh9DOHOv6UpoLQkdCVimor9ibpaNm9ybSTKVw32AwI5E1lQm0YqrvY40AiOD30T36Fmdhv3VAGz0N9CKiuVZeETuuTAZezkxAJjoVAKKXftb+UurWNk2flTe2d8uLGeUY08aA3FYlR9NkO/XZSzXeFk91f+Zv9jfohXdUNR3PYVkIJO2McE34mL+hSxjDe8UObEUaTAHvptb8IXM+aWPEmwRVXb6Wop7SMQ7xjjamesV4jsTRW69JLL12Km9cm2Rr3FUqRYJb9t+IhrlBLcd+iBJsKSVdJB5IW+e4mk+YnasMpxZsg7FqqVEI19dNNefe8tAcBpDi51oproeJeWB8pTuVAbQRbz/rWLXY2b3GfscR4EFUwlqIAWjmb2fxn38seW/igvLKNxPZNPJ5TTu2yyy6zMY5tJMYaJPnj/mgpTs5LjHW8M/bJdCL/SruTdk/rYmVmxawqVr7paIR9ykwK3YywAtF1iuondKuiJxEpNHQjwkZBwKSVBtYHM250qMKaRJiHtNEwo5l7K9OvJ27lh1UjUnDghwJqJBwxsYGbLX/24n89hQCK9+lLCPOg1xRBLc5OorMYaXEM7YO2gt2NbYVxgvGCvHGeEeX/cJrQdYwQX6o3VeWxgn1bNj230yavWuWih5YtHDBGxywCObBcqRdWv2wn3XPPPdZv0WaV6pbtxvpoB46uSWcAlNUpBvDWtM8pMVHa7I8iYSadrtLC07REG4xIgxk6VFG0jg7Vgw46qM/RjbQ8DSbjwXKMgNoIRUifUVyO0m/aDkr4119//bLy/NRftxWd7RdYkxxXQiIV6c+h37JSuy2vyk+KZ/qs79Vs+ZVdzV+R3Z1A5qh2udWDPVKuqmKTnVkgjRfDDE/PercPLf7j5g32TYfHIytcO5TqUM0m3auz0CwO/v4dAgiyoAidGziYZLGSSU2nB2elz2SVK69YKXJmmivquKHETbERcALZxfVL51QHFXFhNQn7g9UkOhw5v4mRP9mtLhaSb2z2c8kzEqq6rzFNl7xglPf0mz87AkKA+xpRxIGkK4I9rMo6pd9V/Uc2eZTeVK7f4ownquHSNu3tXDVZPNsJZE7qNO2wZJnVJEq+udeO/RwNKK0qTpo+7CVm/cygWTVKojf106p8eLzFRYBJF8dD0LDEhd8QI7WtTpQauQO4I3feeaexgLm8uNJ9mLR7fpIS7URePc3WIOAEsjW4NiVW7UESWSXiw8wbVisaTBhMUIJcza99GOQfN7izx8hN68zyOYaSGuW3Ul5Tf/7sCPSHgIR4OIfHHaobb7xxW4kPK0WEzBA6Q4AFdmqqGq5S3tX2K31zt/wi4AQyv3VXzjmrSc6aIZWGhC17k4102DRMlshdeOGFtlJl1QhR1l5jORP+4Ag0GQHdP8mqDYnRePzAUkjbaaNJpu1bz9i08+OOO876Evv9EEg3vYuAE8gc1706NkXgvkmtJpEKZG+yGSwf2F6sFtlrJH5E2t04Aq1GQERQSrTRgcz+JBPB7GqOfoBJ9wVryZ/SwO/dd99tephfffVVWzHC4qX/pH5qidP9FAsBJ5DFqs9w0003lfcmORpS795kOiAgocr+JmrwEMRJ1cQBW70DUsGg9uK0EQEIF+2Z/ckNNtjAWK9RX6jloF4CmU4sn3vuObunFbYuR01g6aJZRib1Kze3ewcBJ5AFqeu0I7OahLCh23WHHXaww/u1FFPEkb1GVo2PPvqorRrTK6nSdGqJ0/04Ao0goHYmW3HE+yetTdJGd9555/L5SbVd+atkp3GhN/XEE0+0fUa2DWDhDhs2rFIwd+thBJxAFqjy0wGAYrGaRMoUSVfuuqy0N5kdWFg1MlPnEDRXf/leY4EaSIGKwtVR7LdzfhJpbrgcWZO2bTRkoXMZt0suucSksNmzhzAuscQS2aD+7ggYAk4gC9QQRCCx+bGHonOTSLqyNzlixIiKrFE0miCU8MQTTxhRjboY+yCjuPs4+osj0EYEaIMYsfa5QIC7C1GEjpq3SucnUyIJG5UzxCjlpi+ss8461ke8bbexEnOWlBPInFVYf9nNdvT0HUlXjmgwa2aQSAUduPGc2TizcLSZcNWNBpY0jv7S9m+OQKcQYHKH5OkNN9xgF49z5CnlfLDPyPd4v6Ed8oc1K/2v3r47VWv5SNcJZD7qqeZc0uExmmWn75ybRP/l9ddfbzPoqMm/rA0HNlX2SqqaE3WPjkAbEUiJmiZyJM8K8aijjgovvviiaZlaaaWVTEMP2wZIwKL5SXpT0zjamHVPKmcIOIHMWYU1mt10QLjllluMHcVBbFip7E9OOOGEjUbt4RyBrkJA+l2RfOVmGfbhF1tsMctj2g+6KtOema5EwAlkV1ZL6zOFhCvq4hCbHzJkSOsT9BQcgTYi8MADDwRuvUGYB+X+bhyBRhD4YSOBPEz+EeB+vrHHHjv/BfESOAIJArBcMUisIuEqZRmsHN04AvUi4ASyXsRy7l8DCGLvmP/9739m+wBiMPhfzhEQQaQYPKud57xYnv0OIeAEskPAdypZDSAI8UAU0/dO5cnTdQRahYC371Yh2xvxOoHsjXquWkpJu1b14B8cAUfAEehRBJxA9mjFU2zYrc5a7eEG4EV3BByBfhFwAtkvPL3z0Qll79S1l9QRcARqQ8AJZG04Fc5XliA6q7VwVdzzBZJAWs8D4QA0jIATyIah84COgCPgCDgCRUbACWSRa9fL5gg4Ao6AI9AwAk4gG4bOAzoCjoAj4AgUGQEnkEWu3SaVjf3K7J6lopa7bLm77QhUQkDtRBLUeq/k190cgU4j4ASy0zXQxelr8EKAp5oQD+74q/a9i4vnWWsjAmlbIlkO8HubaWMFeFINIeAEsiHYeiMQA9gXX3xh5yUpcSoVyPOXX35pQPhA1xvtYTClpI3QZqTaUHGp7agtyd1tR6AbEHAC2Q210MV5uPTSS8PGG28cXnvttbJaupdffjlssskm4corryznXCuEsoM/OAIZBB5//PGw/vrrh5tvvtm+qM3sueee4bDDDsv49ldHoPMIOIHsfB10dQ4WXnjhcOutt4YTTzyxnE8upb399tvDoosuWnbTSkCDHh/SFWfZoz/0LAIzzjijcR322Wef8OmnnxqLlQnYySefXL6vsRo4qdJxb1fVUHL3ZiPgBLLZiBYsPga1Y445JvzhD38Ijz76aLjnnnvCeeedF44//ni7Z+/YY48Nq666ath2223D008/bYPe888/b++rrLKKXcz89ttvFwwVL04jCIwxxhh2B+krr7wSzjrrrPDJJ5+Egw46KGy22WZhpZVWClx0vPbaa4cNNtgg3HDDDZbE559/Ho488khrY/jjnkcpIG8kDx7GEagHASeQ9aDVo34ZsJZffvmw2267Bdhhq622Wlh99dXt+fzzzw8rrrhiePPNN8MWW2wR3nrrrbDTTjsFiOR6660Xrr/+eiOSPQqdFzuDwMwzzxz23ntvI5S77LJL+Oqrr8IRRxwRuMB79913D/PMM0+YZppp7LJjJmNMzCCmEE5WkbD2P/roo0ys/uoItAaBUVsTrcdaBARgl4p1evjhh4cll1wysApgBfnuu++GP//5z2H77bcPCy20UJh88smNIN55553GRoOFNumkk4ZTTz3V4kjjKgI2Xob6EVAb2HLLLY0gnn766eHiiy8O4403nrWT2WefPaywwgqBVeMVV1wRLrzwwjDFFFOUhcEgoO+//34YMmRI/Yl7CEegAQScQDYAWq8EEXGkvMz8IZBjjTWWzfAffvhhG7hghTHTxy9ssqmmmspm/KwSGNA+++wzW2kusMACvQKbl3MABMYcc0xjmcJ1oM2wMoTzACsedirvtLdZZpklbLPNNsaK/f3vfx/eeOMNI6BMyNw4Au1AwFms7UC5IGmMMsoogR+G1SGryV/+8pfh8ssvDyeddFKYbrrp7Nspp5xie0v3339/WGuttUzA55133rFv/te7CKQTLlaTo446qh37oE1NMskkYfHFFw+XXXaZrSqZUNHGTjvttDD33HOHe++91/a9WVXed999vQuil7ytCPgKsq1w5zsxzrBJmhDWF6yy/fbbL9x1110m1TrxxBOHYcOG2QAGi2ydddYJt9xyS1hkkUXC+OOPn+/Ce+6bigAEkvakc5HsW2+11Va2jw0bFWGcq6++2lit+++/f3jkkUcCx0RYWc4000xNzYtH5ghUQ8AJZDVk3P17CLDfmK4CfvWrXxkbjH1HzrdBECeaaKLA3tLZZ59tgjobbbSRSSWyWnDjCAgBhL6mnXba8sRpueWWC+ecc45xI6aeeuowcuTIMNtss4UZZpjB9iFvu+22MOuss4YDDjggTDnllK69SUC63VIEfhBncqWWpuCRdyUC11xzjbE+Ea2HVdosQ3NKiWiz4vV4HIF6EHjwwQfDzjvvHC644AIjqPWEdb+OgBDwPUgh4XZTEHDi2BQYPZIBEPB5/QAA+eemIOB8r6bA6JEMhICvLAdCyL8PhEBKFH0iNhBa/r0ZCPgKshkoehwDIuAD2oAQuYcMAilBTD95W0rR8OdWIuAryFai63E7Al2IgIQOftCFeUuzlCWE2ffUrz87Aq1AwFeQrUDV43QEHAFHwBHIPQJOIHNfhV4AR8ARcAQcgVYg4ASyFah6nI6AI+AIOAK5R8D3IHNfhV4AR6A+BLp977G+0rhvR6B1CPgKsnXYesyOgCPgCDgCOUbACWSOK8+z7gg4Ao6AI9A6BJxAtg5bj9kRcAQcAUcgxwg4gcxx5XnWHQFHoDICfmayMi7uWh8CTiDrw8t9OwKOgCPgCPQIAk4ge6SivZiOgCPgCDgC9SHgxzzqw6unfVfTjdnToNRYeFh+jl+NYA3Sm2M9SAA9eBkBJ5BlKHrjgUFa+zNDhgwJ/Go1Clerf/fXFwHHry8erXwbffTRy+2cdNJ238p0Pe5iIeAEslj1OWBpNEhjP/PMM+Hcc881IlnL6qYWPwNmIMcehF2tRQAvfj/84Q/LgzXvxPN///d/Zbd64qvVby/6A1fwHXXUUcMLL7wQPvzww7ox7kXcvMzVEXACWR2bQn8ZNmxYmHPOOcPll1/us+sW1jSDNr933nknPPLII2HRRRcNo402WkMpMvi7qY6AJh+jjDJK+PLLL8OKK64YxhxzzOoB/IsjMAACP4iNynvdACAV8bMGkyKWrRvL9MADD4RddtklXHfddWGMMcboxiwWNk/e1gtbtS0vmEuxthzi7kyAVY2b9iHw6aefhq+//jpgu2kvAt7W24t3kVJzAlmk2vSyOAKOgCPgCDQNASeQTYPSI3IEHAFHwBEoEgJOIItUm14WR8ARcAQcgaYh4ASyaVB6RI7A9xGQDBxHPdw4Ao5AvhDwXpuv+vLcOgKOgCPgCLQJASeQbQLak3EEHAFHwBHIFwJOIPNVX55bR8ARcAQcgTYh4ASyTUB7Mo6AI+AIOAL5QsAJZL7qy3PrCDgCjoAj0CYEnEC2CWhPxhFwBBwBRyBfCDiBzFd9eW5zjEB61EPHP3JcHM+6I1B4BKre5tFIB3adh4VvL15AR8ARcAR6BoHvEUgIIz/uq6vFpHfd1eLf/TgCjoAj4Ag4AnlAoGYWKwQzJZrpMytHXz3mobo9j46AI+AIOAK1IvC9FaSIXbpfQmRaVcqdW7vdOAKOgCPgCDgCRUWgphWkiCO2G0fAEXAEHAFHoBcQqIlA9gIQXkZHwBFwBBwBRyBFwAlkioY/OwKOgCPgCDgC3yLgBNKbgiPgCDgCjoAjUAEBJ5AVQHEnR8ARcAQcAUfACaS3AUfAEXAEHAFHoAICTiArgOJOjoAj4Ag4Ao6AE0hvA46AI+AIOAKOQAUEnEBWAMWdHAFHwBFwBBwBJ5DeBhwBR8ARcAQcgQoIOIGsAIo7OQKOgCPgCDgCTiC9DTgCjoAj4Ag4AhUQqEnjOArMRxlllArBW+ckva9+S0jrMPaYW4+A2u///ve/fhOjvctvvx79oyPgCLQNga5dQTJY+IDRtnbgCTUZAU3wdC2cbr+p1qaruTc5Wx6dI+AI1IFAmUCqQ9cR1r06Ao5AgoD6EPbXX38dWDXqejgRSvmBIH7xxRcWWm5JVP7oCDgCXYBAmUD6DLYLasOzUBgEIJCHHnpouOSSS6xMY445phFL7A8//DAcc8wx4a9//at9875XmGr3ghQMgVGZvXoHLVitenE6igD9afTRRw/TTz99WHvttcPKK68cllhiifDZZ5+FU045JZx22mnh9ddfD/fee29H8+mJOwKOQP8I/OCrr74qaX+kf6/+1RFwBOpB4KOPPgqrrLJKuPXWWy0Ygm6sLDEHHnhgOPjgg+3ZJ6kGg/85Al2HwA/bLZ3adQh4hhyBFiEw7rjjhq233rosAa59yKFDh4aNN964nKpzcMpQ+IMj0FUI/JDO6UICXVUnnpkCIKA+tfrqq4eFF164T4kgjjPNNJO54Q/CKf99PPqLI+AIdBQBE9LxGWxH68ATr4BA3gmG+hRCObvssouVkDJNMcUUYZtttimXGH9Iusp/+YM/OAKOQMcRKEuxdjwnngFHIEGgSATj5z//eVh66aWtdLBcp5566qSk+XyE2Gd/+SyJ59oRqI5ATZp0qgf3L45AcxGA3ciKKrXff//98mA8mNQGS3QbXdUi0bruuuuG559/PkAsEd7hDORg8zMYLBoJq/IPGTIkjDfeeOUocM9bWcqZ9wdHoB8EfhAbd6mf7/7JEWgbAulA+9prr4VTTz01/Oc//wkff/xxmWgOJjM6tN9IHBKwqae7IB2OsgDC8Hv11VfDtNNOa0I7vCvORvLTiTAqO+WaYIIJwkorrRTWW289O9KiCU0n8uVpOgKtQsAJZKuQ9XjrRoABmJXItddeG/bff/8wxxxzhOWWW84EWjQ41x1pFwUYbbTRjFBy1ENl7aLsDZgV8ozUO+c5H3nkkXDZZZeFscceO5x88slG+Ikgj+UasODuoWcRcALZs1XfXQXXwHrfffeFjTbaKOy33359jkJ0V249NyAAm3jPPfcMTz31VPjLX/7Sh+3qCDkCRUDACWQRarEgZWBlhdaZ4cOHh7333ttKBeHEFG2PSxMCK1wO/1KWKqxWhJD22muvHJbEs+wIVEfApVirY+Nf2oCACCBJ3XHHHaaCbdttty2nDGEsGnGkcJSJstfzK4PSBQ/pfu4OO+wQLr/8cmO9kjWVqQuy6VlwBAaFgBPIQcHngQeLQEr8nnzyyTBs2LCeYdWJ+NdqDxbrZoeXkNGcc85pRBEhJIzK0+z0PD5HoN0IOIFsN+KeXlUEEP4Yf/zxy6urqh79Q1cgoFUkx1ggiik3oCsy6JlwBAaJgBPIQQLowZuHAIOsTPosN7e7EwHqitWkVpROKLuznjxX9SPgBLJ+zDxEixDwvasWAdviaKk3X0G2GGSPviMIOIHsCOyeqCNQPAR81V+8Ou31EjmB7PUW4OV3BBwBR8ARqIiAE8iKsLijI+AIOAKOQK8j4ASy11uAl98RcAQcAUegIgJOICvC4o6dQKDVe1j9SVfqm+yByl+vxGY23krvWbc0D/19S/1Ve1Z4bD1X8+vujoAj8A0Cft2Vt4RCIgAREMHVM++ff/55eOuttwKKwyebbDK7JQQA+AbR42wffviOYm4M7l9++aV946on4tMZwK+++sr84M7NHfgjLhEhnomH7zJKh/fXX3/ddJqSFy5XxqByDz2nY401lr3zp/xxVhR/pMWPfCgtpUMeyBdhMPgZY4wx7Fnx6Js5+p8j4AhURMBXkBVhcce8IyACAPEQATnnnHPCoosuGpZccskw//zzh/XXX9/uaFRZISTPPfdcGD58eDjkkEPkbPc3brjhhmHVVVcNr7zySpnw8Lz66qubcvUPP/wwnHjiiWHBBRcMCyywgNk8zzvvvOHSSy8tx0VelM4aa6wR5p577rDUUkuFeeaZp5zmiy++aDppr7rqKgun1erIkSPDTjvtZFeAofuUdCgHP24+2WabbcInn3wSdtxxx/CjH/0oLLLIImGxxRYLiy++eNh9993D22+/bfGRvhtHwBEYGAFfQQ6MkfvIKQIQIwglv4svvjjsuuuu9oPQffDBB6Zce8SIEeH6668vr/C4wumuu+4K77zzjhGjiSee2FZj3FjBFU/cNjL11FMbItxVefXVVwdUrbFq40LkcccdNxxwwAFGlFkJQowgfjLk5b333gubbbaZpXHGGWfYVVF33nmn3WDCZcpHHnmkrQ4vuOACu2CZOHA//fTTw84772wrzMceeywcccQRYZppprG0WHFOOeWUlt7DDz9shHnLLbe0eFilokicq6lSwq88ue0IOAKVEXACWRkXdy0QAp9++mk4/vjjbaUH8ZJhRXnccccZsZx00kmNtYrS7a233jpAsK644oqw6aabGgEaZ5xxjACxGlxllVWM6P7tb38zNi1EUezYWWaZxb4rDdki1ryzMoS43n777UZccWMViJ99993XrpDiyi8I5QsvvBCmn376cMMNNxhhZNXJapU0uax4wgknJHjZQJQx8803n92lqQ+kCeF04wg4ArUj4ASydqzcZ04ReOmll2yvb8UVV7QSoFT7wQcftBUVbEmxY7lNBILEapMVF6tJCCQrOPYkf/azn9mNI7AqRx111HDvvfeGX/ziF0Z4IG7sM/773/82diZhIFYQMlZ9E000UXmP8/777w9zzTVXmG222YwoKv0llljC8sRKdbXVVgsHHXSQpQeBhMDBjp155plthcte5G677WYEkrRhw5KXZZZZxvJKHNddd52tbFltUl7ik0kJttzcdgQcgb4IOIHsi4e/FQSBlACwL4fgDSxGDKs3VpIQpmeeeSb88Y9/DOuss44RRFaCjz/+eJhgggmMKP33v/8NU001lbFZ2b98+umnbTUHgYT9ihvEB2JImgjHwL7lXW6wPzEQTQx5YUVKWhA2EUitQokHoR32JlnFDo97oqw22X+UQUDn/ffftziJgzCweTHk7cYbbwyvvfaa5eHll1+2NNkPlVGaenfbEXAEvo+AE8jvY+IuBUAgJQAQMlZy7CNCbJZbbrnAao09Q1ZdEBiIFvuJmD322MP27iBAN998s7EyIT4QTVihrOa4wYK9RdwgihA/COFPfvIT2yvMQggB44e/aaedNlx77bWWpqRL8Q/xhR3MihGz1lprGcuVfLFiJK8YiCPE/pRTTglTTDGFuemPb+SHPc6RI0faM3uQhIWlfOyxx8qr246AIzAAAi7ONgBA/rm9CKSErVkpQ3AgXCeffLIRSVihEJhLLrnEiCTHJiRpCvGDTXr33XcbkTn//PONaJEXCCB7g6zOrrzySpNghXCRZ4gfK0BWqwj4wIblOAk/3PCjFSSs2o8//tgEZhC+wUAcYYGyvznTTDOZG0R8vPHGM1YqUqusZGVYncIqRuBHafGsFSmrSJVzxhlntDglxao43HYEHIH+EfAVZP/4+NeCIHDggQfaSnCFFVYIs846qwm6QEzYC4R4QRg5FsE3GVZdSLlCvFjpQQQ5usGqjbAQXQioDASJFefKK69s33FnNbfddtuFrbbaSt5MwpSV3J577mn7hKxCn332WSOAkjIlLdKBMLJnufbaa5fDQ/xYKW688cZGQLUCpiwnnHCCEWoRYwVCmIcjLBB5Vr9uHAFHYGAEfhA7Ymlgb+7DEWg9AieddJIJvpx11llNSYymna5I2RvkSAcCLLA5kQhltcd+IMSDFZrYm2QAtisrSVZgrNY4UsFRioceeshWgxAk9vmej6zahRde2OJgz5J0WeGxooRAckYR4ZqsIU1YrZynxA/5EctVeSdd9kk51yhFAkixctyE1WuaDqzkhRZayMrHxdNaiZIu7GX2ItkzTRUQZPPUyDsYrLnmmuHss88OSPEq743E5WEcgW5CwAlkN9VGj+ellQSy1kFb/mRnqyR1Z+WmlVr6nA3D+0Df0zBKQ7a+8Y5Jib6+yc6mUylMNl6FbdR2Atkoch6u2xFwFmu311CP5U8DejOKnRKS9Lm/uOVPdtZv6i7iiJ/0ORumlu9pGKUhW9+y73JP7Ww+KoWp5JbG4c+OgCPwDQIupOMtoWsQ8IG7a6rCM+IIOAIRASeQ3gy6BoFmrh67plCeEUfAEcgtAk4gc1t1xcs4K0hfRRavXr1EjkBeEXACmdeaK2C+WUH6KjJ/FZud1GTf81ciz7Ej8A0CTiC9JXQNAgysSGG6yRcCUpHnhDFf9ea5HRgBJ5ADY+Q+2oiABts2JulJDRIBlBZgRCCdEzBIQD141yDgBLJrqsIzgiYaKfZ2NLofAbHD0VMr4tj9ufYcOgK1I+AEsnas3GeLEZhhhhlM4wu6S1OjgTh18+f2I5CtBxFFNP3AGpeuWNz1rf259BQdgeYh4ASyeVh6TINEADVp3Lpx4YUXlmNiUPbBtgxHVz6cfvrpdktKs1XYdWVhPVM9hYATyJ6q7u4uLMRx//33D0cffXT4xz/+YZl14tg9dVapLg4++GDTRcul0G4cgaIh4LpYi1ajBSjPn/70p3DUUUeFlVZaKay66qqmdDurQq2RYmZZhI3EkecwlQhcPeUBP37sOaKwHaXyb775ZjjzzDPtFpSsHth64na/jkA3IuAEshtrpUfzJALGQP7YY4/Z1U1PPvlk+T7FHoWla4otAkn9cH3WsssuG7bZZpsw0UQT+Q0eXVNLnpFmIuAEsploelyDRkCDsFaMXEf1/vvvuwKBQSM7+Ai0AuUozqSTTmqXTitW6k3f5ea2I5B3BJxA5r0GPf+OgCPgCDgCLUHAr7tqCaweaTMREOu1mXF6XI0hkF0l+sqxMRw9VD4Q8BVkPurJc+kIOAKOgCPQZgT8mEebAffkHAFHwBFwBPKBgBPIfNST59IRcAQcAUegzQg4gWwz4J6cI+AIOAKOQD4QcAKZj3ryXDoCjoAj4Ai0GQEnkG0G3JNzBBwBR8ARyAcCTiDzUU+eS0fAEXAEHIE2I+AEss2Ae3KOgCPgCDgC+UDACWQ+6slz6Qg4Ao6AI9BmBJxAthlwT84RcAQcAUcgHwg4gcxHPXkuHQFHwBFwBNqMgBPINgPuyTkCjoAj4AjkAwEnkPmoJ8+lI+AIOAKOQJsRcALZZsA9OUfAEXAEHIF8IOAEMh/15Ll0BBwBR8ARaDMCTiDbDLgn5wg4Ao6AI5APBJxA5qOePJeOgCPgCDgCbUbACWSbAffkHAFHwBFwBPKBgBPIfNST59IRcAQcAUegzQg4gWwz4J6cI+AIOAKOQD4Q+H/8PUp4NFhNkAAAAABJRU5ErkJggg==)"
      ],
      "metadata": {
        "id": "7KpLCsZqDvmg"
      }
    },
    {
      "cell_type": "markdown",
      "source": [
        "####  Step 1\n",
        "\n",
        "1. Randomly choose a word from the `word_list` and assign it to a variable called `chose_word`.\n",
        "2. Ask the user to guess a letter and assaign their answer to a variable called `guess`. Make `guess` lowercase.\n",
        "3. Check if the letter the user guessed (`guess`) is one of the letters in the `chose_word`"
      ],
      "metadata": {
        "id": "POQPGsyT8gOW"
      }
    },
    {
      "cell_type": "code",
      "source": [
        "import random\n",
        "\n",
        "word_list = ['ardvark','baboon','camel']\n",
        "chosen_word = random.choice(word_list)\n",
        "\n",
        "print(chosen_word)\n",
        "\n",
        "guess = input('Choose a letter A-Z: ').lower()\n",
        "\n",
        "for letter in chosen_word:\n",
        "    if letter == guess:\n",
        "        print('Yes')\n",
        "    else:\n",
        "        print('No')"
      ],
      "metadata": {
        "id": "Ce-IIsh15sBO"
      },
      "execution_count": null,
      "outputs": []
    },
    {
      "cell_type": "markdown",
      "source": [
        "#### Step 2\n",
        "\n",
        "1. Create an empty list called `display`. For each letter in the `chosen_word,` add a '_' to `display`. So, if the `chosen_word` was 'apple', display should be `['-','-','-','-','-']`.\n",
        "2. Loop through each position in the `chosen_word`; if the letter at that position matches `guess` then reveal that letter in the `display` at that position."
      ],
      "metadata": {
        "id": "Tw6dbuxF8bju"
      }
    },
    {
      "cell_type": "code",
      "source": [
        "import random\n",
        "\n",
        "word_list = ['ardvark','baboon','camel']\n",
        "chosen_word = random.choice(word_list)\n",
        "print(chosen_word)\n",
        "print(len(chosen_word))\n",
        "\n",
        "guess = input('Choose a letter A-Z: ').lower()\n",
        "\n",
        "# Step 2.1\n",
        "display = []\n",
        "\n",
        "for _ in chosen_word:\n",
        "    display.append('-')\n",
        "\n",
        "print(display)\n",
        "\n",
        "# Step 2.2\n",
        "# We figure out the position of each letter by loop the range of the chosen word and assign that word index's letter  to 'letter' variable\n",
        "for position in range(len(chosen_word)):\n",
        "    letter = chosen_word[position]\n",
        "    if letter == guess:\n",
        "        display[position] = letter\n",
        "\n",
        "print(display)"
      ],
      "metadata": {
        "id": "OjR88cuKPd9k"
      },
      "execution_count": null,
      "outputs": []
    },
    {
      "cell_type": "markdown",
      "source": [
        "#### Step 3\n",
        "\n",
        "Use a while loop to let the user guess again. The loop should only stop once the user has guessed all the letters in the `chose_word` and `display` has no more blanks. Then you can tell the user they've won"
      ],
      "metadata": {
        "id": "rI17zRs5PFED"
      }
    },
    {
      "cell_type": "code",
      "source": [
        "import random\n",
        "\n",
        "# Word list and selected word\n",
        "word_list = ['ardvark','baboon','camel']\n",
        "chosen_word = random.choice(word_list)\n",
        "print(chosen_word)\n",
        "\n",
        "# Create a list and fill it with empty spaces according to chosen_word length\n",
        "display = []\n",
        "for _ in chosen_word:\n",
        "    display.append('-')\n",
        "\n",
        "# String formed where display list will be concatenated\n",
        "complete_word = ''\n",
        "\n",
        "# Insert a while loop for user input I\n",
        "while chosen_word != complete_word:\n",
        "    guess = input('Choose a letter A-Z: ').lower()\n",
        "    for position in range(len(chosen_word)):\n",
        "        letter = chosen_word[position]\n",
        "        if letter == guess:\n",
        "            display[position] = letter\n",
        "    complete_word = ''.join(display)\n",
        "    print(complete_word)\n",
        "\n",
        "print('You win!')\n",
        "\n",
        "# Insert a while loop for user input II\n",
        "end_of_game = False\n",
        "while not end_of_game:\n",
        "    guess = input('Choose a letter A-Z: ').lower()\n",
        "    for position in range(len(chosen_word)):\n",
        "        letter = chosen_word[position]\n",
        "        if letter == guess:\n",
        "            display[position] = letter\n",
        "    print(display)\n",
        "\n",
        "if '-' not in display:\n",
        "    end_of_game = True\n",
        "    print('You win')"
      ],
      "metadata": {
        "id": "MwZP5OPw9Kib"
      },
      "execution_count": null,
      "outputs": []
    },
    {
      "cell_type": "markdown",
      "source": [
        "#### Step 4\n",
        "\n",
        "Add stages with a hangman pic and set the rule the players have up to 6 missed words to guess. Once players get to 6 missed words, the game ends!\n",
        "Create a variable called `lives` to keep track of the number of lives left. `Lives = 6`"
      ],
      "metadata": {
        "id": "dB3GfkG5WqiX"
      }
    },
    {
      "cell_type": "code",
      "source": [
        "import random\n",
        "\n",
        "# Hangman pic list and logo\n",
        "\n",
        "logo = '''\n",
        " _\n",
        "| |\n",
        "| |__   __ _ _ __   __ _ _ __ ___   __ _ _ __\n",
        "| '_ \\ / _` | '_ \\ / _` | '_ ` _ \\ / _` | '_ \\\n",
        "| | | | (_| | | | | (_| | | | | | | (_| | | | |\n",
        "|_| |_|\\__,_|_| |_|\\__, |_| |_| |_|\\__,_|_| |_|\n",
        "                    __/ |\n",
        "                   |___/\n",
        "\n",
        "Welcome to the Hangman. Put yourself in a challange and guess the word!\n",
        "Ready? Go\n",
        "'''\n",
        "\n",
        "hangman = [\n",
        "'''\n",
        "  +---+\n",
        "  |   |\n",
        "  O   |\n",
        " /|\\  |\n",
        " / \\  |\n",
        "      |\n",
        "=========\\n''',\n",
        "'''\n",
        "  +---+\n",
        "  |   |\n",
        "  O   |\n",
        " /|\\  |\n",
        " /    |\n",
        "      |\n",
        "=========\\n''',\n",
        "'''\n",
        "  +---+\n",
        "  |   |\n",
        "  O   |\n",
        " /|\\  |\n",
        "      |\n",
        "      |\n",
        "=========\\n''',\n",
        "'''\n",
        "  +---+\n",
        "  |   |\n",
        "  O   |\n",
        " /|   |\n",
        "      |\n",
        "      |\n",
        "=========\\n''',\n",
        "'''\n",
        "  +---+\n",
        "  |   |\n",
        "  O   |\n",
        "  |   |\n",
        "      |\n",
        "      |\n",
        "=========\\n''',\n",
        "'''\n",
        "  +---+\n",
        "  |   |\n",
        "  O   |\n",
        "      |\n",
        "      |\n",
        "      |\n",
        "=========\\n''',\n",
        "'''\n",
        "  +---+\n",
        "  |   |\n",
        "      |\n",
        "      |\n",
        "      |\n",
        "      |\n",
        "=========\\n'''\n",
        "]\n",
        "\n",
        "# Word list and selected word\n",
        "word_list = ['ardvark','baboon','camel']\n",
        "chosen_word = random.choice(word_list)\n",
        "print(logo)\n",
        "print(hangman[6])\n",
        "\n",
        "# Create a list and fill it with empty spaces according to chosen_word length\n",
        "display = []\n",
        "for _ in chosen_word:\n",
        "    display.append('-')\n",
        "\n",
        "# String formed where display list will be concatenated\n",
        "complete_word = ''\n",
        "\n",
        "# Define lives variable\n",
        "lives = 6\n",
        "\n",
        "# Insert a while loop for user input I\n",
        "while chosen_word != complete_word and lives > 0:\n",
        "    guess = input('Choose a letter A-Z: ').lower()\n",
        "    for position in range(len(chosen_word)):\n",
        "        letter = chosen_word[position]\n",
        "        if letter == guess:\n",
        "            display[position] = letter\n",
        "    complete_word = ''.join(display)\n",
        "    print(complete_word)\n",
        "    if guess not in display:\n",
        "        lives -=1\n",
        "        print(hangman[lives])\n",
        "\n",
        "# Print out the game result whether the player guesses the word or runs out of lives\n",
        "if lives == 0:\n",
        "    print(f'Game over! The word was {chosen_word.upper()}')\n",
        "else:\n",
        "    print(f'You win! You guessed the word {chosen_word.upper()}')"
      ],
      "metadata": {
        "id": "_sv6wRQSXMtd"
      },
      "execution_count": null,
      "outputs": []
    },
    {
      "cell_type": "markdown",
      "source": [
        "### Area calculation\n",
        "\n",
        "You are painting a wall. The instructions on the paint can says that 1 can of paint can cover 5 m2 of wall. Given a random height and width of wall, calculate how many cans of paint you'll need to buy. Round it up.\n",
        "\n",
        "The `math.ceil()` method rounds a number UP to the nearest integer, if necessary, and returns the result. Tip: To round a number DOWN to the nearest integer, look at the `math.floor()` method."
      ],
      "metadata": {
        "id": "q4YZhqcYHhMo"
      }
    },
    {
      "cell_type": "code",
      "source": [
        "# Import math package to use the ceil() function which round up a decimal number\n",
        "import math\n",
        "\n",
        "def paint_calc(height,width):\n",
        "    total_cans = math.ceil((height*width)/coverage)\n",
        "    return total_cans\n",
        "\n",
        "test_h = float(input('Height of wall: '))\n",
        "test_w = float(input('Width of wall: '))\n",
        "coverage = 5\n",
        "paint_calc(test_h, test_w)"
      ],
      "metadata": {
        "id": "hr9UN276H_tn"
      },
      "execution_count": null,
      "outputs": []
    },
    {
      "cell_type": "markdown",
      "source": [
        "### Prime number checker\n",
        "\n",
        "Write a function to check whether a number is prime or not."
      ],
      "metadata": {
        "id": "3W7DrsJ3Kxzd"
      }
    },
    {
      "cell_type": "code",
      "source": [
        "def main():\n",
        "    n = int(input('Check this number: '))\n",
        "    prime_checker(n)\n",
        "\n",
        "def prime_checker(number):\n",
        "    is_prime = True\n",
        "    for i in range(2,number):\n",
        "        if number % i == 0:\n",
        "            is_prime = False\n",
        "    if is_prime:\n",
        "        print('It is a prime number')\n",
        "    else:\n",
        "        print('Not a prime number')\n",
        "\n",
        "main()"
      ],
      "metadata": {
        "id": "jm_ypyYMLByY"
      },
      "execution_count": null,
      "outputs": []
    },
    {
      "cell_type": "markdown",
      "source": [
        "### Caesar Cipher\n",
        "\n"
      ],
      "metadata": {
        "id": "M_2Fo8RnRKUx"
      }
    },
    {
      "cell_type": "markdown",
      "source": [
        "#### Part 1\n",
        "\n",
        "1. Create a function called `encrypt` that takes the `text` and `shift` as input.\n",
        "2. Inside the `encrypt` function, shift each letter of the `text` forwards in the alphabet by the shift amount and print the encrypted text.\n",
        "```\n",
        "plain_text = 'hello'\n",
        "shift = 5\n",
        "cipher_text = 'mjqqt'\n",
        "```\n",
        "3. Call the encrypt function and pass in the user inputs. You should be able to test the code and encrypt a message.\n",
        "\n"
      ],
      "metadata": {
        "id": "jt60vHOjSRHG"
      }
    },
    {
      "cell_type": "code",
      "source": [
        "alphabet = ['a', 'b', 'c', 'd', 'e', 'f', 'g', 'h', 'i', 'j', 'k', 'l', 'm', 'n', 'o', 'p', 'q', 'r', 's', 't', 'u', 'v', 'w', 'x', 'y', 'z']\n",
        "\n",
        "# 1.1 Encrypt function\n",
        "def encrypt():\n",
        "    direction = input(\"Type 'encode' to encrypt, and 'decode' to decrypt:\\n\")\n",
        "    text = input(\"Type your message:\\n\")\n",
        "    shift = int(input(\"Type the shift number:\\n\"))\n",
        "    shift_text = ''\n",
        "\n",
        "# 1.2 Cipher text by shifting letters\n",
        "    for w in text:\n",
        "        position = alphabet.index(w)\n",
        "        new_position = alphabet.index(w) + shift\n",
        "        shift_text += alphabet[new_position]\n",
        "    print(shift_text)\n",
        "\n",
        "# 1.3 Call the function\n",
        "encrypt()"
      ],
      "metadata": {
        "id": "w4bj7oHc5m2d"
      },
      "execution_count": null,
      "outputs": []
    },
    {
      "cell_type": "markdown",
      "source": [
        "#### Part 1.1\n",
        "\n",
        "1. Fix the minor bug when the letter to be shift is greater than the length of the list. Make a way to surpass and start over.\n",
        "2. Solve what to do when the user inputs empty spaces"
      ],
      "metadata": {
        "id": "PKG8rXCy9gUM"
      }
    },
    {
      "cell_type": "code",
      "source": [
        "alphabet = ['a', 'b', 'c', 'd', 'e', 'f', 'g', 'h', 'i', 'j', 'k', 'l', 'm', 'n', 'o', 'p', 'q', 'r', 's', 't', 'u', 'v', 'w', 'x', 'y', 'z']\n",
        "\n",
        "def encrypt():\n",
        "    direction = input(\"Type 'encode' to encrypt, and 'decode' to decrypt:\\n\").lower()\n",
        "    text = input(\"Type your message:\\n\").lower()\n",
        "    shift = int(input(\"Type the shift number:\\n\"))\n",
        "    shift_text = ''\n",
        "\n",
        "    for w in text:\n",
        "        if w != ' ': # 1.1.1 When the letter is not an empty space\n",
        "            position = alphabet.index(w)\n",
        "            new_position = alphabet.index(w) + shift\n",
        "}\n",
        "            # 1.1.2 When the shifted letter surpasses the alphabet boundaries, it has to start over from 0\n",
        "            if new_position > 25:\n",
        "                new_position -= 26\n",
        "            shift_text += alphabet[new_position]\n",
        "\n",
        "        else: # When the letter is an empty space\n",
        "            shift_text += ' '\n",
        "\n",
        "    print(f\"Your text encrypted is: {shift_text.title()}\")\n",
        "\n",
        "encrypt()"
      ],
      "metadata": {
        "id": "rdRvuwh79eE0"
      },
      "execution_count": null,
      "outputs": []
    },
    {
      "cell_type": "markdown",
      "source": [
        "#### Part 2\n",
        "\n",
        "Check if the user wanted to encrypt or decrypt the message by checking the `direction` variable. Then call the correct function based on that `direction` variable. You should be able to test the code to encrypt AND decrypt a message."
      ],
      "metadata": {
        "id": "dJWBrmFv_y24"
      }
    },
    {
      "cell_type": "code",
      "source": [
        "alphabet = ['a', 'b', 'c', 'd', 'e', 'f', 'g', 'h', 'i', 'j', 'k', 'l', 'm', 'n', 'o', 'p', 'q', 'r', 's', 't', 'u', 'v', 'w', 'x', 'y', 'z']\n",
        "\n",
        "def encrypt():\n",
        "    text = input(\"Type your message:\\n\").lower()\n",
        "    shift = int(input(\"Type the shift number:\\n\"))\n",
        "    shift_text = ''\n",
        "\n",
        "    for w in text:\n",
        "        if w != ' ': # 1.1.1 When the letter is not an empty space\n",
        "            position = alphabet.index(w)\n",
        "            new_position = alphabet.index(w) + shift\n",
        "\n",
        "            # 1.1.2 When the shifted letter surpasses the alphabet boundaries, it has to start over from 'A'\n",
        "            if new_position > 25:\n",
        "                new_position -= 26\n",
        "            shift_text += alphabet[new_position]\n",
        "\n",
        "        else: # When the letter is an empty space\n",
        "            shift_text += ' '\n",
        "\n",
        "    print(f\"Your text encrypted is: {shift_text.title()}\")\n",
        "\n",
        "def decrypt():\n",
        "    print('decrypt')\n",
        "\n",
        "while True:\n",
        "    again = input(\"Type 'Yes' if you want to go again. Otherwise type 'No'\\n\").lower()\n",
        "    if again == 'no':\n",
        "        break\n",
        "    elif again == 'yes':\n",
        "        pass\n",
        "    else:\n",
        "        continue\n",
        "    direction = input(\"Type 'encode' to encrypt, and 'decode' to decrypt:\\n\").lower()\n",
        "    if direction == 'encode':\n",
        "        encrypt()\n",
        "    elif direction == 'decode':\n",
        "        decrypt()\n",
        "    else:\n",
        "        pass"
      ],
      "metadata": {
        "id": "RX8ZTj0JANTf"
      },
      "execution_count": null,
      "outputs": []
    },
    {
      "cell_type": "markdown",
      "source": [
        "#### Part 3\n",
        "\n",
        "Write the `decrypt` function that decode the encrypted message moving back each letter of the given text."
      ],
      "metadata": {
        "id": "F7tnHKjA_8hF"
      }
    },
    {
      "cell_type": "code",
      "source": [
        "alphabet = ['a', 'b', 'c', 'd', 'e', 'f', 'g', 'h', 'i', 'j', 'k', 'l', 'm', 'n', 'o', 'p', 'q', 'r', 's', 't', 'u', 'v', 'w', 'x', 'y', 'z']\n",
        "\n",
        "def decrypt():\n",
        "    text = input(\"Type your message:\\n\").lower()\n",
        "    shift = int(input(\"Type the shift number:\\n\"))\n",
        "    shift_text = ''\n",
        "\n",
        "    for w in text:\n",
        "        if w != ' ': # When the letter is not an empty space\n",
        "            position = alphabet.index(w)\n",
        "            new_position = alphabet.index(w) - shift\n",
        "\n",
        "            # When the shifted letter surpasses the alphabet boundaries, it has to start over from 'Z'\n",
        "            if new_position < 0:\n",
        "                new_position += 26\n",
        "            shift_text += alphabet[new_position]\n",
        "\n",
        "        else: # When the letter is an empty space\n",
        "            shift_text += ' '\n",
        "\n",
        "    print(f\"Your text encrypted is: {shift_text.title()}\")\n",
        "\n",
        "decrypt()"
      ],
      "metadata": {
        "id": "oO2tkP-V63_n"
      },
      "execution_count": null,
      "outputs": []
    },
    {
      "cell_type": "markdown",
      "source": [
        "#### Part 4\n",
        "\n",
        "Putting all together and adding final touches to make Caesar Cipher's interface more attractive."
      ],
      "metadata": {
        "id": "6eZdeBN9Cqnd"
      }
    },
    {
      "cell_type": "code",
      "source": [
        "welcome = '''\n",
        "\n",
        " ██████  █████  ███████ ███████  █████  ██████       ██████ ██ ██████  ██   ██ ███████ ██████\n",
        "██      ██   ██ ██      ██      ██   ██ ██   ██     ██      ██ ██   ██ ██   ██ ██      ██   ██\n",
        "██      ███████ █████   ███████ ███████ ██████      ██      ██ ██████  ███████ █████   ██████\n",
        "██      ██   ██ ██           ██ ██   ██ ██   ██     ██      ██ ██      ██   ██ ██      ██   ██\n",
        " ██████ ██   ██ ███████ ███████ ██   ██ ██   ██      ██████ ██ ██      ██   ██ ███████ ██   ██\n",
        "\n",
        "\n",
        "It is a type of substitution cipher in which each letter in the plaintext is replaced by a letter\n",
        "some fixed number of positions down the alphabet.\n",
        "\n",
        "Let's play!\n",
        "\n",
        "'''\n",
        "print(welcome)\n",
        "\n",
        "### ----------------- Alphabet ------------------ ###\n",
        "\n",
        "alphabet = ['a', 'b', 'c', 'd', 'e', 'f', 'g', 'h', 'i', 'j', 'k', 'l', 'm', 'n', 'o', 'p', 'q', 'r', 's', 't', 'u', 'v', 'w', 'x', 'y', 'z']\n",
        "\n",
        "\n",
        "### --------------- Play the game --------------- ###\n",
        "\n",
        "def main():\n",
        "    while True:\n",
        "\n",
        "# Encode or decode\n",
        "        direction = input(\"Type 'encode' to encrypt, and 'decode' to decrypt:\\n\").lower()\n",
        "        if direction == 'encode':\n",
        "            encrypt()\n",
        "        elif direction == 'decode':\n",
        "            decrypt()\n",
        "        else:\n",
        "            continue\n",
        "\n",
        "# Replay or not\n",
        "        replay = input(\"Type 'Yes' if you want to go again. Otherwise type 'No'\\n\").lower()\n",
        "        if replay == 'yes':\n",
        "            continue\n",
        "        elif replay == 'no':\n",
        "            break\n",
        "\n",
        "\n",
        "### ------------- Encrypt Function -------------- ###\n",
        "\n",
        "def encrypt():\n",
        "    text = input(\"Type your message:\\n\").lower()\n",
        "    shift = int(input(\"Type the shift number:\\n\"))\n",
        "    # This way we avoid the chance to have an error when the shift variable is too big and find no index in the alphabet\n",
        "    if shift > 51:\n",
        "        shift %= 26\n",
        "    shift_text = ''\n",
        "\n",
        "    for w in text:\n",
        "        if w != ' ': # 1.1.1 When the letter is not an empty space\n",
        "            position = alphabet.index(w)\n",
        "            new_position = alphabet.index(w) + shift\n",
        "\n",
        "            # 1.1.2 When the shifted letter surpasses the alphabet boundaries, it has to start over from 'A'\n",
        "            if new_position > 25:\n",
        "                new_position -= 26\n",
        "            shift_text += alphabet[new_position]\n",
        "\n",
        "        else: # When the letter is an empty space\n",
        "            shift_text += ' '\n",
        "\n",
        "    print(f\"Your text encrypted is: {shift_text.title()}\")\n",
        "\n",
        "\n",
        "### ------------- Decrypt Function -------------- ###\n",
        "\n",
        "def decrypt():\n",
        "    text = input(\"Type your message:\\n\").lower()\n",
        "    shift = int(input(\"Type the shift number:\\n\"))\n",
        "    # This way we avoid the chance to have an error when the shift variable is too big and find no index in the alphabet\n",
        "    if shift > 51:\n",
        "        shift %= 26\n",
        "    shift_text = ''\n",
        "\n",
        "    for w in text:\n",
        "        if w != ' ': # When the letter is not an empty space\n",
        "            position = alphabet.index(w)\n",
        "            new_position = alphabet.index(w) - shift\n",
        "\n",
        "            # When the shifted letter surpasses the alphabet boundaries, it has to start over from 'Z'\n",
        "            if new_position < 0:\n",
        "                new_position += 26\n",
        "            shift_text += alphabet[new_position]\n",
        "\n",
        "        else: # When the letter is an empty space\n",
        "            shift_text += ' '\n",
        "\n",
        "    print(f\"Your text encrypted is: {shift_text.title()}\")\n",
        "\n",
        "\n",
        "\n",
        "main()"
      ],
      "metadata": {
        "id": "9EP2tjfNC1Fg"
      },
      "execution_count": null,
      "outputs": []
    },
    {
      "cell_type": "markdown",
      "source": [
        "#### Combined functions\n",
        "\n",
        "Create a new function called `Caesar` that combine the `encrypt` and `decrypt` functions, making the code more efficient."
      ],
      "metadata": {
        "id": "p2k8QvJ4Uyrr"
      }
    },
    {
      "cell_type": "code",
      "source": [
        "alphabet = ['a', 'b', 'c', 'd', 'e', 'f', 'g', 'h', 'i', 'j', 'k', 'l', 'm', 'n', 'o', 'p', 'q', 'r', 's', 't', 'u', 'v', 'w', 'x', 'y', 'z']\n",
        "\n",
        "text = input(\"Type your message:\\n\").lower()\n",
        "shift = int(input(\"Type the shift number:\\n\"))\n",
        "\n",
        "# This way we avoid the chance to have an error when the shift variable is too big and find no index in the alphabet\n",
        "if shift > 52:\n",
        "    shift %= 26\n",
        "\n",
        "direction = input(\"Type 'encode' to encrypt, and 'decode' to decrypt:\\n\").lower()\n",
        "\n",
        "def caesar (start_text, shift_amount, cipher_direction):\n",
        "    end_text = ''\n",
        "    if cipher_direction == 'decode':\n",
        "            shift_amount *= -1\n",
        "    for char in start_text:\n",
        "        if char in alphabet: # Only shift the words in alphabet and keep other symbols, numbers and spaces\n",
        "            position = alphabet.index(letter)\n",
        "            new_position = position + shift_amount\n",
        "            end_text += alphabet[new_position]\n",
        "        else:\n",
        "            end_text += char\n",
        "    print(f'Here is the {direction}d result: {end_text}')\n",
        "\n",
        "caesar(start_text=text, shift_amount=shift, cipher_direction=direction)"
      ],
      "metadata": {
        "id": "9JW1dzUOU-Gs"
      },
      "execution_count": null,
      "outputs": []
    },
    {
      "cell_type": "markdown",
      "source": [
        "### Grading Program\n",
        "\n",
        "Write a program that converts their scores to grades. The score criteria is the following:\n",
        "* Scores 91 - 100: Grade = \"Outstanding\"\n",
        "* Scores 81 - 90: Grades = \"Exceeds Expectations\"\n",
        "* Scores 71 - 80: Grades = \"Acceptable\"\n",
        "* Scores 70 or lower: Grades = \"Fail\"\n",
        "\n",
        "The program should contain student names as `keys` and their grades for `values`."
      ],
      "metadata": {
        "id": "I1ch8LNhyyZ0"
      }
    },
    {
      "cell_type": "code",
      "source": [
        "student_scores = {\n",
        " \"Harry\":81,\n",
        " \"Ron\":78,\n",
        " \"Hermione\":99,\n",
        " \"Draco\":74,\n",
        " \"Neville\":62,\n",
        "}\n",
        "\n",
        "# 1. Create an empty dic called student grade\n",
        "student_grade = {}\n",
        "\n",
        "# 2. Add the grades to student_grades\n",
        "for key in student_scores:\n",
        "    score = student_scores[key]\n",
        "    if score > 90:\n",
        "        score = \"Outstanding\"\n",
        "    elif score > 80:\n",
        "        score = \"Exceeds Expectations\"\n",
        "    elif score > 70:\n",
        "        score = \"Acceptable\"\n",
        "    else:\n",
        "        score = \"Fail\"\n",
        "    student_grade[key] = score\n",
        "\n",
        "print(student_grade)"
      ],
      "metadata": {
        "id": "qgaE3pTQy3lY"
      },
      "execution_count": null,
      "outputs": []
    },
    {
      "cell_type": "markdown",
      "source": [
        "### Dictionary in list\n",
        "Write a function that will work with the following line of code to add entry for Rusia to `travel_log`\n",
        "\n",
        "`add_new_country(\"Russia\", 2, [\"Moscow\",\"Saint Petersburg\"])`"
      ],
      "metadata": {
        "id": "nmuHHE2yGhkX"
      }
    },
    {
      "cell_type": "code",
      "source": [
        "travel_log = [\n",
        "    {\n",
        "        \"country\":\"France\",\n",
        "        \"visits\":12,\n",
        "        \"cities\":[\"Paris\",\"Lille\",\"Dijon\"]\n",
        "    },\n",
        "    {\n",
        "        \"country\":\"Germany\",\n",
        "        \"visits\":5,\n",
        "        \"cities\":[\"Berlin\",\"Hamburg\",\"Munich\"]\n",
        "    },\n",
        "]\n",
        "\n",
        "# 1. Write a function that allow new country visit to be added to the travel_log.\n",
        "\n",
        "def add_new_country(country_visited, times_visited, cities_visited):\n",
        "    new_country = {}\n",
        "    new_country[\"country\"] = country_visited\n",
        "    new_country[\"visits\"] = times_visited\n",
        "    new_country[\"cities\"] = cities_visited\n",
        "    travel_log.append(new_country)\n",
        "\n",
        "#\n",
        "add_new_country(\"Rusia\",2,[\"Moscow\",\"Saint Petersburg\"])\n",
        "print(travel_log)"
      ],
      "metadata": {
        "id": "To7xy-dJGiHz"
      },
      "execution_count": null,
      "outputs": []
    },
    {
      "cell_type": "markdown",
      "source": [
        "### The secret Auction Program\n",
        "\n",
        "Create a program that acts as a auction. The bidders can only provide their name and thei bid for an item. The bidders only can see their data when input, once a new bidder is added, the screen clear the console.\n",
        "\n",
        "Who have made the biggest bid wins.\n",
        "\n",
        "**Note**: Importing clear from replit and call `clear()` to clear the output in the `console.abs` whenever the players type 'yes' for new bidders.\n",
        "\n"
      ],
      "metadata": {
        "id": "3et26PJOK9F4"
      }
    },
    {
      "cell_type": "code",
      "source": [
        "import os\n",
        "\n",
        "logo = \"\"\n",
        "welcome = \"Welcome to the secret auction program.\"\n",
        "\n",
        "bidders = {}\n",
        "\n",
        "def bid_placement():\n",
        "    name = input(\"What is your name?: \")\n",
        "    bid = float(input(\"What is your bid?: $\"))\n",
        "    bidders[name] = bid # Appending name:bid to bidders\n",
        "\n",
        "bid_placement()\n",
        "\n",
        "while True:\n",
        "    replay = input(\"Are they any others bidders? Type 'Yes' or 'No' \")\n",
        "    if replay.lower() == \"yes\":\n",
        "        os.system(\"cls\")\n",
        "        bid_placement()\n",
        "        continue\n",
        "    elif replay.lower() == \"no\":\n",
        "        break\n",
        "    else:\n",
        "        continue\n",
        "\n",
        "# Finding the max value in the dictionary\n",
        "max_value = max(bidders.values())\n",
        "\n",
        "# Defining an empty variable where the for loop will place the key of the max_value value\n",
        "winner = \"\"\n",
        "\n",
        "# Search for the value that match the variable max_value. After that, assign the key to the variable winner.\n",
        "for key in bidders:\n",
        "    if bidders[key] == max_value:\n",
        "        winner = key\n",
        "\n",
        "print(f\"The winner is {winner} with a bid of ${max_value}.\")"
      ],
      "metadata": {
        "id": "I3uAp0ubPcWK"
      },
      "execution_count": null,
      "outputs": []
    },
    {
      "cell_type": "markdown",
      "source": [
        "### Days in Month\n",
        "\n",
        "Create a program that tells the user the total number of days for a given month and year, considering that some year are leap years and they hace an extra day on Februrary.\n",
        "1. Write a function called `days_in_month()` which will take a year and a month as input, e.g. `days_in_month(year=2022, month=2)`.\n",
        "\n",
        "2. It will use this information to work out the number of days in the month, then return that as the output, e.g. `28`\n",
        "\n",
        "3. Convert the function `is_leap()` to return `True` or `False`\n",
        "\n",
        "4. The list `days_in_month()` contain s the number of days in a month from January to December for a non-leap year."
      ],
      "metadata": {
        "id": "hUl8Bu9F7LvY"
      }
    },
    {
      "cell_type": "code",
      "source": [
        "def is_leap(yr):\n",
        "    if yr%4 == 0 and yr%400 == 0:\n",
        "        return True\n",
        "    else:\n",
        "        return False\n",
        "\n",
        "def days_in_month(yr,mo):\n",
        "    if month > 12 or month < 1:\n",
        "        return \"Invalid month\"\n",
        "    mo -= 1\n",
        "    leap = is_leap(yr)\n",
        "    month_days = [31, 28, 31, 30, 31, 30, 31, 31, 30, 31, 30, 31] # Non-leap year\n",
        "    if leap == True and mo == 1:\n",
        "        num_days = month_days[mo] + 1\n",
        "    else:\n",
        "        num_days = month_days[mo]\n",
        "\n",
        "    return num_days\n",
        "\n",
        "year = int(input(\"Enter a year: \"))\n",
        "month = int(input(\"Enter a month: \"))\n",
        "\n",
        "days = days_in_month(year, month)\n",
        "\n",
        "print(days)"
      ],
      "metadata": {
        "id": "aj1LE3o58YXd"
      },
      "execution_count": null,
      "outputs": []
    },
    {
      "cell_type": "markdown",
      "source": [
        "### Calculator"
      ],
      "metadata": {
        "id": "F1X-AJqANkTb"
      }
    },
    {
      "cell_type": "code",
      "source": [],
      "metadata": {
        "id": "sm8vtgHDNmYa"
      },
      "execution_count": null,
      "outputs": []
    },
    {
      "cell_type": "markdown",
      "source": [
        "# General notes\n",
        "\n",
        "José Portilla"
      ],
      "metadata": {
        "id": "EY8WVoQNR9Ce"
      }
    },
    {
      "cell_type": "markdown",
      "source": [
        "## File I/O"
      ],
      "metadata": {
        "id": "29u_UXHPSC00"
      }
    },
    {
      "cell_type": "code",
      "source": [
        "my_test = open('test.txt')\n",
        "my_test.read()\n",
        "my_test.close()"
      ],
      "metadata": {
        "id": "Eo-TYDj1hAGb"
      },
      "execution_count": null,
      "outputs": []
    },
    {
      "cell_type": "code",
      "source": [
        "with open('test.txt') as test_file:\n",
        "  contents = test_file.read()"
      ],
      "metadata": {
        "id": "dZAPnugH8Nud"
      },
      "execution_count": null,
      "outputs": []
    },
    {
      "cell_type": "code",
      "source": [
        "with open('test.txt', mode='a') as f:\n",
        "  f.write('This is an append to the line\\n')"
      ],
      "metadata": {
        "id": "ZnhJNl0GPKwV"
      },
      "execution_count": null,
      "outputs": []
    },
    {
      "cell_type": "code",
      "source": [
        "# Mode 'w' will create a file if it does not exist\n",
        "with open('random.txt', mode='w') as f:\n",
        "  f.write(\"There is no error because the 'w' mode write an existing file, but if the file does not exist, it will create right away\")"
      ],
      "metadata": {
        "id": "NCuBaGiPPfOz"
      },
      "execution_count": null,
      "outputs": []
    },
    {
      "cell_type": "code",
      "source": [
        "# Read the file content and store it in a variable called 'c'\n",
        "with open('random.txt', mode='r') as r:\n",
        "  c = r.read()\n",
        "\n",
        "print(c)"
      ],
      "metadata": {
        "id": "2IUvze9-QNiX"
      },
      "execution_count": null,
      "outputs": []
    },
    {
      "cell_type": "markdown",
      "source": [
        "## * args and ** kwargs"
      ],
      "metadata": {
        "id": "TqX9apWIPL4J"
      }
    },
    {
      "cell_type": "code",
      "source": [
        "# Creating a def function using an arbitrary number of arguments: *args that will return a tuple\n",
        "def myfunc(*args):\n",
        "    for item in args:\n",
        "      print(item)\n",
        "\n",
        "myfunc(40,50,120,55,3)"
      ],
      "metadata": {
        "id": "5eKMnIBriHpM"
      },
      "execution_count": null,
      "outputs": []
    },
    {
      "cell_type": "code",
      "source": [
        "# Creating a def function using an arbitrary number of arguments: **kwargs which will return a dictionary\n",
        "def function(**kwargs):\n",
        "  if 'fruit' in kwargs:\n",
        "    print(f\"My fruit of choice is {kwargs['fruit']}\")\n",
        "  else:\n",
        "    print('I did not find any fruit here')\n",
        "\n",
        "function(fruit='grape', veggie='celery')"
      ],
      "metadata": {
        "id": "5RiKLLeHgCD5"
      },
      "execution_count": null,
      "outputs": []
    },
    {
      "cell_type": "code",
      "source": [
        "# combining *args and **kwargs\n",
        "def myfunc(*args,**kwargs):\n",
        "  print(f\"I would like {args[0]} {kwargs['food']}\")\n",
        "\n",
        "myfunc(10,20,30,fruit = 'orange', food = 'eggs', animal = 'cat')"
      ],
      "metadata": {
        "colab": {
          "base_uri": "https://localhost:8080/"
        },
        "id": "f67mPfu1eU6E",
        "outputId": "91ac0307-5e61-44ed-d201-6fd16371858c"
      },
      "execution_count": null,
      "outputs": [
        {
          "output_type": "stream",
          "name": "stdout",
          "text": [
            "I would like 10 eggs\n"
          ]
        }
      ]
    },
    {
      "cell_type": "markdown",
      "source": [
        "## Lambda, Map and Filter"
      ],
      "metadata": {
        "id": "N3tfDQD4kJpL"
      }
    },
    {
      "cell_type": "code",
      "source": [],
      "metadata": {
        "id": "BUjJW6I5kO9J"
      },
      "execution_count": null,
      "outputs": []
    },
    {
      "cell_type": "markdown",
      "source": [
        "## Try ... Except"
      ],
      "metadata": {
        "id": "yNNrRdoneK6p"
      }
    },
    {
      "cell_type": "code",
      "source": [
        "rawstr = input('Enter a number: ')\n",
        "try:\n",
        "  ival = int(rawstr)\n",
        "except:\n",
        "  ival = -1\n",
        "\n",
        "if ival > 0:\n",
        "  print('Nice work')\n",
        "else:\n",
        "  print('Not a number')"
      ],
      "metadata": {
        "colab": {
          "base_uri": "https://localhost:8080/"
        },
        "id": "rY3nQmbteNRr",
        "outputId": "f9173c8f-2ba1-4b5e-8873-e93b6ecb03da"
      },
      "execution_count": null,
      "outputs": [
        {
          "output_type": "stream",
          "name": "stdout",
          "text": [
            "Enter a number: d\n",
            "Not a number\n"
          ]
        }
      ]
    },
    {
      "cell_type": "code",
      "source": [
        "while True:\n",
        "  line = input('> ')\n",
        "  if line[0] == '#':\n",
        "    continue\n",
        "  if line == 'done':\n",
        "    break\n",
        "  print(line)\n",
        "print('Done!')"
      ],
      "metadata": {
        "id": "RoWN1hPppxxd"
      },
      "execution_count": null,
      "outputs": []
    },
    {
      "cell_type": "markdown",
      "source": [
        "## Exercises"
      ],
      "metadata": {
        "id": "Wt8S3vkgXZ15"
      }
    },
    {
      "cell_type": "markdown",
      "source": [
        "### Module 5"
      ],
      "metadata": {
        "id": "U2EytAWKGSIy"
      }
    },
    {
      "cell_type": "code",
      "source": [
        "# User for, split(), and if to create a Statement that will print out words that starts with 's'\n",
        "\n",
        "st = 'Print only the words that start with s in this sentence'\n",
        "st_list = st.split()\n",
        "\n",
        "for word in st_list:\n",
        "  if word[0].lower() == 's':\n",
        "    print(word)"
      ],
      "metadata": {
        "id": "SfoHJuKGSuXn"
      },
      "execution_count": null,
      "outputs": []
    },
    {
      "cell_type": "code",
      "source": [
        "# Use range() to print all the even numbers from 0 to 10\n",
        "\n",
        "for r in range(11):\n",
        "  if r%2 != 1:\n",
        "    print(r)\n",
        "\n",
        "##### ------------------------------------------------------------ #####\n",
        "# José Portilla answer\n",
        "##### ------------------------------------------------------------ #####\n",
        "\n",
        "for num in range(0,11,2):\n",
        "  print(num)"
      ],
      "metadata": {
        "id": "XnLq2ZKaXco3"
      },
      "execution_count": null,
      "outputs": []
    },
    {
      "cell_type": "code",
      "source": [
        "# Use a list of comprehension to create a list of all numbers between 1 and 50 that are divisible by 3.\n",
        "\n",
        "# List comprehension mode\n",
        "numbers = [num for num in range(1,51) if num%3 == 0]\n",
        "print(numbers)\n",
        "\n",
        "#Regular mode\n",
        "numbers= []\n",
        "for num in range(1,51):\n",
        "  if num%3 == 0:\n",
        "    numbers.append(num)\n",
        "\n",
        "print(numbers)"
      ],
      "metadata": {
        "id": "ULcWnJrnYvGN"
      },
      "execution_count": null,
      "outputs": []
    },
    {
      "cell_type": "code",
      "source": [
        "# Go to the string below and if the length of a word is even print \"even!\"\n",
        "\n",
        "st = 'Print every word in this sentence that has an even number of letters'\n",
        "\n",
        "for word in st.split():\n",
        "  if len(word)%2 == 0:\n",
        "    print(word + ' is even!')"
      ],
      "metadata": {
        "id": "2LDvIqMkIOCC"
      },
      "execution_count": null,
      "outputs": []
    },
    {
      "cell_type": "code",
      "source": [
        "# Write a program that prints the integers from 1 to 100. But for multiples of three print \"Fizz\" instead of the number, and for the multiples of five print \"Buzz\". For numbers which are multiples of both three and five print \"FizzBuzz\"\n",
        "\n",
        "for num in range(1,101):\n",
        "  if num % 3 == 0 and num % 5 == 0:\n",
        "    print('FizzBuzz')\n",
        "  elif num % 3 == 0:\n",
        "    print('Fizz')\n",
        "  elif num % 5 == 0:\n",
        "    print('Buzz')\n",
        "  else:\n",
        "    print(num)"
      ],
      "metadata": {
        "id": "6Y4I-wNRJooz"
      },
      "execution_count": null,
      "outputs": []
    },
    {
      "cell_type": "code",
      "source": [
        "# Use list comprehension to create a list of the first letters of every word in the string below\n",
        "\n",
        "st = 'Create a list of the first letters of every word in this string'\n",
        "\n",
        "# List of comprehension mode\n",
        "[word[0] for word in st.split()]\n",
        "\n",
        "# Regular mode\n",
        "words = []\n",
        "for word in st.split():\n",
        "  words.append(word[0])\n",
        "\n",
        "print(words)"
      ],
      "metadata": {
        "id": "OK1jfI55LaCT"
      },
      "execution_count": null,
      "outputs": []
    },
    {
      "cell_type": "markdown",
      "source": [
        "### Module 6"
      ],
      "metadata": {
        "id": "eKNC0jMPihAX"
      }
    },
    {
      "cell_type": "code",
      "source": [
        "# Lesser of two evens. Write a function that returns the lesser of two given number if both numbers are even, but returns the greater if one or both numbers is odd.\n",
        "    # lesser_of_two_evens(2,4) --> 2\n",
        "    # lesser_of_two_evens(2,5) --> 5\n",
        "\n",
        "def lesser_of_two_evens(a,b):\n",
        "  if a%2 == 0 and b%2 == 0:\n",
        "    if a<b:\n",
        "      return a\n",
        "    else:\n",
        "      return b\n",
        "  else:\n",
        "    if a>b:\n",
        "      return a\n",
        "    else:\n",
        "      return b\n",
        "\n",
        "lesser_of_two_evens(12,11)\n",
        "\n",
        "##### ------------------------------------------------------------ #####\n",
        "# José Portilla answer\n",
        "##### ------------------------------------------------------------ #####\n",
        "\n",
        "def lesser_of_two_evens(a,b):\n",
        "\n",
        "  if a%2 == 0 and b%2 == 0:\n",
        "    return min(a,b)\n",
        "  else:\n",
        "    return max(a,b)"
      ],
      "metadata": {
        "id": "rWfwOMjIijkR"
      },
      "execution_count": null,
      "outputs": []
    },
    {
      "cell_type": "code",
      "source": [
        "# Animal crackers. Write a function that takes a two-word string and returns True if both words begin with the same letter.\n",
        "\n",
        "def animal(text):\n",
        "  sp = text.split()\n",
        "  first = sp[0].lower()\n",
        "  second = sp[1].lower()\n",
        "  if first[0] == second[0]:\n",
        "    return True\n",
        "  else:\n",
        "    pass\n",
        "\n",
        "animal('Today .tFlase')\n",
        "\n",
        "\n",
        "##### ------------------------------------------------------------ #####\n",
        "# José Portilla answer\n",
        "##### ------------------------------------------------------------ #####\n",
        "\n",
        "def animal_crackers(text):\n",
        "  wordlist = text.lower().split()\n",
        "\n",
        "  return wordlist[0][0] == wordlist[1][0]\n",
        "\n",
        "animal_crackers('Falsing fare')"
      ],
      "metadata": {
        "id": "dsStlUegjQvD"
      },
      "execution_count": null,
      "outputs": []
    },
    {
      "cell_type": "code",
      "source": [
        "# Makes twenty. Given two integers, return True if the sum of the integers is 20 or if one of the integers is 20. If not, return False\n",
        "    # makes_twenty(20,10) --> True\n",
        "    # makes_twenty(12,8) --> True\n",
        "    # makes_twenty(2,3) --> False\n",
        "\n",
        "def makes_twenty(a,b):\n",
        "  return a == 20 or b == 20 or (a+b) == 20\n",
        "\n",
        "makes_twenty(2,20)"
      ],
      "metadata": {
        "id": "YQVbXFMGzVFr"
      },
      "execution_count": null,
      "outputs": []
    },
    {
      "cell_type": "code",
      "source": [
        "# Old MacDonald. Write a function that capitalizes the first and fourth letters of a name\n",
        "      # old_macdonald('macdonald') --> MacDonald\n",
        "# Note: 'macdonald'.capitalize() returns 'Macdonald'\n",
        "\n",
        "def macdonald(text):\n",
        "  return text[0].upper()+text[1:3]+text[3].upper()+text[4:]\n",
        "\n",
        "macdonald('macdonald')\n",
        "\n",
        "\n",
        "##### ------------------------------------------------------------ #####\n",
        "# José Portilla answer\n",
        "##### ------------------------------------------------------------ #####\n",
        "\n",
        "def old_macdonald(name):\n",
        "  first_half = name[:3]\n",
        "  second_half = name[3:]\n",
        "\n",
        "  return first_half.capitalize() + second_half.capitalize()\n",
        "\n",
        "old_macdonald('macdonalds')"
      ],
      "metadata": {
        "id": "k9IegRP41Qhv"
      },
      "execution_count": null,
      "outputs": []
    },
    {
      "cell_type": "code",
      "source": [
        "# Master Yoda. Given a sentence, return a sentence with the words reversed\n",
        "      # master_yoda('I am home') --> 'home am I'\n",
        "      # master_yoda('We are ready') --> 'ready are We'\n",
        "\n",
        "def master_yoda(text):\n",
        "  words = text.split()\n",
        "  words.reverse()\n",
        "  c = \" \".join(words)\n",
        "  return c\n",
        "\n",
        "master_yoda('We are home honey')"
      ],
      "metadata": {
        "id": "7skMdGkb-LRX"
      },
      "execution_count": null,
      "outputs": []
    },
    {
      "cell_type": "code",
      "source": [
        "# Almost there. Given an integer n, return True if n is within 10 of either 100 or 200\n",
        "      # almost_there(90) --> True\n",
        "      # almost_there(104) --> True\n",
        "      # almost_there(150) --> False\n",
        "      # almost_there(209) --> True\n",
        "\n",
        "def almost_there(n):\n",
        "  return (abs(100-n) <= 10) or (abs(200-n) <= 10)\n",
        "\n",
        "almost_there(90)"
      ],
      "metadata": {
        "id": "NyEddzLCEg4O"
      },
      "execution_count": null,
      "outputs": []
    },
    {
      "cell_type": "code",
      "source": [
        "# Write a function that computes the volume of a sphere given its radius.\n",
        "\n",
        "def vol(rad):\n",
        "  return (4/3)*(rad**3) * 3.1415\n",
        "\n",
        "vol(4)"
      ],
      "metadata": {
        "colab": {
          "base_uri": "https://localhost:8080/"
        },
        "id": "TZHR2mb9KHfd",
        "outputId": "85bd0ab1-37a5-496a-c1d6-c3b9bf9cbb20"
      },
      "execution_count": null,
      "outputs": [
        {
          "output_type": "execute_result",
          "data": {
            "text/plain": [
              "268.07466666666664"
            ]
          },
          "metadata": {},
          "execution_count": 24
        }
      ]
    },
    {
      "cell_type": "code",
      "source": [
        "# Write a function that check whether a number is in a given range (inlcusive of high and low)\n",
        "\n",
        "# With a string as a response\n",
        "def ran_check(num,low,high):\n",
        "  if num in range(low,high):\n",
        "    print(f\"{num} is in the range\")\n",
        "  else:\n",
        "    print(f\"{num} is outside the range\")\n",
        "\n",
        "ran_check(11,1,12)\n",
        "\n",
        "# Wirh a boolean as a response\n",
        "def ran_bool(num,low,high):\n",
        "  return num in range(low,high)\n",
        "\n",
        "ran_bool(11,1,12)"
      ],
      "metadata": {
        "id": "SdJLUQ1cKyHj"
      },
      "execution_count": null,
      "outputs": []
    },
    {
      "cell_type": "code",
      "source": [
        "# Write a Python function that accepts a string and calculate the numbver of upper case letters and lower case letters.\n",
        "      # Sample string: 'Hello Mr. Rogers, how are you this fine Tuesday'\n",
        "      # Expected output:\n",
        "      # No. of upper case characters: 4\n",
        "      # No. of lower case characters: 33\n",
        "\n",
        "# Two lists, the first with the alphabet in lower case; the second in upper. For loop to count how many letters match in each list.\n",
        "\n",
        "lower = ['a', 'b', 'c', 'd', 'e', 'f', 'g', 'h', 'i', 'j', 'k', 'l', 'm', 'n', 'o', 'p', 'q', 'r', 's', 't', 'u', 'v', 'w', 'x', 'y', 'z']\n",
        "upper = ['A', 'B', 'C', 'D', 'E', 'F', 'G', 'H', 'I', 'J', 'K', 'L', 'M', 'N', 'O', 'P', 'Q', 'R', 'S', 'T', 'U', 'V', 'W', 'X', 'Y', 'Z']\n",
        "\n",
        "lower_count = 0\n",
        "upper_count = 0\n",
        "\n",
        "sentence = ('This is The SentYnaUJS abast')\n",
        "\n",
        "for w in sentence:\n",
        "    if w in lower:\n",
        "        lower_count += 1\n",
        "    if w in upper:\n",
        "        upper_count += 1\n",
        "print(f\"No. of upper case characters: {upper_count}\")\n",
        "print(f\"No. of lower case characters: {lower_count}\")\n",
        "\n",
        "##### ------------------------------------------------------------ #####\n",
        "# José Portilla answer\n",
        "##### ------------------------------------------------------------ #####\n",
        "\n",
        "def up_low(s):\n",
        "  d={'upper':0, 'lower':0}\n",
        "  for c in s:\n",
        "    if c.isupper():\n",
        "      d['upper'] +=1\n",
        "    elif c.islower():\n",
        "      d['lower'] +=1\n",
        "    else:\n",
        "      pass\n",
        "  print(f\"Original string: {s}\")\n",
        "  print(f\"No. of upper case characters: {d['upper']}\")\n",
        "  print(f\"No. of lower case characters: {d['lower']}\")\n",
        "\n",
        "up_low('This is The SentYnaUJS abast')"
      ],
      "metadata": {
        "id": "_saoP14YLE0w"
      },
      "execution_count": null,
      "outputs": []
    },
    {
      "cell_type": "code",
      "source": [
        "# Write a function that takes a list and returns a new list with unique elements of the first list.\n",
        "      # Sample list: [1,1,1,1,2,2,3,3,3,3,4,5]\n",
        "      # Unique list: [1,2,3,4,5]\n",
        "\n",
        "# def unique(sl):\n",
        "#     # insert the list to the set\n",
        "#     list_set = set(sl)\n",
        "#     # convert the set to the list\n",
        "#     unique_list = (list(list_set))\n",
        "#     for x in unique_list:\n",
        "#         print(x)\n",
        "\n",
        "# sl = [1,1,1,1,2,2,3,3,3,3,4,5]\n",
        "# print(\"the unique values from 1st list is\")\n",
        "# unique(sl)"
      ],
      "metadata": {
        "id": "fniSf-1V4x1F"
      },
      "execution_count": null,
      "outputs": []
    },
    {
      "cell_type": "code",
      "source": [
        "# Write a function to multiply all the numbers in a list\n",
        "      # sample_list = [1,2,3,-4]\n",
        "      # Expected output: -24"
      ],
      "metadata": {
        "id": "vuzY4Mvp6yhG"
      },
      "execution_count": null,
      "outputs": []
    },
    {
      "cell_type": "code",
      "source": [
        "# Write a function that checks whether a passed string is palindrome or not\n",
        "\n",
        "# Note: a palindrome is a word, phrase or sequenca that reads the same backwards as forward. e.g. madam or nurse run. b"
      ],
      "metadata": {
        "id": "rk2U_hn663DG"
      },
      "execution_count": null,
      "outputs": []
    }
  ]
}